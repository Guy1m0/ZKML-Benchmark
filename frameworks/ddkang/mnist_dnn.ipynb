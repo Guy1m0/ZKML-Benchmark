{
 "cells": [
  {
   "cell_type": "markdown",
   "metadata": {},
   "source": [
    "### Prepare Model"
   ]
  },
  {
   "cell_type": "code",
   "execution_count": 2,
   "metadata": {},
   "outputs": [
    {
     "name": "stderr",
     "output_type": "stream",
     "text": [
      "2024-01-30 23:58:38.039221: I tensorflow/core/util/port.cc:113] oneDNN custom operations are on. You may see slightly different numerical results due to floating-point round-off errors from different computation orders. To turn them off, set the environment variable `TF_ENABLE_ONEDNN_OPTS=0`.\n",
      "2024-01-30 23:58:38.072168: E external/local_xla/xla/stream_executor/cuda/cuda_dnn.cc:9261] Unable to register cuDNN factory: Attempting to register factory for plugin cuDNN when one has already been registered\n",
      "2024-01-30 23:58:38.072197: E external/local_xla/xla/stream_executor/cuda/cuda_fft.cc:607] Unable to register cuFFT factory: Attempting to register factory for plugin cuFFT when one has already been registered\n",
      "2024-01-30 23:58:38.072918: E external/local_xla/xla/stream_executor/cuda/cuda_blas.cc:1515] Unable to register cuBLAS factory: Attempting to register factory for plugin cuBLAS when one has already been registered\n",
      "2024-01-30 23:58:38.077703: I tensorflow/core/platform/cpu_feature_guard.cc:182] This TensorFlow binary is optimized to use available CPU instructions in performance-critical operations.\n",
      "To enable the following instructions: AVX2 AVX_VNNI FMA, in other operations, rebuild TensorFlow with the appropriate compiler flags.\n",
      "2024-01-30 23:58:38.608930: W tensorflow/compiler/tf2tensorrt/utils/py_utils.cc:38] TF-TRT Warning: Could not find TensorRT\n"
     ]
    }
   ],
   "source": [
    "import numpy as np\n",
    "import torch\n",
    "import tensorflow as tf\n",
    "\n",
    "device = 'cuda' if torch.cuda.is_available() else 'cpu'"
   ]
  },
  {
   "cell_type": "code",
   "execution_count": 3,
   "metadata": {},
   "outputs": [],
   "source": [
    "# Load TensorFlow MNIST data\n",
    "mnist = tf.keras.datasets.mnist\n",
    "(train_images, train_labels), (test_images, test_labels) = mnist.load_data()\n",
    "\n",
    "# Normalize and flatten the images\n",
    "train_images_tf = train_images.reshape((-1, 28*28)) / 255.0\n",
    "test_images_tf = test_images.reshape((-1, 28*28)) / 255.0"
   ]
  },
  {
   "cell_type": "code",
   "execution_count": 4,
   "metadata": {},
   "outputs": [
    {
     "name": "stderr",
     "output_type": "stream",
     "text": [
      "2024-01-30 23:58:50.860708: I external/local_xla/xla/stream_executor/cuda/cuda_executor.cc:901] successful NUMA node read from SysFS had negative value (-1), but there must be at least one NUMA node, so returning NUMA node zero. See more at https://github.com/torvalds/linux/blob/v6.0/Documentation/ABI/testing/sysfs-bus-pci#L344-L355\n",
      "2024-01-30 23:58:50.861750: I external/local_xla/xla/stream_executor/cuda/cuda_executor.cc:901] successful NUMA node read from SysFS had negative value (-1), but there must be at least one NUMA node, so returning NUMA node zero. See more at https://github.com/torvalds/linux/blob/v6.0/Documentation/ABI/testing/sysfs-bus-pci#L344-L355\n",
      "2024-01-30 23:58:50.861863: I external/local_xla/xla/stream_executor/cuda/cuda_executor.cc:901] successful NUMA node read from SysFS had negative value (-1), but there must be at least one NUMA node, so returning NUMA node zero. See more at https://github.com/torvalds/linux/blob/v6.0/Documentation/ABI/testing/sysfs-bus-pci#L344-L355\n",
      "2024-01-30 23:58:50.862871: I external/local_xla/xla/stream_executor/cuda/cuda_executor.cc:901] successful NUMA node read from SysFS had negative value (-1), but there must be at least one NUMA node, so returning NUMA node zero. See more at https://github.com/torvalds/linux/blob/v6.0/Documentation/ABI/testing/sysfs-bus-pci#L344-L355\n",
      "2024-01-30 23:58:50.862981: I external/local_xla/xla/stream_executor/cuda/cuda_executor.cc:901] successful NUMA node read from SysFS had negative value (-1), but there must be at least one NUMA node, so returning NUMA node zero. See more at https://github.com/torvalds/linux/blob/v6.0/Documentation/ABI/testing/sysfs-bus-pci#L344-L355\n",
      "2024-01-30 23:58:50.863061: I external/local_xla/xla/stream_executor/cuda/cuda_executor.cc:901] successful NUMA node read from SysFS had negative value (-1), but there must be at least one NUMA node, so returning NUMA node zero. See more at https://github.com/torvalds/linux/blob/v6.0/Documentation/ABI/testing/sysfs-bus-pci#L344-L355\n",
      "2024-01-30 23:58:50.952429: I external/local_xla/xla/stream_executor/cuda/cuda_executor.cc:901] successful NUMA node read from SysFS had negative value (-1), but there must be at least one NUMA node, so returning NUMA node zero. See more at https://github.com/torvalds/linux/blob/v6.0/Documentation/ABI/testing/sysfs-bus-pci#L344-L355\n",
      "2024-01-30 23:58:50.952543: I external/local_xla/xla/stream_executor/cuda/cuda_executor.cc:901] successful NUMA node read from SysFS had negative value (-1), but there must be at least one NUMA node, so returning NUMA node zero. See more at https://github.com/torvalds/linux/blob/v6.0/Documentation/ABI/testing/sysfs-bus-pci#L344-L355\n",
      "2024-01-30 23:58:50.952634: I external/local_xla/xla/stream_executor/cuda/cuda_executor.cc:901] successful NUMA node read from SysFS had negative value (-1), but there must be at least one NUMA node, so returning NUMA node zero. See more at https://github.com/torvalds/linux/blob/v6.0/Documentation/ABI/testing/sysfs-bus-pci#L344-L355\n",
      "2024-01-30 23:58:50.952712: I tensorflow/core/common_runtime/gpu/gpu_device.cc:1929] Created device /job:localhost/replica:0/task:0/device:GPU:0 with 20840 MB memory:  -> device: 0, name: NVIDIA GeForce RTX 4090, pci bus id: 0000:01:00.0, compute capability: 8.9\n"
     ]
    }
   ],
   "source": [
    "from tensorflow import keras\n",
    "num_classes = 10\n",
    "\n",
    "model_tf = keras.Sequential([\n",
    "    keras.layers.InputLayer(input_shape=(28*28,)),  # Adjusted for 28x28 images\n",
    "#    keras.layers.Dense(128, activation='relu'),     # Increased number of neurons\n",
    "    keras.layers.Dense(56, activation='relu'),      # Additional hidden layer\n",
    "    keras.layers.Dense(num_classes, activation='softmax')  # Output layer for 10 classes\n",
    "])\n",
    "\n",
    "model_tf.compile(optimizer='adam', \n",
    "              loss='sparse_categorical_crossentropy', \n",
    "              metrics=['accuracy'])"
   ]
  },
  {
   "cell_type": "code",
   "execution_count": 5,
   "metadata": {},
   "outputs": [
    {
     "name": "stdout",
     "output_type": "stream",
     "text": [
      "Epoch 1/5\n"
     ]
    },
    {
     "name": "stderr",
     "output_type": "stream",
     "text": [
      "2024-01-30 23:58:57.556004: I external/local_tsl/tsl/platform/default/subprocess.cc:304] Start cannot spawn child process: No such file or directory\n",
      "2024-01-30 23:58:57.597950: I external/local_xla/xla/service/service.cc:168] XLA service 0x7f3270003070 initialized for platform CUDA (this does not guarantee that XLA will be used). Devices:\n",
      "2024-01-30 23:58:57.597968: I external/local_xla/xla/service/service.cc:176]   StreamExecutor device (0): NVIDIA GeForce RTX 4090, Compute Capability 8.9\n",
      "2024-01-30 23:58:57.602834: I tensorflow/compiler/mlir/tensorflow/utils/dump_mlir_util.cc:269] disabling MLIR crash reproducer, set env var `MLIR_CRASH_REPRODUCER_DIRECTORY` to enable.\n",
      "2024-01-30 23:58:57.615763: I external/local_xla/xla/stream_executor/cuda/cuda_dnn.cc:454] Loaded cuDNN version 8902\n",
      "WARNING: All log messages before absl::InitializeLog() is called are written to STDERR\n",
      "I0000 00:00:1706630337.675971  398306 device_compiler.h:186] Compiled cluster using XLA!  This line is logged at most once for the lifetime of the process.\n"
     ]
    },
    {
     "name": "stdout",
     "output_type": "stream",
     "text": [
      "1688/1688 [==============================] - 2s 1ms/step - loss: 0.3203 - accuracy: 0.9100 - val_loss: 0.1511 - val_accuracy: 0.9580\n",
      "Epoch 2/5\n",
      "1688/1688 [==============================] - 2s 1ms/step - loss: 0.1595 - accuracy: 0.9542 - val_loss: 0.1119 - val_accuracy: 0.9673\n",
      "Epoch 3/5\n",
      "1688/1688 [==============================] - 2s 1ms/step - loss: 0.1159 - accuracy: 0.9664 - val_loss: 0.1066 - val_accuracy: 0.9670\n",
      "Epoch 4/5\n",
      "1688/1688 [==============================] - 2s 1ms/step - loss: 0.0918 - accuracy: 0.9723 - val_loss: 0.0940 - val_accuracy: 0.9727\n",
      "Epoch 5/5\n",
      "1688/1688 [==============================] - 2s 1ms/step - loss: 0.0758 - accuracy: 0.9768 - val_loss: 0.0907 - val_accuracy: 0.9747\n",
      "313/313 - 0s - loss: 0.0918 - accuracy: 0.9722 - 229ms/epoch - 731us/step\n",
      "\n",
      "Test accuracy: 0.9721999764442444\n"
     ]
    }
   ],
   "source": [
    "# Train the model\n",
    "model_tf.fit(train_images_tf, train_labels, epochs=5, batch_size=32, validation_split=0.1)\n",
    "\n",
    "# Evaluate the model\n",
    "test_loss, test_acc = model_tf.evaluate(test_images_tf, test_labels, verbose=2)\n",
    "print('\\nTest accuracy:', test_acc)"
   ]
  },
  {
   "cell_type": "code",
   "execution_count": 16,
   "metadata": {},
   "outputs": [
    {
     "name": "stdout",
     "output_type": "stream",
     "text": [
      "INFO:tensorflow:Assets written to: /tmp/tmpvk4n6cbj/assets\n"
     ]
    },
    {
     "name": "stderr",
     "output_type": "stream",
     "text": [
      "INFO:tensorflow:Assets written to: /tmp/tmpvk4n6cbj/assets\n",
      "2024-01-31 00:29:59.152855: W tensorflow/compiler/mlir/lite/python/tf_tfl_flatbuffer_helpers.cc:378] Ignored output_format.\n",
      "2024-01-31 00:29:59.152873: W tensorflow/compiler/mlir/lite/python/tf_tfl_flatbuffer_helpers.cc:381] Ignored drop_control_dependency.\n",
      "2024-01-31 00:29:59.153013: I tensorflow/cc/saved_model/reader.cc:83] Reading SavedModel from: /tmp/tmpvk4n6cbj\n",
      "2024-01-31 00:29:59.153472: I tensorflow/cc/saved_model/reader.cc:51] Reading meta graph with tags { serve }\n",
      "2024-01-31 00:29:59.153481: I tensorflow/cc/saved_model/reader.cc:146] Reading SavedModel debug info (if present) from: /tmp/tmpvk4n6cbj\n",
      "2024-01-31 00:29:59.154789: I tensorflow/cc/saved_model/loader.cc:233] Restoring SavedModel bundle.\n",
      "2024-01-31 00:29:59.180267: I tensorflow/cc/saved_model/loader.cc:217] Running initialization op on SavedModel bundle at path: /tmp/tmpvk4n6cbj\n",
      "2024-01-31 00:29:59.186787: I tensorflow/cc/saved_model/loader.cc:316] SavedModel load for tags { serve }; Status: success: OK. Took 33774 microseconds.\n",
      "Summary on the non-converted ops:\n",
      "---------------------------------\n",
      " * Accepted dialects: tfl, builtin, func\n",
      " * Non-Converted Ops: 4, Total Ops 10, % non-converted = 40.00 %\n",
      " * 4 ARITH ops\n",
      "\n",
      "- arith.constant:    4 occurrences  (f32: 4)\n",
      "\n",
      "\n",
      "\n",
      "  (f32: 2)\n",
      "  (f32: 1)\n"
     ]
    }
   ],
   "source": [
    "converter = tf.lite.TFLiteConverter.from_keras_model(model_tf)\n",
    "tflite_model = converter.convert()\n",
    "\n",
    "with open('model_tf.tflite', 'wb') as f:\n",
    "    f.write(tflite_model)"
   ]
  },
  {
   "cell_type": "markdown",
   "metadata": {},
   "source": [
    "### Convert model to tflite and msgpack"
   ]
  },
  {
   "cell_type": "code",
   "execution_count": 17,
   "metadata": {},
   "outputs": [],
   "source": [
    "convert_path = \"./tools/converter.py\"\n",
    "model_in_path = \"model_tf.tflite\"\n",
    "model_out_path = \"./msgpack/converted_model.msgpack\"\n",
    "config_path = \"./msgpack/config.msgpack\"\n",
    "\n",
    "scale_factor = 512\n",
    "k = 17\n",
    "num_cols = 10 # not understand\n",
    "num_randoms = 1024 # not understand\n",
    "\n",
    "command_1 = [\"python\", convert_path, \"--model\", f\"{model_in_path}\",\n",
    "           \"--model_output\", f\"{model_out_path}\", \"--config_output\",\n",
    "           config_path, \"--scale_factor\", str(scale_factor),\n",
    "           \"--k\", str(k), \"--num_cols\", str(num_cols), \"--num_randoms\",\n",
    "           str(num_randoms)]\n",
    "\n"
   ]
  },
  {
   "cell_type": "code",
   "execution_count": 18,
   "metadata": {},
   "outputs": [
    {
     "name": "stderr",
     "output_type": "stream",
     "text": [
      "2024-01-31 00:30:12.759571: I tensorflow/core/util/port.cc:113] oneDNN custom operations are on. You may see slightly different numerical results due to floating-point round-off errors from different computation orders. To turn them off, set the environment variable `TF_ENABLE_ONEDNN_OPTS=0`.\n",
      "2024-01-31 00:30:12.779368: E external/local_xla/xla/stream_executor/cuda/cuda_dnn.cc:9261] Unable to register cuDNN factory: Attempting to register factory for plugin cuDNN when one has already been registered\n",
      "2024-01-31 00:30:12.779391: E external/local_xla/xla/stream_executor/cuda/cuda_fft.cc:607] Unable to register cuFFT factory: Attempting to register factory for plugin cuFFT when one has already been registered\n",
      "2024-01-31 00:30:12.779905: E external/local_xla/xla/stream_executor/cuda/cuda_blas.cc:1515] Unable to register cuBLAS factory: Attempting to register factory for plugin cuBLAS when one has already been registered\n",
      "2024-01-31 00:30:12.782972: I tensorflow/core/platform/cpu_feature_guard.cc:182] This TensorFlow binary is optimized to use available CPU instructions in performance-critical operations.\n",
      "To enable the following instructions: AVX2 AVX_VNNI FMA, in other operations, rebuild TensorFlow with the appropriate compiler flags.\n",
      "2024-01-31 00:30:13.149245: W tensorflow/compiler/tf2tensorrt/utils/py_utils.cc:38] TF-TRT Warning: Could not find TensorRT\n"
     ]
    },
    {
     "name": "stdout",
     "output_type": "stream",
     "text": [
      "[{'layer_type': 'FullyConnected', 'inp_idxes': [0, 3, 2], 'inp_shapes': [[1, 784], [56, 784], [56]], 'out_idxes': [5], 'out_shapes': [[1, 56]], 'params': [1], 'mask': []}, {'layer_type': 'FullyConnected', 'inp_idxes': [5, 4, 1], 'inp_shapes': [[1, 56], [10, 56], [10]], 'out_idxes': [6], 'out_shapes': [[1, 10]], 'params': [0], 'mask': []}, {'layer_type': 'Softmax', 'inp_idxes': [6], 'inp_shapes': [[1, 10]], 'out_idxes': [7], 'out_shapes': [[1, 10]], 'params': [], 'mask': []}]\n",
      "\n",
      "keep tensors: {0, 1, 2, 3, 4, 5, 6}\n",
      "skipping generated tensor: 0, b'serving_default_input_1:0'\n",
      "skipping generated tensor: 5, b'sequential/dense/MatMul;sequential/dense/Relu;sequential/dense/BiasAdd'\n",
      "skipping generated tensor: 6, b'sequential/dense_1/MatMul;sequential/dense_1/BiasAdd'\n",
      "\n",
      "{'layer_type': 'Softmax', 'inp_idxes': [6], 'inp_shapes': [[1, 10]], 'out_idxes': [7], 'out_shapes': [[1, 10]], 'params': [], 'mask': []}\n",
      "dict_keys(['global_sf', 'k', 'num_cols', 'num_random', 'inp_idxes', 'out_idxes', 'layers', 'tensors', 'use_selectors', 'commit_before', 'commit_after'])\n",
      "[7]\n"
     ]
    },
    {
     "data": {
      "text/plain": [
       "CompletedProcess(args=['python', './tools/converter.py', '--model', 'model_tf.tflite', '--model_output', 'converted_model.msgpack', '--config_output', 'config.msgpack', '--scale_factor', '512', '--k', '17', '--num_cols', '10', '--num_randoms', '1024'], returncode=0)"
      ]
     },
     "execution_count": 18,
     "metadata": {},
     "output_type": "execute_result"
    }
   ],
   "source": [
    "import subprocess, re\n",
    "# Start the subprocess\n",
    "subprocess.run(command_1)"
   ]
  },
  {
   "cell_type": "markdown",
   "metadata": {},
   "source": [
    "### Convert img to npy format"
   ]
  },
  {
   "cell_type": "code",
   "execution_count": 34,
   "metadata": {},
   "outputs": [
    {
     "name": "stdout",
     "output_type": "stream",
     "text": [
      "float64 (784,)\n"
     ]
    }
   ],
   "source": [
    "index = 3\n",
    "x = test_images_tf[index]\n",
    "\n",
    "print(x.dtype, x.shape)\n",
    "np.save(\"./npy/\" + str(index)+'.npy', x)\n"
   ]
  },
  {
   "cell_type": "code",
   "execution_count": 44,
   "metadata": {},
   "outputs": [],
   "source": [
    "convert_path = \"./tools/input_converter.py\"\n",
    "model_in_path = \"model_tf.tflite\"\n",
    "model_out_path = \"./msgpack/converted_model.msgpack\"\n",
    "config_out_path = \"./msgpack/config.msgpack\"\n",
    "img_in_path = \"./npy/\" + str(index)+ \".npy\"\n",
    "img_out_path = \"./msgpack/img_\" + str(index) + \".msgpack\"\n",
    "\n",
    "scale_factor = 512\n",
    "k = 17\n",
    "num_cols = 10 # not understand\n",
    "num_randoms = 1024 # not understand\n",
    "\n",
    "command_2 = [\"python\", f\"{convert_path}\", \"--model_config\", f\"{config_out_path}\",\n",
    "           \"--inputs\", img_in_path, \"--output\", img_out_path]\n",
    "\n",
    "res = subprocess.run(command_2, capture_output=True, text=True)"
   ]
  },
  {
   "cell_type": "code",
   "execution_count": 45,
   "metadata": {},
   "outputs": [
    {
     "data": {
      "text/plain": [
       "''"
      ]
     },
     "execution_count": 45,
     "metadata": {},
     "output_type": "execute_result"
    }
   ],
   "source": [
    "res.stderr"
   ]
  },
  {
   "cell_type": "markdown",
   "metadata": {},
   "source": [
    "### Test, Compile and Verify"
   ]
  },
  {
   "cell_type": "code",
   "execution_count": 46,
   "metadata": {},
   "outputs": [],
   "source": [
    "test = \"./bin/test_circuit\"\n",
    "\n",
    "command_3 = [test, model_out_path, img_out_path]\n",
    "\n",
    "res = subprocess.run(command_3, capture_output=True, text=True)\n"
   ]
  },
  {
   "cell_type": "code",
   "execution_count": 48,
   "metadata": {},
   "outputs": [
    {
     "data": {
      "text/plain": [
       "CompletedProcess(args=['./bin/test_circuit', './msgpack/converted_model.msgpack', './msgpack/img_3.msgpack'], returncode=0, stdout='Processing layer 0, type: FullyConnected, inp_idxes: [0, 3, 2], out_idxes: [5], layer_params: [1]\\nOut 0 shape: [1, 56]\\n\\nProcessing layer 1, type: FullyConnected, inp_idxes: [5, 4, 1], out_idxes: [6], layer_params: [0]\\nOut 0 shape: [1, 10]\\n\\nProcessing layer 2, type: Softmax, inp_idxes: [6], out_idxes: [7], layer_params: []\\nOut 0 shape: [1, 10]\\n\\nfinal out[0] x: 512 (1)\\nfinal out[1] x: 0 (0)\\nfinal out[2] x: 0 (0)\\nfinal out[3] x: 0 (0)\\nfinal out[4] x: 0 (0)\\nfinal out[5] x: 0 (0)\\nfinal out[6] x: 0 (0)\\nfinal out[7] x: 0 (0)\\nfinal out[8] x: 0 (0)\\nfinal out[9] x: 0 (0)\\nfinal out idxes: [7]\\nProcessing layer 0, type: FullyConnected, inp_idxes: [0, 3, 2], out_idxes: [5], layer_params: [1]\\nOut 0 shape: [1, 56]\\n\\nProcessing layer 1, type: FullyConnected, inp_idxes: [5, 4, 1], out_idxes: [6], layer_params: [0]\\nOut 0 shape: [1, 10]\\n\\nProcessing layer 2, type: Softmax, inp_idxes: [6], out_idxes: [7], layer_params: []\\nOut 0 shape: [1, 10]\\n\\nfinal out[0] x: 512 (1)\\nfinal out[1] x: 0 (0)\\nfinal out[2] x: 0 (0)\\nfinal out[3] x: 0 (0)\\nfinal out[4] x: 0 (0)\\nfinal out[5] x: 0 (0)\\nfinal out[6] x: 0 (0)\\nfinal out[7] x: 0 (0)\\nfinal out[8] x: 0 (0)\\nfinal out[9] x: 0 (0)\\nfinal out idxes: [7]\\n', stderr='')"
      ]
     },
     "execution_count": 48,
     "metadata": {},
     "output_type": "execute_result"
    }
   ],
   "source": [
    "res"
   ]
  },
  {
   "cell_type": "code",
   "execution_count": 47,
   "metadata": {},
   "outputs": [
    {
     "data": {
      "text/plain": [
       "''"
      ]
     },
     "execution_count": 47,
     "metadata": {},
     "output_type": "execute_result"
    }
   ],
   "source": [
    "res.stderr"
   ]
  },
  {
   "cell_type": "code",
   "execution_count": 49,
   "metadata": {},
   "outputs": [],
   "source": [
    "time_circuit = \"./bin/time_circuit\"\n",
    "model_out_path = \"./msgpack/converted_model.msgpack\"\n",
    "img_out_path = \"./msgpack/img_\" + str(index) + \".msgpack\"\n",
    "\n",
    "command_4 = [time_circuit, model_out_path, img_out_path, \"kzg\"]\n",
    "\n",
    "res = subprocess.run(command_4, capture_output=True, text=True)"
   ]
  },
  {
   "cell_type": "code",
   "execution_count": 50,
   "metadata": {},
   "outputs": [
    {
     "data": {
      "text/plain": [
       "CompletedProcess(args=['./bin/time_circuit', './msgpack/converted_model.msgpack', './msgpack/img_3.msgpack', 'kzg'], returncode=0, stdout='Time elapsed in params construction: 411.597054ms\\nProcessing layer 0, type: FullyConnected, inp_idxes: [0, 3, 2], out_idxes: [5], layer_params: [1]\\nOut 0 shape: [1, 56]\\n\\nProcessing layer 1, type: FullyConnected, inp_idxes: [5, 4, 1], out_idxes: [6], layer_params: [0]\\nOut 0 shape: [1, 10]\\n\\nProcessing layer 2, type: Softmax, inp_idxes: [6], out_idxes: [7], layer_params: []\\nOut 0 shape: [1, 10]\\n\\nfinal out[0] x: 0 (0)\\nfinal out[1] x: 0 (0)\\nfinal out[2] x: 0 (0)\\nfinal out[3] x: 0 (0)\\nfinal out[4] x: 0 (0)\\nfinal out[5] x: 0 (0)\\nfinal out[6] x: 0 (0)\\nfinal out[7] x: 0 (0)\\nfinal out[8] x: 0 (0)\\nfinal out[9] x: 0 (0)\\nfinal out idxes: [7]\\nTime elapsed in generating vkey: 1.851574419s\\nvkey size: 148936 bytes\\nProcessing layer 0, type: FullyConnected, inp_idxes: [0, 3, 2], out_idxes: [5], layer_params: [1]\\nOut 0 shape: [1, 56]\\n\\nProcessing layer 1, type: FullyConnected, inp_idxes: [5, 4, 1], out_idxes: [6], layer_params: [0]\\nOut 0 shape: [1, 10]\\n\\nProcessing layer 2, type: Softmax, inp_idxes: [6], out_idxes: [7], layer_params: []\\nOut 0 shape: [1, 10]\\n\\nfinal out[0] x: 0 (0)\\nfinal out[1] x: 0 (0)\\nfinal out[2] x: 0 (0)\\nfinal out[3] x: 0 (0)\\nfinal out[4] x: 0 (0)\\nfinal out[5] x: 0 (0)\\nfinal out[6] x: 0 (0)\\nfinal out[7] x: 0 (0)\\nfinal out[8] x: 0 (0)\\nfinal out[9] x: 0 (0)\\nfinal out idxes: [7]\\nTime elapsed in generating pkey: 1.365364006s\\npkey size: 629294848 bytes\\nProcessing layer 0, type: FullyConnected, inp_idxes: [0, 3, 2], out_idxes: [5], layer_params: [1]\\nOut 0 shape: [1, 56]\\n\\nProcessing layer 1, type: FullyConnected, inp_idxes: [5, 4, 1], out_idxes: [6], layer_params: [0]\\nOut 0 shape: [1, 10]\\n\\nProcessing layer 2, type: Softmax, inp_idxes: [6], out_idxes: [7], layer_params: []\\nOut 0 shape: [1, 10]\\n\\nfinal out[0] x: 512 (1)\\nfinal out[1] x: 0 (0)\\nfinal out[2] x: 0 (0)\\nfinal out[3] x: 0 (0)\\nfinal out[4] x: 0 (0)\\nfinal out[5] x: 0 (0)\\nfinal out[6] x: 0 (0)\\nfinal out[7] x: 0 (0)\\nfinal out[8] x: 0 (0)\\nfinal out[9] x: 0 (0)\\nfinal out idxes: [7]\\nTime elapsed in filling circuit: 509.705348ms\\nPublic vals size: 320 bytes\\nProcessing layer 0, type: FullyConnected, inp_idxes: [0, 3, 2], out_idxes: [5], layer_params: [1]\\nOut 0 shape: [1, 56]\\n\\nProcessing layer 1, type: FullyConnected, inp_idxes: [5, 4, 1], out_idxes: [6], layer_params: [0]\\nOut 0 shape: [1, 10]\\n\\nProcessing layer 2, type: Softmax, inp_idxes: [6], out_idxes: [7], layer_params: []\\nOut 0 shape: [1, 10]\\n\\nfinal out[0] x: 512 (1)\\nfinal out[1] x: 0 (0)\\nfinal out[2] x: 0 (0)\\nfinal out[3] x: 0 (0)\\nfinal out[4] x: 0 (0)\\nfinal out[5] x: 0 (0)\\nfinal out[6] x: 0 (0)\\nfinal out[7] x: 0 (0)\\nfinal out[8] x: 0 (0)\\nfinal out[9] x: 0 (0)\\nfinal out idxes: [7]\\nProving time: 18.984522392s\\nProof size: 9536 bytes\\npublic vals: [0x0000000000000000000000000000000000000000000000000000000000000200, 0x0000000000000000000000000000000000000000000000000000000000000000, 0x0000000000000000000000000000000000000000000000000000000000000000, 0x0000000000000000000000000000000000000000000000000000000000000000, 0x0000000000000000000000000000000000000000000000000000000000000000, 0x0000000000000000000000000000000000000000000000000000000000000000, 0x0000000000000000000000000000000000000000000000000000000000000000, 0x0000000000000000000000000000000000000000000000000000000000000000, 0x0000000000000000000000000000000000000000000000000000000000000000, 0x0000000000000000000000000000000000000000000000000000000000000000]\\nVerifying time: 6.662591ms\\n', stderr='')"
      ]
     },
     "execution_count": 50,
     "metadata": {},
     "output_type": "execute_result"
    },
    {
     "ename": "",
     "evalue": "",
     "output_type": "error",
     "traceback": [
      "\u001b[1;31mThe Kernel crashed while executing code in the the current cell or a previous cell. Please review the code in the cell(s) to identify a possible cause of the failure. Click <a href='https://aka.ms/vscodeJupyterKernelCrash'>here</a> for more info. View Jupyter <a href='command:jupyter.viewOutput'>log</a> for further details."
     ]
    }
   ],
   "source": [
    "res"
   ]
  },
  {
   "cell_type": "code",
   "execution_count": 43,
   "metadata": {},
   "outputs": [
    {
     "data": {
      "text/plain": [
       "'thread \\'main\\' panicked at src/utils/loader.rs:41:40:\\ncalled `Result::unwrap()` on an `Err` value: Os { code: 2, kind: NotFound, message: \"No such file or directory\" }\\nnote: run with `RUST_BACKTRACE=1` environment variable to display a backtrace\\n'"
      ]
     },
     "execution_count": 43,
     "metadata": {},
     "output_type": "execute_result"
    }
   ],
   "source": [
    "res.stderr"
   ]
  },
  {
   "cell_type": "code",
   "execution_count": null,
   "metadata": {},
   "outputs": [],
   "source": []
  }
 ],
 "metadata": {
  "kernelspec": {
   "display_name": "env",
   "language": "python",
   "name": "python3"
  },
  "language_info": {
   "codemirror_mode": {
    "name": "ipython",
    "version": 3
   },
   "file_extension": ".py",
   "mimetype": "text/x-python",
   "name": "python",
   "nbconvert_exporter": "python",
   "pygments_lexer": "ipython3",
   "version": "3.10.12"
  }
 },
 "nbformat": 4,
 "nbformat_minor": 2
}
