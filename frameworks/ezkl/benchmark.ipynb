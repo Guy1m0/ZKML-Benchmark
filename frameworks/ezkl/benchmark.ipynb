{
 "cells": [
  {
   "cell_type": "code",
   "execution_count": 1,
   "metadata": {},
   "outputs": [],
   "source": [
    "# Most importantly, select the kernal at least 3.11"
   ]
  },
  {
   "cell_type": "code",
   "execution_count": 1,
   "metadata": {},
   "outputs": [
    {
     "name": "stderr",
     "output_type": "stream",
     "text": [
      "2024-02-04 21:17:21.507285: I tensorflow/core/util/port.cc:113] oneDNN custom operations are on. You may see slightly different numerical results due to floating-point round-off errors from different computation orders. To turn them off, set the environment variable `TF_ENABLE_ONEDNN_OPTS=0`.\n",
      "2024-02-04 21:17:21.626472: E external/local_xla/xla/stream_executor/cuda/cuda_dnn.cc:9261] Unable to register cuDNN factory: Attempting to register factory for plugin cuDNN when one has already been registered\n",
      "2024-02-04 21:17:21.626533: E external/local_xla/xla/stream_executor/cuda/cuda_fft.cc:607] Unable to register cuFFT factory: Attempting to register factory for plugin cuFFT when one has already been registered\n",
      "2024-02-04 21:17:21.639000: E external/local_xla/xla/stream_executor/cuda/cuda_blas.cc:1515] Unable to register cuBLAS factory: Attempting to register factory for plugin cuBLAS when one has already been registered\n",
      "2024-02-04 21:17:21.676958: I tensorflow/core/platform/cpu_feature_guard.cc:182] This TensorFlow binary is optimized to use available CPU instructions in performance-critical operations.\n",
      "To enable the following instructions: AVX2 AVX_VNNI FMA, in other operations, rebuild TensorFlow with the appropriate compiler flags.\n",
      "2024-02-04 21:17:22.322339: W tensorflow/compiler/tf2tensorrt/utils/py_utils.cc:38] TF-TRT Warning: Could not find TensorRT\n"
     ]
    }
   ],
   "source": [
    "import os, subprocess\n",
    "import torch, struct, os, psutil, subprocess, time, threading\n",
    "import torch.nn as nn\n",
    "import torch.nn.functional as F\n",
    "import numpy as np\n",
    "import tensorflow as tf\n",
    "\n",
    "from torch.utils.data import DataLoader, TensorDataset"
   ]
  },
  {
   "cell_type": "markdown",
   "metadata": {},
   "source": [
    "## Prepare"
   ]
  },
  {
   "cell_type": "code",
   "execution_count": 2,
   "metadata": {},
   "outputs": [],
   "source": [
    "# Load TensorFlow MNIST data\n",
    "mnist = tf.keras.datasets.mnist\n",
    "(train_images, train_labels), (test_images, test_labels) = mnist.load_data()\n",
    "\n",
    "# Convert to PyTorch tensors\n",
    "test_images_pt = torch.tensor(test_images).float()\n",
    "test_labels_pt = torch.tensor(test_labels)\n",
    "# Flatten and normalize the images\n",
    "test_images_pt = test_images_pt.view(-1, 28*28) / 255.0  # Flatten and normalize\n",
    "\n",
    "# Assuming test_images_pt is your PyTorch tensor with shape [num_samples, 784]\n",
    "test_images_pt_reshaped = test_images_pt.view(-1, 1, 28, 28)  # Reshape to [num_samples, channels, height, width]\n",
    "\n",
    "# Downsample images\n",
    "test_images_pt_downsampled = F.interpolate(test_images_pt_reshaped, size=(14, 14), mode='bilinear', align_corners=False)\n",
    "\n",
    "# Flatten the images back to [num_samples, 14*14]\n",
    "test_images_pt_downsampled = test_images_pt_downsampled.view(-1, 14*14)"
   ]
  },
  {
   "cell_type": "code",
   "execution_count": 3,
   "metadata": {},
   "outputs": [],
   "source": [
    "def evaluate_pytorch_model(model, datasets, labels):\n",
    "    # Create TensorDataset for test data\n",
    "    test_dataset = TensorDataset(datasets, labels)\n",
    "    # Create a DataLoader for the test dataset\n",
    "    test_loader = DataLoader(test_dataset, batch_size=32, shuffle=False)\n",
    "\n",
    "    model.eval()  # Set the model to evaluation mode\n",
    "    correct = 0\n",
    "    total = 0\n",
    "\n",
    "    with torch.no_grad():\n",
    "        for images, labels in test_loader:\n",
    "            outputs = model(images)\n",
    "            _, predicted = torch.max(outputs.data, 1)\n",
    "            total += labels.size(0)\n",
    "            correct += (predicted == labels).sum().item()\n",
    "\n",
    "    accuracy = 100 * correct / total\n",
    "    return accuracy"
   ]
  },
  {
   "cell_type": "markdown",
   "metadata": {},
   "source": [
    "## Benchmark for 784_56_10 DNN Model"
   ]
  },
  {
   "cell_type": "markdown",
   "metadata": {},
   "source": [
    "### Conver ONNX model to cairo"
   ]
  },
  {
   "cell_type": "code",
   "execution_count": 9,
   "metadata": {},
   "outputs": [],
   "source": [
    "# After login\n",
    "arch_folder = \"input-dense-dense/\"\n",
    "layers = [784,56,10]\n",
    "model_name = \"_\".join([str(x) for x in layers])\n",
    "model_path = \"../../models/\" + arch_folder + model_name\n",
    "\n",
    "state_dict = torch.load(model_path + \".pth\")\n",
    "\n",
    "output_folder = './tmp/' + \"_\".join([str(x) for x in layers]) + \"/\"\n",
    "os.makedirs(output_folder, exist_ok=True)\n"
   ]
  },
  {
   "cell_type": "code",
   "execution_count": 11,
   "metadata": {},
   "outputs": [],
   "source": [
    "class Net(nn.Module):\n",
    "    def __init__(self, num_classes=10):\n",
    "        super(Net, self).__init__()\n",
    "        self.fc1 = nn.Linear(layers[0], layers[1])  # Flatten \n",
    "        self.fc2 = nn.Linear(layers[1], layers[2])  \n",
    "\n",
    "    def forward(self, x):\n",
    "        x = F.relu(self.fc1(x))\n",
    "        x = self.fc2(x)\n",
    "        return x\n",
    "    \n",
    "model_pt = Net()\n",
    "model_pt.load_state_dict(state_dict)\n",
    "model_pt.eval()  # Set the model to evaluation mode\n",
    "\n",
    "with torch.no_grad():  # Ensure gradients are not computed\n",
    "    predictions = model_pt(test_images_pt)\n",
    "    predicted_labels = predictions.argmax(dim=1)\n",
    "\n",
    "predicted_labels = predicted_labels.tolist()"
   ]
  },
  {
   "cell_type": "code",
   "execution_count": 13,
   "metadata": {},
   "outputs": [
    {
     "name": "stdout",
     "output_type": "stream",
     "text": [
      "Accuracy of the PyTorch model on the test images: 97.40000000%\n"
     ]
    }
   ],
   "source": [
    "# Evaluate the PyTorch model\n",
    "accuracy = evaluate_pytorch_model(model_pt, test_images_pt, test_labels_pt)\n",
    "print(f'Accuracy of the PyTorch model on the test images: {accuracy:.8f}%')"
   ]
  },
  {
   "cell_type": "markdown",
   "metadata": {},
   "source": [
    "#### Save the Model locally (no softmax as not supported)"
   ]
  },
  {
   "cell_type": "code",
   "execution_count": 15,
   "metadata": {},
   "outputs": [],
   "source": [
    "torch.onnx.export(model_pt, test_images_pt[0], \"784_mnist.onnx\")"
   ]
  },
  {
   "cell_type": "code",
   "execution_count": 21,
   "metadata": {},
   "outputs": [],
   "source": [
    "command = ['giza', 'transpile', \"784_mnist.onnx\", '--output-path', output_folder]"
   ]
  },
  {
   "cell_type": "code",
   "execution_count": 22,
   "metadata": {},
   "outputs": [
    {
     "name": "stdout",
     "output_type": "stream",
     "text": [
      "\u001b[1;33m[\u001b[0m\u001b[33mgiza\u001b[0m\u001b[1;33m]\u001b[0m\u001b[1m[\u001b[0m\u001b[1;36m2024\u001b[0m-\u001b[1;36m02\u001b[0m-\u001b[1;36m04\u001b[0m \u001b[1;92m21:27:24\u001b[0m.\u001b[1;36m815\u001b[0m\u001b[1m]\u001b[0m No model id provided, checking if model exists ✅\n",
      "\u001b[1;33m[\u001b[0m\u001b[33mgiza\u001b[0m\u001b[1;33m]\u001b[0m\u001b[1m[\u001b[0m\u001b[1;36m2024\u001b[0m-\u001b[1;36m02\u001b[0m-\u001b[1;36m04\u001b[0m \u001b[1;92m21:27:24\u001b[0m.\u001b[1;36m817\u001b[0m\u001b[1m]\u001b[0m Model name is: 784_mnist\n",
      "\u001b[2K\u001b[1;33m[\u001b[0m\u001b[33mgiza\u001b[0m\u001b[1;33m]\u001b[0m\u001b[1m[\u001b[0m\u001b[1;36m2024\u001b[0m-\u001b[1;36m02\u001b[0m-\u001b[1;36m04\u001b[0m \u001b[1;92m21:27:25\u001b[0m.\u001b[1;36m267\u001b[0m\u001b[1m]\u001b[0m Model Created with id -> \u001b[1;36m259\u001b[0m! ✅\n",
      "\u001b[2K\u001b[1;33m[\u001b[0m\u001b[33mgiza\u001b[0m\u001b[1;33m]\u001b[0m\u001b[1m[\u001b[0m\u001b[1;36m2024\u001b[0m-\u001b[1;36m02\u001b[0m-\u001b[1;36m04\u001b[0m \u001b[1;92m21:27:26\u001b[0m.\u001b[1;36m004\u001b[0m\u001b[1m]\u001b[0m Sending model for transpilation ✅ \n",
      "\u001b[2K\u001b[32m⠹\u001b[0m Transpiling Model...\n",
      "\u001b[1A\u001b[2K\u001b[1;33m[\u001b[0m\u001b[33mgiza\u001b[0m\u001b[1;33m]\u001b[0m\u001b[1m[\u001b[0m\u001b[1;36m2024\u001b[0m-\u001b[1;36m02\u001b[0m-\u001b[1;36m04\u001b[0m \u001b[1;92m21:27:45\u001b[0m.\u001b[1;36m010\u001b[0m\u001b[1m]\u001b[0m Transpilation recieved! ✅\n",
      "\u001b[1;33m[\u001b[0m\u001b[33mgiza\u001b[0m\u001b[1;33m]\u001b[0m\u001b[1m[\u001b[0m\u001b[1;36m2024\u001b[0m-\u001b[1;36m02\u001b[0m-\u001b[1;36m04\u001b[0m \u001b[1;92m21:27:45\u001b[0m.\u001b[1;36m015\u001b[0m\u001b[1m]\u001b[0m Transpilation saved at: .\u001b[35m/tmp/784_56_10/\u001b[0m\n"
     ]
    },
    {
     "data": {
      "text/plain": [
       "CompletedProcess(args=['giza', 'transpile', '784_mnist.onnx', '--output-path', './tmp/784_56_10/'], returncode=0)"
      ]
     },
     "execution_count": 22,
     "metadata": {},
     "output_type": "execute_result"
    }
   ],
   "source": [
    "subprocess.run(command)"
   ]
  },
  {
   "cell_type": "markdown",
   "metadata": {},
   "source": [
    "### Deploy ml service"
   ]
  },
  {
   "cell_type": "code",
   "execution_count": null,
   "metadata": {},
   "outputs": [],
   "source": [
    "sierra_path = output_folder + \"inference/\" \n",
    "command = ['giza', 'deployments', 'deploy', ]"
   ]
  },
  {
   "cell_type": "code",
   "execution_count": null,
   "metadata": {},
   "outputs": [],
   "source": []
  },
  {
   "cell_type": "code",
   "execution_count": null,
   "metadata": {},
   "outputs": [],
   "source": []
  },
  {
   "cell_type": "markdown",
   "metadata": {},
   "source": [
    "### Create input.cairo"
   ]
  },
  {
   "cell_type": "code",
   "execution_count": 8,
   "metadata": {},
   "outputs": [],
   "source": [
    "input_path = output_folder + \"inputs/\"\n",
    "os.makedirs(input_path, exist_ok=True)"
   ]
  },
  {
   "cell_type": "code",
   "execution_count": 9,
   "metadata": {},
   "outputs": [],
   "source": [
    "def to_fixed_point(val, bits):\n",
    "    return round(val * (2**bits))\n",
    "\n",
    "def mnist_image_to_fixed_point(data):\n",
    "    return [to_fixed_point(val.item(), 16) for val in data]\n",
    "\n",
    "\n",
    "def generate_input_cairo(data):\n",
    "    values = mnist_image_to_fixed_point(data)\n",
    "    values = [f\"FixedTrait::<FP16x16>::new({val}, {'true' if val < 0 else 'false'})\" for val in values]\n",
    "    return \",\\n \".join(values)\n",
    "\n",
    "input_cairo = generate_input_cairo(test_images_pt_downsampled[0])\n",
    "\n",
    "with open(output_folder + \"input.cairo\", \"w\") as f:\n",
    "    f.write(\"\"\"\n",
    "use array::{SpanTrait, ArrayTrait};\n",
    "use orion::operators::tensor::{TensorTrait, FP16x16Tensor, Tensor};\n",
    "use orion::numbers::{FixedTrait, FP16x16};\n",
    "fn input() -> Tensor<FP16x16> {\n",
    "    TensorTrait::<FP16x16>::new(\n",
    "        array![196].span(),\n",
    "        array![\n",
    "    \"\"\")\n",
    "    f.write(input_cairo)\n",
    "    f.write(\"\"\"\n",
    "        ].span()\n",
    "    )\n",
    "}\n",
    "    \"\"\")"
   ]
  },
  {
   "cell_type": "markdown",
   "metadata": {},
   "source": [
    "### Build Cairo"
   ]
  },
  {
   "cell_type": "code",
   "execution_count": 10,
   "metadata": {},
   "outputs": [
    {
     "name": "stdout",
     "output_type": "stream",
     "text": [
      "\u001b[32m\u001b[1m    Updating\u001b[0m git repository https://github.com/gizatechxyz/orion\n",
      "\u001b[32m\u001b[1m    Updating\u001b[0m git repository https://github.com/keep-starknet-strange/alexandria\n",
      "\u001b[32m\u001b[1m    Updating\u001b[0m git repository https://github.com/influenceth/cubit\n",
      "\u001b[32m\u001b[1m   Compiling\u001b[0m inference v0.1.0 (/home/guy1m0/Desktop/ZKML-Benchmark/frameworks/orion/tmp/196_25_10/inference/Scarb.toml)\n",
      "\u001b[33mwarn\u001b[0m: Unused variable. Consider ignoring by prefixing with `_`.\n",
      " --> /home/guy1m0/.cache/scarb/registry/git/checkouts/orion-m80ng8gqktahi/8ff73895/src/operators/tensor/core.cairo:5439:38\n",
      "                        Option::Some(item) => {\n",
      "                                     ^**^\n",
      "\n",
      "\u001b[33mwarn\u001b[0m: Unused variable. Consider ignoring by prefixing with `_`.\n",
      " --> /home/guy1m0/.cache/scarb/registry/git/checkouts/orion-m80ng8gqktahi/8ff73895/src/operators/tensor/core.cairo:5499:42\n",
      "                            Option::Some(val) => {\n",
      "                                         ^*^\n",
      "\n",
      "\u001b[33mwarn\u001b[0m: Unused variable. Consider ignoring by prefixing with `_`.\n",
      " --> /home/guy1m0/.cache/scarb/registry/git/checkouts/orion-m80ng8gqktahi/8ff73895/src/operators/tensor/core.cairo:5528:26\n",
      "            Option::Some(val) => {\n",
      "                         ^*^\n",
      "\n",
      "\u001b[33mwarn\u001b[0m: Unused variable. Consider ignoring by prefixing with `_`.\n",
      " --> /home/guy1m0/.cache/scarb/registry/git/checkouts/orion-m80ng8gqktahi/8ff73895/src/operators/tensor/math/cumsum.cairo:156:21\n",
      "            let mut z = *(data)[previous_axis_element_index];\n",
      "                    ^\n",
      "\n",
      "\u001b[33mwarn\u001b[0m: Unused variable. Consider ignoring by prefixing with `_`.\n",
      " --> /home/guy1m0/.cache/scarb/registry/git/checkouts/orion-m80ng8gqktahi/8ff73895/src/operators/tensor/math/onehot.cairo:109:17\n",
      "        let mut index: usize = 0;\n",
      "                ^***^\n",
      "\n",
      "\u001b[33mwarn\u001b[0m: Unused variable. Consider ignoring by prefixing with `_`.\n",
      " --> /home/guy1m0/.cache/scarb/registry/git/checkouts/orion-m80ng8gqktahi/8ff73895/src/operators/tensor/math/onehot.cairo:43:9\n",
      "    let tensor_len: usize = data.len();\n",
      "        ^********^\n",
      "\n",
      "\u001b[33mwarn\u001b[0m: Unused variable. Consider ignoring by prefixing with `_`.\n",
      " --> /home/guy1m0/.cache/scarb/registry/git/checkouts/orion-m80ng8gqktahi/8ff73895/src/operators/tensor/math/scatter.cairo:79:25\n",
      "                    let d = *val;\n",
      "                        ^\n",
      "\n",
      "\u001b[33mwarn\u001b[0m: Unused variable. Consider ignoring by prefixing with `_`.\n",
      " --> /home/guy1m0/.cache/scarb/registry/git/checkouts/orion-m80ng8gqktahi/8ff73895/src/operators/tensor/math/scatter.cairo:89:25\n",
      "                    let d = *val;\n",
      "                        ^\n",
      "\n",
      "\u001b[33mwarn\u001b[0m: Unused variable. Consider ignoring by prefixing with `_`.\n",
      " --> /home/guy1m0/.cache/scarb/registry/git/checkouts/orion-m80ng8gqktahi/8ff73895/src/operators/tensor/math/scatter.cairo:117:17\n",
      "        let mut i: usize = 0;\n",
      "                ^\n",
      "\n",
      "\u001b[33mwarn\u001b[0m: Unused variable. Consider ignoring by prefixing with `_`.\n",
      " --> /home/guy1m0/.cache/scarb/registry/git/checkouts/orion-m80ng8gqktahi/8ff73895/src/operators/tensor/math/scatter.cairo:69:9\n",
      "    let data_loop_first = *data_shape_copy.pop_front().unwrap();\n",
      "        ^*************^\n",
      "\n",
      "\u001b[33mwarn\u001b[0m: Unused variable. Consider ignoring by prefixing with `_`.\n",
      " --> /home/guy1m0/.cache/scarb/registry/git/checkouts/orion-m80ng8gqktahi/8ff73895/src/operators/tensor/math/scatter.cairo:70:9\n",
      "    let indices_loop_first = *indices_shape_copy.pop_front().unwrap();\n",
      "        ^****************^\n",
      "\n",
      "\u001b[33mwarn\u001b[0m: Unused variable. Consider ignoring by prefixing with `_`.\n",
      " --> /home/guy1m0/.cache/scarb/registry/git/checkouts/orion-m80ng8gqktahi/8ff73895/src/operators/tensor/math/gather_nd.cairo:75:17\n",
      "        let mut multiple = 1;\n",
      "                ^******^\n",
      "\n",
      "\u001b[33mwarn\u001b[0m: Unused variable. Consider ignoring by prefixing with `_`.\n",
      " --> /home/guy1m0/.cache/scarb/registry/git/checkouts/orion-m80ng8gqktahi/8ff73895/src/operators/tensor/math/layer_normalization.cairo:38:9\n",
      "    let X_shape = (*self).shape;\n",
      "        ^*****^\n",
      "\n",
      "\u001b[33mwarn\u001b[0m: Unused variable. Consider ignoring by prefixing with `_`.\n",
      " --> /home/guy1m0/.cache/scarb/registry/git/checkouts/orion-m80ng8gqktahi/8ff73895/src/operators/tensor/math/layer_normalization.cairo:49:9\n",
      "    let stash_type = match stash_type {\n",
      "        ^********^\n",
      "\n",
      "\u001b[33mwarn\u001b[0m: Unused variable. Consider ignoring by prefixing with `_`.\n",
      " --> /home/guy1m0/.cache/scarb/registry/git/checkouts/orion-m80ng8gqktahi/8ff73895/src/operators/tensor/math/resize.cairo:431:21\n",
      "                let scale: usize = (*scale_factors.at(i)).try_into().unwrap();\n",
      "                    ^***^\n",
      "\n",
      "\u001b[33mwarn\u001b[0m: Unused variable. Consider ignoring by prefixing with `_`.\n",
      " --> /home/guy1m0/.cache/scarb/registry/git/checkouts/orion-m80ng8gqktahi/8ff73895/src/operators/tensor/math/resize.cairo:517:13\n",
      "    let mut m = n;\n",
      "            ^\n",
      "\n",
      "\u001b[33mwarn\u001b[0m: Unused variable. Consider ignoring by prefixing with `_`.\n",
      " --> /home/guy1m0/.cache/scarb/registry/git/checkouts/orion-m80ng8gqktahi/8ff73895/src/operators/tensor/math/resize.cairo:778:13\n",
      "    let mut n: usize = 0;\n",
      "            ^\n",
      "\n",
      "\u001b[33mwarn\u001b[0m: Unused variable. Consider ignoring by prefixing with `_`.\n",
      " --> /home/guy1m0/.cache/scarb/registry/git/checkouts/orion-m80ng8gqktahi/8ff73895/src/operators/tensor/math/resize.cairo:921:30\n",
      "                Option::Some(antialias) => core::panic_with_felt252(\n",
      "                             ^*******^\n",
      "\n",
      "\u001b[33mwarn\u001b[0m: Unused variable. Consider ignoring by prefixing with `_`.\n",
      " --> /home/guy1m0/.cache/scarb/registry/git/checkouts/orion-m80ng8gqktahi/8ff73895/src/operators/tensor/math/resize.cairo:944:30\n",
      "                Option::Some(antialias) => {\n",
      "                             ^*******^\n",
      "\n",
      "\u001b[33mwarn\u001b[0m: Unused variable. Consider ignoring by prefixing with `_`.\n",
      " --> /home/guy1m0/.cache/scarb/registry/git/checkouts/orion-m80ng8gqktahi/8ff73895/src/operators/tensor/math/resize.cairo:1095:9\n",
      "    let pad_width: usize = NumberTrait::<\n",
      "        ^*******^\n",
      "\n",
      "\u001b[33mwarn\u001b[0m: Unused variable. Consider ignoring by prefixing with `_`.\n",
      " --> /home/guy1m0/.cache/scarb/registry/git/checkouts/orion-m80ng8gqktahi/8ff73895/src/operators/tensor/math/resize.cairo:1265:9\n",
      "    let five = four + NumberTrait::one();\n",
      "        ^**^\n",
      "\n",
      "\u001b[33mwarn\u001b[0m: Unused variable. Consider ignoring by prefixing with `_`.\n",
      " --> /home/guy1m0/.cache/scarb/registry/git/checkouts/orion-m80ng8gqktahi/8ff73895/src/operators/tensor/math/resize.cairo:1317:9\n",
      "    let five = four + NumberTrait::one();\n",
      "        ^**^\n",
      "\n",
      "\u001b[33mwarn\u001b[0m: Unused variable. Consider ignoring by prefixing with `_`.\n",
      " --> /home/guy1m0/.cache/scarb/registry/git/checkouts/orion-m80ng8gqktahi/8ff73895/src/operators/tensor/math/resize.cairo:1318:9\n",
      "    let five = four + NumberTrait::one();\n",
      "        ^**^\n",
      "\n",
      "\u001b[33mwarn\u001b[0m: Unused variable. Consider ignoring by prefixing with `_`.\n",
      " --> /home/guy1m0/.cache/scarb/registry/git/checkouts/orion-m80ng8gqktahi/8ff73895/src/operators/tensor/math/resize.cairo:1319:9\n",
      "    let eigth = four + four;\n",
      "        ^***^\n",
      "\n",
      "\u001b[33mwarn\u001b[0m: Unused variable. Consider ignoring by prefixing with `_`.\n",
      " --> /home/guy1m0/.cache/scarb/registry/git/checkouts/orion-m80ng8gqktahi/8ff73895/src/operators/tensor/math/compress.cairo:116:17\n",
      "        let mut ind_loop = 0;\n",
      "                ^******^\n",
      "\n",
      "\u001b[33mwarn\u001b[0m: Unused variable. Consider ignoring by prefixing with `_`.\n",
      " --> /home/guy1m0/.cache/scarb/registry/git/checkouts/orion-m80ng8gqktahi/8ff73895/src/operators/tensor/math/compress.cairo:119:17\n",
      "        let mut condition_data_clone = condition_data.clone();\n",
      "                ^******************^\n",
      "\n",
      "\u001b[33mwarn\u001b[0m: Unused variable. Consider ignoring by prefixing with `_`.\n",
      " --> /home/guy1m0/.cache/scarb/registry/git/checkouts/orion-m80ng8gqktahi/8ff73895/src/operators/tensor/math/compress.cairo:31:13\n",
      "    let mut condition_shape = condition.shape;\n",
      "            ^*************^\n",
      "\n",
      "\u001b[33mwarn\u001b[0m: Unused variable. Consider ignoring by prefixing with `_`.\n",
      " --> /home/guy1m0/.cache/scarb/registry/git/checkouts/orion-m80ng8gqktahi/8ff73895/src/operators/tensor/math/compress.cairo:41:13\n",
      "    let mut data = *self.data;\n",
      "            ^**^\n",
      "\n",
      "\u001b[33mwarn\u001b[0m: Unused variable. Consider ignoring by prefixing with `_`.\n",
      " --> /home/guy1m0/.cache/scarb/registry/git/checkouts/orion-m80ng8gqktahi/8ff73895/src/operators/tensor/quantization/dequantize_linear.cairo:48:13\n",
      "    let mut result_data = ArrayTrait::<T>::new();\n",
      "            ^*********^\n",
      "\n",
      "\u001b[33mwarn\u001b[0m: Unused variable. Consider ignoring by prefixing with `_`.\n",
      " --> /home/guy1m0/.cache/scarb/registry/git/checkouts/orion-m80ng8gqktahi/8ff73895/src/operators/tensor/quantization/qlinear_leakyrelu.cairo:40:13\n",
      "    let mut i = 0;\n",
      "            ^\n",
      "\n",
      "\u001b[33mwarn\u001b[0m: Unused variable. Consider ignoring by prefixing with `_`.\n",
      " --> /home/guy1m0/.cache/scarb/registry/git/checkouts/orion-m80ng8gqktahi/8ff73895/src/operators/tensor/manipulation/split.cairo:20:22\n",
      "        Option::Some(value) => { true },\n",
      "                     ^***^\n",
      "\n",
      "\u001b[33mwarn\u001b[0m: Unused variable. Consider ignoring by prefixing with `_`.\n",
      " --> /home/guy1m0/.cache/scarb/registry/git/checkouts/orion-m80ng8gqktahi/8ff73895/src/operators/tensor/manipulation/split.cairo:24:22\n",
      "        Option::Some(value) => { true },\n",
      "                     ^***^\n",
      "\n",
      "\u001b[33mwarn\u001b[0m: Unused variable. Consider ignoring by prefixing with `_`.\n",
      " --> /home/guy1m0/.cache/scarb/registry/git/checkouts/orion-m80ng8gqktahi/8ff73895/src/operators/tensor/ml/array_feature_extractor.cairo:33:13\n",
      "    let mut indices_counter: usize = 0;\n",
      "            ^*************^\n",
      "\n",
      "\u001b[33mwarn\u001b[0m: Unused variable. Consider ignoring by prefixing with `_`.\n",
      " --> /home/guy1m0/.cache/scarb/registry/git/checkouts/orion-m80ng8gqktahi/8ff73895/src/operators/nn/functional/softmax_zero.cairo:182:21\n",
      "                let current_sum: T = NumberTrait::one();\n",
      "                    ^*********^\n",
      "\n",
      "\u001b[33mwarn\u001b[0m: Unused variable. Consider ignoring by prefixing with `_`.\n",
      " --> /home/guy1m0/.cache/scarb/registry/git/checkouts/orion-m80ng8gqktahi/8ff73895/src/operators/ml/tree_ensemble/tree_ensemble_classifier.cairo:375:41\n",
      "                                    let prev_val = match res.get(i, *self.class_ids[*it]) {\n",
      "                                        ^******^\n",
      "\n",
      "\u001b[33mwarn\u001b[0m: Unused variable. Consider ignoring by prefixing with `_`.\n",
      " --> /home/guy1m0/.cache/scarb/registry/git/checkouts/orion-m80ng8gqktahi/8ff73895/src/operators/ml/tree_ensemble/tree_ensemble_classifier.cairo:411:45\n",
      "            Option::Some(c_id) => { let mut class_id = *c_id; },\n",
      "                                            ^******^\n",
      "\n",
      "\u001b[33mwarn\u001b[0m: Unused variable. Consider ignoring by prefixing with `_`.\n",
      " --> /home/guy1m0/.cache/scarb/registry/git/checkouts/orion-m80ng8gqktahi/8ff73895/src/operators/ml/tree_ensemble/tree_ensemble_classifier.cairo:412:42\n",
      "            Option::None(_) => { let mut class_id: usize = 0; }\n",
      "                                         ^******^\n",
      "\n",
      "\u001b[33mwarn\u001b[0m: Unused variable. Consider ignoring by prefixing with `_`.\n",
      " --> /home/guy1m0/.cache/scarb/registry/git/checkouts/orion-m80ng8gqktahi/8ff73895/src/operators/ml/tree_ensemble/tree_ensemble_classifier.cairo:441:21\n",
      "                let res_ele_1 = match res.get(i, 0) {\n",
      "                    ^*******^\n",
      "\n",
      "\u001b[33mwarn\u001b[0m: Unused variable. Consider ignoring by prefixing with `_`.\n",
      " --> /home/guy1m0/.cache/scarb/registry/git/checkouts/orion-m80ng8gqktahi/8ff73895/src/operators/ml/tree_ensemble/tree_ensemble_classifier.cairo:455:29\n",
      "                        let res_ele_0 = match new_res.get(i, 1) {\n",
      "                            ^*******^\n",
      "\n",
      "\u001b[33mwarn\u001b[0m: Unused variable. Consider ignoring by prefixing with `_`.\n",
      " --> /home/guy1m0/.cache/scarb/registry/git/checkouts/orion-m80ng8gqktahi/8ff73895/src/operators/ml/tree_ensemble/tree_ensemble_classifier.cairo:472:29\n",
      "                        let res_ele_0 = match new_res.get(i, 1) {\n",
      "                            ^*******^\n",
      "\n",
      "\u001b[33mwarn\u001b[0m: Unused variable. Consider ignoring by prefixing with `_`.\n",
      " --> /home/guy1m0/.cache/scarb/registry/git/checkouts/orion-m80ng8gqktahi/8ff73895/src/operators/ml/tree_ensemble/tree_ensemble_classifier.cairo:486:29\n",
      "                        let res_ele_0 = match new_res.get(i, 1) {\n",
      "                            ^*******^\n",
      "\n",
      "\u001b[33mwarn\u001b[0m: Unused variable. Consider ignoring by prefixing with `_`.\n",
      " --> /home/guy1m0/.cache/scarb/registry/git/checkouts/orion-m80ng8gqktahi/8ff73895/src/operators/ml/tree_ensemble/tree_ensemble_classifier.cairo:500:29\n",
      "                        let res_ele_0 = match new_res.get(i, 1) {\n",
      "                            ^*******^\n",
      "\n",
      "\u001b[33mwarn\u001b[0m: Unused variable. Consider ignoring by prefixing with `_`.\n",
      " --> /home/guy1m0/.cache/scarb/registry/git/checkouts/orion-m80ng8gqktahi/8ff73895/src/operators/ml/tree_ensemble/tree_ensemble_classifier.cairo:514:29\n",
      "                        let res_ele_0 = match new_res.get(i, 1) {\n",
      "                            ^*******^\n",
      "\n",
      "\u001b[33mwarn\u001b[0m: Unused variable. Consider ignoring by prefixing with `_`.\n",
      " --> /home/guy1m0/.cache/scarb/registry/git/checkouts/orion-m80ng8gqktahi/8ff73895/src/operators/ml/tree_ensemble/tree_ensemble_regressor.cairo:349:17\n",
      "        let mut new_scores = match self.post_transform {\n",
      "                ^********^\n",
      "\n",
      "\u001b[33mwarn\u001b[0m: Unused variable. Consider ignoring by prefixing with `_`.\n",
      " --> /home/guy1m0/.cache/scarb/registry/git/checkouts/orion-m80ng8gqktahi/8ff73895/src/operators/ml/tree_ensemble/tree_ensemble_regressor.cairo:390:33\n",
      "                            let prev_val = match res.get(i, *self.target_ids[*it]) {\n",
      "                                ^******^\n",
      "\n",
      "\u001b[33mwarn\u001b[0m: Unused variable. Consider ignoring by prefixing with `_`.\n",
      " --> /home/guy1m0/.cache/scarb/registry/git/checkouts/orion-m80ng8gqktahi/8ff73895/src/operators/ml/tree_ensemble/tree_ensemble_regressor.cairo:444:33\n",
      "                            let prev_val = match res.get(i, *self.target_ids[*it]) {\n",
      "                                ^******^\n",
      "\n",
      "\u001b[33mwarn\u001b[0m: Unused variable. Consider ignoring by prefixing with `_`.\n",
      " --> /home/guy1m0/.cache/scarb/registry/git/checkouts/orion-m80ng8gqktahi/8ff73895/src/operators/ml/tree_ensemble/tree_ensemble_regressor.cairo:508:33\n",
      "                            let prev_val = match res.get(i, *self.target_ids[*it]) {\n",
      "                                ^******^\n",
      "\n",
      "\u001b[33mwarn\u001b[0m: Unused variable. Consider ignoring by prefixing with `_`.\n",
      " --> /home/guy1m0/.cache/scarb/registry/git/checkouts/orion-m80ng8gqktahi/8ff73895/src/operators/ml/tree_ensemble/tree_ensemble_regressor.cairo:568:33\n",
      "                            let prev_val = match res.get(i, *self.target_ids[*it]) {\n",
      "                                ^******^\n",
      "\n",
      "\u001b[33mwarn\u001b[0m: Unused variable. Consider ignoring by prefixing with `_`.\n",
      " --> /home/guy1m0/.cache/scarb/registry/git/checkouts/orion-m80ng8gqktahi/8ff73895/src/numbers/fixed_point/implementations/fp8x23/core.cairo:430:22\n",
      "        Option::Some(val) => {\n",
      "                     ^*^\n",
      "\n",
      "\u001b[33mwarn\u001b[0m: Unused variable. Consider ignoring by prefixing with `_`.\n",
      " --> /home/guy1m0/.cache/scarb/registry/git/checkouts/orion-m80ng8gqktahi/8ff73895/src/numbers/fixed_point/implementations/fp8x23/math/core.cairo:215:10\n",
      "    let (div, rem) = integer::u32_safe_divmod(b.mag, u32_as_non_zero(ONE));\n",
      "         ^*^\n",
      "\n",
      "\u001b[33mwarn\u001b[0m: Unused variable. Consider ignoring by prefixing with `_`.\n",
      " --> /home/guy1m0/.cache/scarb/registry/git/checkouts/orion-m80ng8gqktahi/8ff73895/src/numbers/fixed_point/implementations/fp16x16/core.cairo:433:22\n",
      "        Option::Some(val) => {\n",
      "                     ^*^\n",
      "\n",
      "\u001b[33mwarn\u001b[0m: Unused variable. Consider ignoring by prefixing with `_`.\n",
      " --> /home/guy1m0/.cache/scarb/registry/git/checkouts/orion-m80ng8gqktahi/8ff73895/src/numbers/fixed_point/implementations/fp16x16/math/core.cairo:214:10\n",
      "    let (div, rem) = integer::u32_safe_divmod(b.mag, u32_as_non_zero(ONE));\n",
      "         ^*^\n",
      "\n",
      "\u001b[33mwarn\u001b[0m: Unused variable. Consider ignoring by prefixing with `_`.\n",
      " --> /home/guy1m0/.cache/scarb/registry/git/checkouts/orion-m80ng8gqktahi/8ff73895/src/numbers/fixed_point/implementations/fp64x64/core.cairo:399:22\n",
      "        Option::Some(val) => {\n",
      "                     ^*^\n",
      "\n",
      "\u001b[33mwarn\u001b[0m: Unused variable. Consider ignoring by prefixing with `_`.\n",
      " --> /home/guy1m0/.cache/scarb/registry/git/checkouts/orion-m80ng8gqktahi/8ff73895/src/numbers/fixed_point/implementations/fp32x32/core.cairo:399:22\n",
      "        Option::Some(val) => {\n",
      "                     ^*^\n",
      "\n",
      "\u001b[33mwarn\u001b[0m: Unused variable. Consider ignoring by prefixing with `_`.\n",
      " --> /home/guy1m0/.cache/scarb/registry/git/checkouts/orion-m80ng8gqktahi/8ff73895/src/numbers/fixed_point/implementations/fp16x16wide/core.cairo:448:22\n",
      "        Option::Some(val) => {\n",
      "                     ^*^\n",
      "\n",
      "\u001b[33mwarn\u001b[0m: Unused variable. Consider ignoring by prefixing with `_`.\n",
      " --> /home/guy1m0/.cache/scarb/registry/git/checkouts/orion-m80ng8gqktahi/8ff73895/src/numbers/fixed_point/implementations/fp16x16wide/math/core.cairo:214:10\n",
      "    let (div, rem) = integer::u64_safe_divmod(b.mag, u64_as_non_zero(ONE));\n",
      "         ^*^\n",
      "\n",
      "\u001b[33mwarn\u001b[0m: Unused variable. Consider ignoring by prefixing with `_`.\n",
      " --> /home/guy1m0/.cache/scarb/registry/git/checkouts/orion-m80ng8gqktahi/8ff73895/src/numbers/fixed_point/implementations/fp8x23wide/core.cairo:436:22\n",
      "        Option::Some(val) => {\n",
      "                     ^*^\n",
      "\n",
      "\u001b[33mwarn\u001b[0m: Unused variable. Consider ignoring by prefixing with `_`.\n",
      " --> /home/guy1m0/.cache/scarb/registry/git/checkouts/orion-m80ng8gqktahi/8ff73895/src/numbers/fixed_point/implementations/fp8x23wide/math/core.cairo:215:10\n",
      "    let (div, rem) = integer::u64_safe_divmod(b.mag, u64_as_non_zero(ONE));\n",
      "         ^*^\n",
      "\n",
      "\u001b[33mwarn\u001b[0m: Unused variable. Consider ignoring by prefixing with `_`.\n",
      " --> /home/guy1m0/.cache/scarb/registry/git/checkouts/orion-m80ng8gqktahi/8ff73895/src/numbers/complex_number/complex64.cairo:225:13\n",
      "        let i = Complex64Impl::new(FP64x64Impl::ZERO(), FP64x64Impl::ONE());\n",
      "            ^\n",
      "\n",
      "\u001b[33mwarn\u001b[0m: Unused variable. Consider ignoring by prefixing with `_`.\n",
      " --> /home/guy1m0/.cache/scarb/registry/git/checkouts/cubit-k9rijvovof89o/6275608/src/f64/math/ops.cairo:209:10\n",
      "    let (div, rem) = core::integer::u64_safe_divmod(b.mag, u64_as_non_zero(ONE));\n",
      "         ^*^\n",
      "\n",
      "\u001b[33mwarn\u001b[0m: Unused variable. Consider ignoring by prefixing with `_`.\n",
      " --> /home/guy1m0/.cache/scarb/registry/git/checkouts/cubit-k9rijvovof89o/6275608/src/f128/math/ops.cairo:229:10\n",
      "    let (div_u128, rem_u128) = _split_unsigned(b);\n",
      "         ^******^\n",
      "\n",
      "\u001b[33mwarn\u001b[0m: Unused variable. Consider ignoring by prefixing with `_`.\n",
      " --> /home/guy1m0/.cache/scarb/registry/git/checkouts/alexandria-oen34onnk9gr0/01a7690/src/merkle_tree/src/storage_proof.cairo:85:13\n",
      "    let mut path: felt252 = 0;\n",
      "            ^**^\n",
      "\n",
      "\u001b[33mwarn\u001b[0m: Unused variable. Consider ignoring by prefixing with `_`.\n",
      " --> /home/guy1m0/.cache/scarb/registry/git/checkouts/alexandria-oen34onnk9gr0/01a7690/src/merkle_tree/src/storage_proof.cairo:86:13\n",
      "    let mut remaining_depth: u8 = 251;\n",
      "            ^*************^\n",
      "\n",
      "\u001b[33mwarn\u001b[0m: Unused variable. Consider ignoring by prefixing with `_`.\n",
      " --> /home/guy1m0/.cache/scarb/registry/git/checkouts/alexandria-oen34onnk9gr0/01a7690/src/data_structures/src/array_ext.cairo:51:30\n",
      "                Option::Some(v) => { n -= 1; },\n",
      "                             ^\n",
      "\n",
      "\u001b[33mwarn\u001b[0m: Unused variable. Consider ignoring by prefixing with `_`.\n",
      " --> /home/guy1m0/.cache/scarb/registry/git/checkouts/alexandria-oen34onnk9gr0/01a7690/src/data_structures/src/array_ext.cairo:128:30\n",
      "                Option::Some(v) => { n -= 1; },\n",
      "                             ^\n",
      "\n",
      "\u001b[33mwarn\u001b[0m: Unused variable. Consider ignoring by prefixing with `_`.\n",
      " --> /home/guy1m0/.cache/scarb/registry/git/checkouts/alexandria-oen34onnk9gr0/01a7690/src/data_structures/src/array_ext.cairo:140:30\n",
      "                Option::Some(v) => { n -= 1; },\n",
      "                             ^\n",
      "\n",
      "\u001b[33mwarn\u001b[0m: Unused variable. Consider ignoring by prefixing with `_`.\n",
      " --> /home/guy1m0/.cache/scarb/registry/git/checkouts/alexandria-oen34onnk9gr0/01a7690/src/math/src/ed25519.cairo:98:17\n",
      "        let mut i = 0;\n",
      "                ^\n",
      "\n",
      "\u001b[33mwarn\u001b[0m: Unused variable. Consider ignoring by prefixing with `_`.\n",
      " --> /home/guy1m0/.cache/scarb/registry/git/checkouts/alexandria-oen34onnk9gr0/01a7690/src/math/src/ed25519.cairo:228:9\n",
      "    let one_u512 = u512 { limb0: 1, limb1: 0, limb2: 0, limb3: 0 };\n",
      "        ^******^\n",
      "\n",
      "\u001b[33mwarn\u001b[0m: Unused variable. Consider ignoring by prefixing with `_`.\n",
      " --> /home/guy1m0/.cache/scarb/registry/git/checkouts/alexandria-oen34onnk9gr0/01a7690/src/math/src/ed25519.cairo:229:9\n",
      "    let two_non_zero: NonZero<u256> = integer::u256_try_as_non_zero(2).unwrap();\n",
      "        ^**********^\n",
      "\n",
      "\u001b[33mwarn\u001b[0m: Unused variable. Consider ignoring by prefixing with `_`.\n",
      " --> /home/guy1m0/.cache/scarb/registry/git/checkouts/alexandria-oen34onnk9gr0/01a7690/src/math/src/keccak256.cairo:56:21\n",
      "        let (value, n_bytes) = U64Trait::from_le_bytes(current_word);\n",
      "                    ^*****^\n",
      "\n",
      "\u001b[33mwarn\u001b[0m: Unused variable. Consider ignoring by prefixing with `_`.\n",
      " --> /home/guy1m0/.cache/scarb/registry/git/checkouts/alexandria-oen34onnk9gr0/01a7690/src/math/src/sha512.cairo:326:13\n",
      "    let mut h = get_h();\n",
      "            ^\n",
      "\n",
      "\u001b[33mwarn\u001b[0m: Unused variable. Consider ignoring by prefixing with `_`.\n",
      " --> /home/guy1m0/.cache/scarb/registry/git/checkouts/alexandria-oen34onnk9gr0/01a7690/src/math/src/sha512.cairo:327:13\n",
      "    let mut k = get_k();\n",
      "            ^\n",
      "\n",
      "\u001b[32m\u001b[1m    Finished\u001b[0m release target(s) in 11 seconds\n"
     ]
    },
    {
     "data": {
      "text/plain": [
       "CompletedProcess(args='cd ./tmp/196_25_10//inference/ && scarb build', returncode=0)"
      ]
     },
     "execution_count": 10,
     "metadata": {},
     "output_type": "execute_result"
    }
   ],
   "source": [
    "command = f'cd {output_folder}/inference/ && scarb build'\n",
    "subprocess.run(command, shell=True)"
   ]
  },
  {
   "cell_type": "code",
   "execution_count": 43,
   "metadata": {},
   "outputs": [],
   "source": [
    "input_json = output_folder + \"inference/target/dev/inference.sierra.json\"\n",
    "output_json = output_folder + \"output.casm.json\"\n",
    "\n",
    "command = ['./starknet-sierra-compile', '--', input_json, output_json]"
   ]
  },
  {
   "cell_type": "code",
   "execution_count": 44,
   "metadata": {},
   "outputs": [
    {
     "name": "stderr",
     "output_type": "stream",
     "text": [
      "Error: deserialization Failed.\n",
      "\n",
      "Caused by:\n",
      "    missing field `sierra_program` at line 1 column 8660425\n"
     ]
    },
    {
     "data": {
      "text/plain": [
       "CompletedProcess(args=['./starknet-sierra-compile', '--', './tmp/196_25_10/inference/target/dev/inference.sierra.json', './tmp/196_25_10/output.casm.json'], returncode=1)"
      ]
     },
     "execution_count": 44,
     "metadata": {},
     "output_type": "execute_result"
    }
   ],
   "source": [
    "subprocess.run(command)"
   ]
  },
  {
   "cell_type": "code",
   "execution_count": null,
   "metadata": {},
   "outputs": [],
   "source": []
  }
 ],
 "metadata": {
  "kernelspec": {
   "display_name": "Python 3",
   "language": "python",
   "name": "python3"
  },
  "language_info": {
   "codemirror_mode": {
    "name": "ipython",
    "version": 3
   },
   "file_extension": ".py",
   "mimetype": "text/x-python",
   "name": "python",
   "nbconvert_exporter": "python",
   "pygments_lexer": "ipython3",
   "version": "3.11.5"
  }
 },
 "nbformat": 4,
 "nbformat_minor": 2
}
