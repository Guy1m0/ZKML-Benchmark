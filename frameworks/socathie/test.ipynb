{
 "cells": [
  {
   "cell_type": "code",
   "execution_count": 92,
   "metadata": {},
   "outputs": [],
   "source": [
    "from tensorflow.keras.layers import Input, Dense, Softmax\n",
    "from tensorflow.keras import Model\n",
    "import numpy as np"
   ]
  },
  {
   "cell_type": "code",
   "execution_count": 144,
   "metadata": {},
   "outputs": [],
   "source": [
    "inputs = Input(shape=(28*28,))\n",
    "out = Dense(56, activation='relu')(inputs)\n",
    "out = Dense(10)(out)\n",
    "out = Softmax()(out)\n",
    "model_tf = Model(inputs, out)\n",
    "\n",
    "model_tf.compile(optimizer='adam', \n",
    "              loss='sparse_categorical_crossentropy', \n",
    "              metrics=['accuracy'])"
   ]
  },
  {
   "cell_type": "code",
   "execution_count": 145,
   "metadata": {},
   "outputs": [
    {
     "name": "stdout",
     "output_type": "stream",
     "text": [
      "Model: \"model_15\"\n",
      "_________________________________________________________________\n",
      " Layer (type)                Output Shape              Param #   \n",
      "=================================================================\n",
      " input_18 (InputLayer)       [(None, 784)]             0         \n",
      "                                                                 \n",
      " dense_31 (Dense)            (None, 56)                43960     \n",
      "                                                                 \n",
      " dense_32 (Dense)            (None, 10)                570       \n",
      "                                                                 \n",
      " softmax_5 (Softmax)         (None, 10)                0         \n",
      "                                                                 \n",
      "=================================================================\n",
      "Total params: 44530 (173.95 KB)\n",
      "Trainable params: 44530 (173.95 KB)\n",
      "Non-trainable params: 0 (0.00 Byte)\n",
      "_________________________________________________________________\n"
     ]
    }
   ],
   "source": [
    "model_tf.summary()"
   ]
  },
  {
   "cell_type": "code",
   "execution_count": 146,
   "metadata": {},
   "outputs": [],
   "source": [
    "import tensorflow as tf\n",
    "# Load TensorFlow MNIST data\n",
    "mnist = tf.keras.datasets.mnist\n",
    "(train_images, train_labels), (test_images, test_labels) = mnist.load_data()\n",
    "\n",
    "# Normalize and flatten the images\n",
    "train_images_tf = train_images.reshape((-1, 28*28)) / 255.0\n",
    "test_images_tf = test_images.reshape((-1, 28*28)) / 255.0"
   ]
  },
  {
   "cell_type": "code",
   "execution_count": 147,
   "metadata": {},
   "outputs": [
    {
     "name": "stdout",
     "output_type": "stream",
     "text": [
      "Epoch 1/10\n",
      "211/211 [==============================] - 1s 1ms/step - loss: 0.6104 - accuracy: 0.8349 - val_loss: 0.2516 - val_accuracy: 0.9335\n",
      "Epoch 2/10\n",
      "211/211 [==============================] - 0s 957us/step - loss: 0.2680 - accuracy: 0.9249 - val_loss: 0.1886 - val_accuracy: 0.9515\n",
      "Epoch 3/10\n",
      "211/211 [==============================] - 0s 1ms/step - loss: 0.2126 - accuracy: 0.9403 - val_loss: 0.1600 - val_accuracy: 0.9560\n",
      "Epoch 4/10\n",
      "211/211 [==============================] - 0s 1ms/step - loss: 0.1770 - accuracy: 0.9499 - val_loss: 0.1412 - val_accuracy: 0.9635\n",
      "Epoch 5/10\n",
      "211/211 [==============================] - 0s 1ms/step - loss: 0.1527 - accuracy: 0.9568 - val_loss: 0.1254 - val_accuracy: 0.9655\n",
      "Epoch 6/10\n",
      "211/211 [==============================] - 0s 1ms/step - loss: 0.1352 - accuracy: 0.9617 - val_loss: 0.1194 - val_accuracy: 0.9658\n",
      "Epoch 7/10\n",
      "211/211 [==============================] - 0s 1ms/step - loss: 0.1214 - accuracy: 0.9652 - val_loss: 0.1152 - val_accuracy: 0.9673\n",
      "Epoch 8/10\n",
      "211/211 [==============================] - 0s 915us/step - loss: 0.1093 - accuracy: 0.9692 - val_loss: 0.1099 - val_accuracy: 0.9682\n",
      "Epoch 9/10\n",
      "211/211 [==============================] - 0s 943us/step - loss: 0.1006 - accuracy: 0.9716 - val_loss: 0.1052 - val_accuracy: 0.9697\n",
      "Epoch 10/10\n",
      "211/211 [==============================] - 0s 981us/step - loss: 0.0927 - accuracy: 0.9739 - val_loss: 0.1020 - val_accuracy: 0.9692\n",
      "313/313 - 0s - loss: 0.1099 - accuracy: 0.9685 - 164ms/epoch - 523us/step\n",
      "\n",
      "Test accuracy: 0.968500018119812\n"
     ]
    }
   ],
   "source": [
    "# Train the model\n",
    "model_tf.fit(train_images_tf, train_labels, epochs=10, batch_size=256, validation_split=0.1)\n",
    "\n",
    "# Evaluate the model\n",
    "test_loss, test_acc = model_tf.evaluate(test_images_tf, test_labels, verbose=2)\n",
    "print('\\nTest accuracy:', test_acc)"
   ]
  },
  {
   "cell_type": "markdown",
   "metadata": {},
   "source": [
    "## Convert"
   ]
  },
  {
   "cell_type": "code",
   "execution_count": 148,
   "metadata": {},
   "outputs": [
    {
     "name": "stderr",
     "output_type": "stream",
     "text": [
      "/home/guy1m0/Desktop/ZKML-Benchmark/env/lib/python3.10/site-packages/keras/src/engine/training.py:3103: UserWarning: You are saving your model as an HDF5 file via `model.save()`. This file format is considered legacy. We recommend using instead the native Keras format, e.g. `model.save('my_model.keras')`.\n",
      "  saving_api.save_model(\n"
     ]
    }
   ],
   "source": [
    "model_tf.save(\"test.h5\")"
   ]
  },
  {
   "cell_type": "code",
   "execution_count": 149,
   "metadata": {},
   "outputs": [
    {
     "name": "stderr",
     "output_type": "stream",
     "text": [
      "2024-02-01 11:28:30.986095: I tensorflow/core/util/port.cc:113] oneDNN custom operations are on. You may see slightly different numerical results due to floating-point round-off errors from different computation orders. To turn them off, set the environment variable `TF_ENABLE_ONEDNN_OPTS=0`.\n",
      "2024-02-01 11:28:31.005952: E external/local_xla/xla/stream_executor/cuda/cuda_dnn.cc:9261] Unable to register cuDNN factory: Attempting to register factory for plugin cuDNN when one has already been registered\n",
      "2024-02-01 11:28:31.005974: E external/local_xla/xla/stream_executor/cuda/cuda_fft.cc:607] Unable to register cuFFT factory: Attempting to register factory for plugin cuFFT when one has already been registered\n",
      "2024-02-01 11:28:31.006476: E external/local_xla/xla/stream_executor/cuda/cuda_blas.cc:1515] Unable to register cuBLAS factory: Attempting to register factory for plugin cuBLAS when one has already been registered\n",
      "2024-02-01 11:28:31.009511: I tensorflow/core/platform/cpu_feature_guard.cc:182] This TensorFlow binary is optimized to use available CPU instructions in performance-critical operations.\n",
      "To enable the following instructions: AVX2 AVX_VNNI FMA, in other operations, rebuild TensorFlow with the appropriate compiler flags.\n",
      "2024-02-01 11:28:31.361748: W tensorflow/compiler/tf2tensorrt/utils/py_utils.cc:38] TF-TRT Warning: Could not find TensorRT\n",
      "2024-02-01 11:28:31.724758: I external/local_xla/xla/stream_executor/cuda/cuda_executor.cc:901] successful NUMA node read from SysFS had negative value (-1), but there must be at least one NUMA node, so returning NUMA node zero. See more at https://github.com/torvalds/linux/blob/v6.0/Documentation/ABI/testing/sysfs-bus-pci#L344-L355\n",
      "2024-02-01 11:28:31.743400: I external/local_xla/xla/stream_executor/cuda/cuda_executor.cc:901] successful NUMA node read from SysFS had negative value (-1), but there must be at least one NUMA node, so returning NUMA node zero. See more at https://github.com/torvalds/linux/blob/v6.0/Documentation/ABI/testing/sysfs-bus-pci#L344-L355\n",
      "2024-02-01 11:28:31.743501: I external/local_xla/xla/stream_executor/cuda/cuda_executor.cc:901] successful NUMA node read from SysFS had negative value (-1), but there must be at least one NUMA node, so returning NUMA node zero. See more at https://github.com/torvalds/linux/blob/v6.0/Documentation/ABI/testing/sysfs-bus-pci#L344-L355\n",
      "2024-02-01 11:28:31.744154: I external/local_xla/xla/stream_executor/cuda/cuda_executor.cc:901] successful NUMA node read from SysFS had negative value (-1), but there must be at least one NUMA node, so returning NUMA node zero. See more at https://github.com/torvalds/linux/blob/v6.0/Documentation/ABI/testing/sysfs-bus-pci#L344-L355\n",
      "2024-02-01 11:28:31.744208: I external/local_xla/xla/stream_executor/cuda/cuda_executor.cc:901] successful NUMA node read from SysFS had negative value (-1), but there must be at least one NUMA node, so returning NUMA node zero. See more at https://github.com/torvalds/linux/blob/v6.0/Documentation/ABI/testing/sysfs-bus-pci#L344-L355\n",
      "2024-02-01 11:28:31.744248: I external/local_xla/xla/stream_executor/cuda/cuda_executor.cc:901] successful NUMA node read from SysFS had negative value (-1), but there must be at least one NUMA node, so returning NUMA node zero. See more at https://github.com/torvalds/linux/blob/v6.0/Documentation/ABI/testing/sysfs-bus-pci#L344-L355\n",
      "2024-02-01 11:28:31.772642: I external/local_xla/xla/stream_executor/cuda/cuda_executor.cc:901] successful NUMA node read from SysFS had negative value (-1), but there must be at least one NUMA node, so returning NUMA node zero. See more at https://github.com/torvalds/linux/blob/v6.0/Documentation/ABI/testing/sysfs-bus-pci#L344-L355\n",
      "2024-02-01 11:28:31.772727: I external/local_xla/xla/stream_executor/cuda/cuda_executor.cc:901] successful NUMA node read from SysFS had negative value (-1), but there must be at least one NUMA node, so returning NUMA node zero. See more at https://github.com/torvalds/linux/blob/v6.0/Documentation/ABI/testing/sysfs-bus-pci#L344-L355\n",
      "2024-02-01 11:28:31.772786: I external/local_xla/xla/stream_executor/cuda/cuda_executor.cc:901] successful NUMA node read from SysFS had negative value (-1), but there must be at least one NUMA node, so returning NUMA node zero. See more at https://github.com/torvalds/linux/blob/v6.0/Documentation/ABI/testing/sysfs-bus-pci#L344-L355\n",
      "2024-02-01 11:28:31.772830: I tensorflow/core/common_runtime/gpu/gpu_device.cc:1929] Created device /job:localhost/replica:0/task:0/device:GPU:0 with 1042 MB memory:  -> device: 0, name: NVIDIA GeForce RTX 4090, pci bus id: 0000:01:00.0, compute capability: 8.9\n",
      "Traceback (most recent call last):\n",
      "  File \"/home/guy1m0/Desktop/ZKML-Benchmark/frameworks/socathie/main.py\", line 26, in <module>\n",
      "    main()\n",
      "  File \"/home/guy1m0/Desktop/ZKML-Benchmark/frameworks/socathie/main.py\", line 22, in main\n",
      "    transpiler.transpile(args['<model.h5>'], args['--output'], args['--raw'], args['--decimals'])\n",
      "  File \"/home/guy1m0/Desktop/ZKML-Benchmark/frameworks/socathie/keras2circom/transpiler.py\", line 26, in transpile\n",
      "    f.write(circuit.to_circom())\n",
      "  File \"/home/guy1m0/Desktop/ZKML-Benchmark/frameworks/socathie/keras2circom/circom.py\", line 370, in to_circom\n",
      "    'component': self.inject_component(),\n",
      "  File \"/home/guy1m0/Desktop/ZKML-Benchmark/frameworks/socathie/keras2circom/circom.py\", line 354, in inject_component\n",
      "    inject_str += component.inject_component()\n",
      "  File \"/home/guy1m0/Desktop/ZKML-Benchmark/frameworks/socathie/keras2circom/circom.py\", line 263, in inject_component\n",
      "    inject_str = 'component {}{};\\n'.format(self.name, parse_shape(output_signal.shape))\n",
      "UnboundLocalError: local variable 'output_signal' referenced before assignment\n"
     ]
    },
    {
     "data": {
      "text/plain": [
       "CompletedProcess(args=['python', 'main.py', './test.h5', '-o', './test_model/'], returncode=1)"
      ]
     },
     "execution_count": 149,
     "metadata": {},
     "output_type": "execute_result"
    }
   ],
   "source": [
    "command = ['python','main.py', \"./test.h5\", \"-o\", \"./test_model/\"]\n",
    "import subprocess\n",
    "subprocess.run(command)"
   ]
  },
  {
   "cell_type": "markdown",
   "metadata": {},
   "source": [
    "## Load and Test"
   ]
  },
  {
   "cell_type": "code",
   "execution_count": 150,
   "metadata": {},
   "outputs": [],
   "source": [
    "p = 21888242871839275222246405745257275088548364400416034343698204186575808495617\n",
    "X = test_images_tf[4]\n",
    "#X = np.random.rand(1,784)[0]\n",
    "\n",
    "X_in = [int(x*1e36) for x in X]"
   ]
  },
  {
   "cell_type": "code",
   "execution_count": 151,
   "metadata": {},
   "outputs": [
    {
     "data": {
      "text/plain": [
       "TensorShape([784, 56])"
      ]
     },
     "execution_count": 151,
     "metadata": {},
     "output_type": "execute_result"
    }
   ],
   "source": [
    "model_tf.weights[0].shape"
   ]
  },
  {
   "cell_type": "markdown",
   "metadata": {},
   "source": [
    "#### New"
   ]
  },
  {
   "cell_type": "code",
   "execution_count": 152,
   "metadata": {},
   "outputs": [],
   "source": [
    "\n",
    "Dense32weights = [[int(model_tf.weights[0].numpy()[i][j]*1e36) for j in range(56)] for i in range(784)]\n",
    "Dense32bias = [int(model_tf.weights[1].numpy()[i]*1e72) for i in range(56)]\n",
    "\n",
    "Dense21weights = [[int(model_tf.weights[2].numpy()[i][j]*1e36) for j in range(10)] for i in range(56)]\n",
    "Dense21bias = [int(model_tf.weights[3].numpy()[i]*1e72) for i in range(10)]"
   ]
  },
  {
   "cell_type": "code",
   "execution_count": 153,
   "metadata": {},
   "outputs": [],
   "source": [
    "def DenseInt(nInputs, nOutputs, n, input, weights, bias):\n",
    "    Input = [str(input[i] % p) for i in range(nInputs)]\n",
    "    Weights = [[str(weights[i][j] % p) for j in range(nOutputs)] for i in range(nInputs)]\n",
    "    Bias = [str(bias[i] % p) for i in range(nOutputs)]\n",
    "    out = [0 for _ in range(nOutputs)]\n",
    "    remainder = [None for _ in range(nOutputs)]\n",
    "    for j in range(nOutputs):\n",
    "        for i in range(nInputs):\n",
    "            out[j] += input[i] * weights[i][j]\n",
    "        out[j] += bias[j]\n",
    "        remainder[j] = str(out[j] % n)\n",
    "        out[j] = str(out[j] // n % p)\n",
    "    return Input, Weights, Bias, out, remainder"
   ]
  },
  {
   "cell_type": "code",
   "execution_count": 154,
   "metadata": {},
   "outputs": [
    {
     "data": {
      "text/plain": [
       "(['21888242871839275222246405745257275088548322211608623854345287816239773308690',\n",
       "  '838127788734923734202849044168451719',\n",
       "  '989682002116323459865011092253239033',\n",
       "  '21888242871839275222246405745257275088547837005085880353600835772829491813172',\n",
       "  '21888242871839275222246405745257275088546681325947829007611960439691397236159',\n",
       "  '70306491376558188082876180923208898',\n",
       "  '2653387504983088696145886993282555768',\n",
       "  '2897930119007223441137461037794890229',\n",
       "  '21888242871839275222246405745257275088548264352036519666791453960988047706102',\n",
       "  '21888242871839275222246405745257275088548308234756370560494393777332216095867',\n",
       "  '2311884288251509802362091076182681762',\n",
       "  '21888242871839275222246405745257275088547393936530198113461394877447896151659',\n",
       "  '1018971716778754653207269380342185146',\n",
       "  '21888242871839275222246405745257275088548343227263662066155831205117888076463',\n",
       "  '21888242871839275222246405745257275088546360966396581652067013953155575587023',\n",
       "  '2596120883318750958595183206868504977',\n",
       "  '314122120837918369870908011854138660',\n",
       "  '268679185704711728630942362135647355',\n",
       "  '3286492182042760441386719875464145688',\n",
       "  '1992007299677432476393040259824933103',\n",
       "  '21888242871839275222246405745257275088546740082134691885378731420561475420724',\n",
       "  '784458846251329741190306489471862078',\n",
       "  '21888242871839275222246405745257275088547646775573519356614735627497241857613',\n",
       "  '21888242871839275222246405745257275088547709998855463089028519052795219066342',\n",
       "  '3632503942983435368671718124316189337',\n",
       "  '625421081371057637140402321814654273',\n",
       "  '416618534254695519669666691851424372',\n",
       "  '21888242871839275222246405745257275088547537651866372799307246906127881685848',\n",
       "  '1550645516128462018899905091250598139',\n",
       "  '2385681344047143320324495683212380411',\n",
       "  '21888242871839275222246405745257275088547942925040669169998461371298743849837',\n",
       "  '75569585051533692721968485746537064',\n",
       "  '1607286354012367425645220073373337071',\n",
       "  '127815225796646220869477620194831948',\n",
       "  '4200577730324813693121425849475412104',\n",
       "  '1264580646399226010191887802674993986',\n",
       "  '919187479187031544564305548624031524',\n",
       "  '21888242871839275222246405745257275088548128575154756539475330241272924256784',\n",
       "  '608843020134258516627821179580889473',\n",
       "  '21888242871839275222246405745257275088547913123166371124570988373246480364074',\n",
       "  '21888242871839275222246405745257275088548339907819818957849715223180477616947',\n",
       "  '21888242871839275222246405745257275088547626379086684085372741138997144309598',\n",
       "  '21888242871839275222246405745257275088543109323402629467691693497650553142505',\n",
       "  '21888242871839275222246405745257275088548299919958475334810002994141826825304',\n",
       "  '1124910531773725045848235352667529520',\n",
       "  '223978780527306964286688634680568739',\n",
       "  '2140466239499658849688851362284543203',\n",
       "  '813508590801924939243291190928515467',\n",
       "  '3015152994050717593734906231035009688',\n",
       "  '21888242871839275222246405745257275088544601238073838798150698441984264911059',\n",
       "  '3215984236346740647394712845787629469',\n",
       "  '21888242871839275222246405745257275088547379786181498425218016908251602926883',\n",
       "  '3540044332551770382290727577642141308',\n",
       "  '21888242871839275222246405745257275088546902049292685257524259248934133573500',\n",
       "  '1438078903698125134052363974147608941',\n",
       "  '1894614094280747544566224088935559741'],\n",
       " ['262331646983085485993011409168891904',\n",
       "  '428989222566022458188959048976564224',\n",
       "  '311365062936084205437257004561203200',\n",
       "  '961640836682407770315691499576098816',\n",
       "  '254445873815424813300331088808247296',\n",
       "  '58432281635488592480554078976344064',\n",
       "  '107758474775523534564653730667429888',\n",
       "  '374044267668318255703824316556640256',\n",
       "  '533310513108998943635237071298232320',\n",
       "  '295563863045850954118967282160893952',\n",
       "  '584574759817422477064349974408462336',\n",
       "  '354380128605552815908305669107744768',\n",
       "  '757021887030997779343089871680962560',\n",
       "  '128621885213683308598232798000578560',\n",
       "  '526323777278832564685596334911127552',\n",
       "  '875721000484569507473467466733060096',\n",
       "  '944219231745202956326258040671043584',\n",
       "  '224509339514872915064857908861730816',\n",
       "  '700108336993557144245734335299190784',\n",
       "  '850354365349768357595436123649212416',\n",
       "  '911715597290362007570213367835525120',\n",
       "  '957020839151448774286148145952849920',\n",
       "  '788922205747045847446450597454151680',\n",
       "  '735919688783297416415602269994614784',\n",
       "  '704292009496624038969352787368869888',\n",
       "  '953615176808269637302912292994678784',\n",
       "  '699105701920877229966102433701560320',\n",
       "  '793490385196017945239856669041623040',\n",
       "  '85373741736173162936681433116180480',\n",
       "  '260563577115980130612984620668420096',\n",
       "  '216578703412289638616505102389739520',\n",
       "  '887836123139593577783815803953479680',\n",
       "  '217871742361007421929055553067155456',\n",
       "  '861125939927401990176306314705108992',\n",
       "  '531889387096006410055472274393268224',\n",
       "  '237103523706815877612500776720007168',\n",
       "  '345769030624218497707096995434332160',\n",
       "  '829834420346032252725144259452207104',\n",
       "  '432974780099821441036721807350038528',\n",
       "  '179189355854841846739433219407478784',\n",
       "  '946691537767946151910641647044526080',\n",
       "  '98873268644351873450086226395660288',\n",
       "  '983977833007455834865705391136702464',\n",
       "  '182718241465127824463577262541766656',\n",
       "  '138619609266920897522445939959136256',\n",
       "  '772269003370867774052889860541251584',\n",
       "  '579784062983663373205896068438425600',\n",
       "  '990779749285212826137020648451473408',\n",
       "  '14620646254956471073957230080425984',\n",
       "  '880280548539517784191236735267504128',\n",
       "  '764016824230226317589105160885370880',\n",
       "  '199964065201799858179928780733153280',\n",
       "  '810982727048865583678653546432036864',\n",
       "  '209676160642021681121661454223671296',\n",
       "  '104556606675744446341788221782884352',\n",
       "  '799927270355284394803307553363066880'])"
      ]
     },
     "execution_count": 154,
     "metadata": {},
     "output_type": "execute_result"
    }
   ],
   "source": [
    "X_in, Dense32weights, Dense32bias, Dense32out, Dense32remainder = DenseInt(784, 56, 10**36, X_in, Dense32weights, Dense32bias)\n",
    "Dense32out, Dense32remainder"
   ]
  },
  {
   "cell_type": "code",
   "execution_count": 166,
   "metadata": {},
   "outputs": [
    {
     "data": {
      "text/plain": [
       "115312"
      ]
     },
     "execution_count": 166,
     "metadata": {},
     "output_type": "execute_result"
    },
    {
     "ename": "",
     "evalue": "",
     "output_type": "error",
     "traceback": [
      "\u001b[1;31mThe Kernel crashed while executing code in the the current cell or a previous cell. Please review the code in the cell(s) to identify a possible cause of the failure. Click <a href='https://aka.ms/vscodeJupyterKernelCrash'>here</a> for more info. View Jupyter <a href='command:jupyter.viewOutput'>log</a> for further details."
     ]
    }
   ],
   "source": [
    "2**18 - 73416*2"
   ]
  },
  {
   "cell_type": "code",
   "execution_count": 155,
   "metadata": {},
   "outputs": [],
   "source": [
    "ReLUout = [Dense32out[i] if int(Dense32out[i]) < p//2 else 0 for i in range(56)]\n",
    "Dense21in = [int(ReLUout[i]) for i in range(56)]"
   ]
  },
  {
   "cell_type": "code",
   "execution_count": 156,
   "metadata": {},
   "outputs": [
    {
     "data": {
      "text/plain": [
       "(['21888242871839275222246405745257275088546063345820156910217155069369018194114',\n",
       "  '21888242871839275222246405745257275088538590289104506794594989949241573741180',\n",
       "  '21888242871839275222246405745257275088546103770114443425951061204561191726538',\n",
       "  '21888242871839275222246405745257275088540742419736991881987614813282035171350',\n",
       "  '5641281201191648344837512235207434840',\n",
       "  '21888242871839275222246405745257275088541824554966492621219814005755554337498',\n",
       "  '21888242871839275222246405745257275088548160952719083071203795248972577137373',\n",
       "  '21888242871839275222246405745257275088545629352270692811625938920666603684864',\n",
       "  '21888242871839275222246405745257275088546698678871651554478873733940295618882',\n",
       "  '118424560718366063795441929229994668'],\n",
       " ['335124400235748579544585479145914368',\n",
       "  '603849222862733966791444371228065792',\n",
       "  '968872479321219891088160199442169856',\n",
       "  '702370338190297604758116005299879936',\n",
       "  '803442790744809603223506146039955456',\n",
       "  '259368469105901904114611693207683072',\n",
       "  '329827380825282786493556363746082816',\n",
       "  '480037659000573704543751088442966016',\n",
       "  '143347669229567236930968845658619904',\n",
       "  '349381192691768500959780632218566656'])"
      ]
     },
     "execution_count": 156,
     "metadata": {},
     "output_type": "execute_result"
    }
   ],
   "source": [
    "_, Dense21weights, Dense21bias, Dense21out, Dense21remainder = DenseInt(56, 10, 10**36, Dense21in, Dense21weights, Dense21bias)\n",
    "Dense21out, Dense21remainder"
   ]
  },
  {
   "cell_type": "code",
   "execution_count": 160,
   "metadata": {},
   "outputs": [],
   "source": [
    "out = int(np.argmax([int(x) for x in [\"146056340277142749194949014098804736\", \"39492307559960320980712927461900288\", \"738329582115306739978087991762485248\", \"999573412960859064739198007037132800\", \"787150261617010841260740606907383808\", \"354730341639184725959469694472683520\", \"64983515283906415008334548582793216\", \"843260069024032851277416705508245504\", \"324453694733099255386432265024176128\", \"288508078226094621922833223366213632\"]]))"
   ]
  },
  {
   "cell_type": "code",
   "execution_count": 161,
   "metadata": {},
   "outputs": [
    {
     "data": {
      "text/plain": [
       "3"
      ]
     },
     "execution_count": 161,
     "metadata": {},
     "output_type": "execute_result"
    }
   ],
   "source": [
    "out"
   ]
  },
  {
   "cell_type": "code",
   "execution_count": 159,
   "metadata": {},
   "outputs": [],
   "source": [
    "import json\n",
    "in_json = {\n",
    "    \"in\": X_in,\n",
    "    \"Dense32weights\": Dense32weights,\n",
    "    \"Dense32bias\": Dense32bias,\n",
    "    \"Dense32out\": Dense32out,\n",
    "    \"Dense32remainder\": Dense32remainder,\n",
    "    \"ReLUout\": ReLUout,\n",
    "    \"Dense21weights\": Dense21weights,\n",
    "    \"Dense21bias\": Dense21bias,\n",
    "    \"Dense21out\": Dense21out,\n",
    "    \"Dense21remainder\": Dense21remainder\n",
    "}\n",
    "\n",
    "with open(\"./test_model/dnn_input.json\", \"w\") as f:\n",
    "    json.dump(in_json, f)"
   ]
  },
  {
   "cell_type": "markdown",
   "metadata": {},
   "source": [
    "#### Old"
   ]
  },
  {
   "cell_type": "code",
   "execution_count": 98,
   "metadata": {},
   "outputs": [],
   "source": [
    "dense_5_weights = [[None for _ in range(56)] for _ in range(784)]\n",
    "for i in range(784):\n",
    "    for j in range(56):\n",
    "        dense_5_weights[i][j] = int(model_tf.get_weights()[0][i][j]*1e18)\n",
    "\n",
    "dense_5_bias = [int(b*1e36) for b in model_tf.get_weights()[1]]\n",
    "\n",
    "dense_6_weights = [[int(model_tf.weights[2].numpy()[i][j]*1e18) for j in range(10)] for i in range(56)]\n",
    "dense_6_bias = [int(b*1e36) for b in model_tf.get_weights()[3]]\n"
   ]
  },
  {
   "cell_type": "code",
   "execution_count": 99,
   "metadata": {},
   "outputs": [],
   "source": [
    "# inputs = Input(shape=(20,))\n",
    "# out = Dense(10)(inputs)\n",
    "# model = Model(inputs, out)\n",
    "\n",
    "# X = np.random.rand(1,20)\n",
    "# X_in = [int(x*1e18) for x in X[0]]\n",
    "# weights = [[None for _ in range(10)] for _ in range(20)]\n",
    "# for i in range(20):\n",
    "#     for j in range(10):\n",
    "#         weights[i][j] = int(model.get_weights()[0][i][j]*1e18)\n",
    "# bias = [int(b*1e36) for b in model.get_weights()[1]]"
   ]
  },
  {
   "cell_type": "code",
   "execution_count": 65,
   "metadata": {},
   "outputs": [],
   "source": [
    "def DenseInt(nInputs, nOutputs, n, input, weights, bias):\n",
    "    print (nInputs, len(input))\n",
    "    Input = [str(input[i] % p) for i in range(nInputs)]\n",
    "    Weights = [[str(weights[i][j] % p) for j in range(nOutputs)] for i in range(nInputs)]\n",
    "    Bias = [str(bias[i] % p) for i in range(nOutputs)]\n",
    "    \n",
    "    out = [0 for _ in range(nOutputs)]\n",
    "    remainder = [None for _ in range(nOutputs)]\n",
    "    for j in range(nOutputs):\n",
    "        for i in range(nInputs):\n",
    "            out[j] += input[i] * weights[i][j]\n",
    "        out[j] += bias[j]\n",
    "        remainder[j] = str(out[j] % n)\n",
    "        out[j] = out[j] // n % p\n",
    "            \n",
    "    return Input, Weights, Bias, out, remainder"
   ]
  },
  {
   "cell_type": "code",
   "execution_count": 101,
   "metadata": {},
   "outputs": [
    {
     "name": "stdout",
     "output_type": "stream",
     "text": [
      "784 784\n"
     ]
    },
    {
     "data": {
      "text/plain": [
       "[21888242871839275222246405745257275088548364400416034343695413673901769423381,\n",
       " 21888242871839275222246405745257275088548364400416034343697080305351375549208,\n",
       " 994954139206503724,\n",
       " 460690161903381966,\n",
       " 1441875931380006119,\n",
       " 2568761130285394505,\n",
       " 6243527618083844931,\n",
       " 21888242871839275222246405745257275088548364400416034343697194592768764969683,\n",
       " 21888242871839275222246405745257275088548364400416034343697153028417008716098,\n",
       " 21888242871839275222246405745257275088548364400416034343697872696290751213324,\n",
       " 539200387517099896,\n",
       " 2761491409260505672,\n",
       " 21888242871839275222246405745257275088548364400416034343696270106684133325424,\n",
       " 21888242871839275222246405745257275088548364400416034343697289969882144042096,\n",
       " 1241712651730003742,\n",
       " 21888242871839275222246405745257275088548364400416034343697663845024392873425,\n",
       " 21888242871839275222246405745257275088548364400416034343697680159256366087807,\n",
       " 1102938592615628635,\n",
       " 2725362754133803799,\n",
       " 21888242871839275222246405745257275088548364400416034343696461506147897078155,\n",
       " 2955766223436769344,\n",
       " 1144171414489392222,\n",
       " 1833035373153603288,\n",
       " 1809524731128933041,\n",
       " 355029249515420880,\n",
       " 21888242871839275222246405745257275088548364400416034343696452397640858271861,\n",
       " 45519160448034845,\n",
       " 21888242871839275222246405745257275088548364400416034343694906523369188609421,\n",
       " 21888242871839275222246405745257275088548364400416034343696579879664032397639,\n",
       " 1661271043919373789,\n",
       " 21888242871839275222246405745257275088548364400416034343696884509757861757036,\n",
       " 4428909585348275595,\n",
       " 21888242871839275222246405745257275088548364400416034343695946580918497241039,\n",
       " 5319824417503596299,\n",
       " 485103051874366617,\n",
       " 251863751115788735,\n",
       " 2653089810073416778,\n",
       " 908234668680119808,\n",
       " 21888242871839275222246405745257275088548364400416034343696418271464965300565,\n",
       " 4943502490088233878,\n",
       " 21888242871839275222246405745257275088548364400416034343697466542763466327696,\n",
       " 21888242871839275222246405745257275088548364400416034343695888287831475234092,\n",
       " 21888242871839275222246405745257275088548364400416034343696952742540898264332,\n",
       " 21888242871839275222246405745257275088548364400416034343694757598683269372076,\n",
       " 2321380075418582110,\n",
       " 21888242871839275222246405745257275088548364400416034343695844660120126724563,\n",
       " 150014016409313275,\n",
       " 2609573011131678699,\n",
       " 925028240967395865,\n",
       " 692362103461374658,\n",
       " 632988946151682238,\n",
       " 1179264758623606802,\n",
       " 21888242871839275222246405745257275088548364400416034343696786279671471042630,\n",
       " 342635642957654489,\n",
       " 541959999992932107,\n",
       " 2480423093910383841]"
      ]
     },
     "execution_count": 101,
     "metadata": {},
     "output_type": "execute_result"
    }
   ],
   "source": [
    "X_in_, dense_5_weights_, dense_5_bias_, dense_5_out, dense_5_remainder = DenseInt(784, 56, 10**18, X_in, dense_5_weights, dense_5_bias)\n",
    "dense_5_out"
   ]
  },
  {
   "cell_type": "code",
   "execution_count": 102,
   "metadata": {},
   "outputs": [
    {
     "name": "stdout",
     "output_type": "stream",
     "text": [
      "56 56\n"
     ]
    },
    {
     "data": {
      "text/plain": [
       "(['12075379958369603242830399738394312734247806963228711798442092012114202897631',\n",
       "  '6468580745065499922344663494331649573125265831871662405838953890259293768125',\n",
       "  '763248891612557251503749184682887381615347598960095945515341839628435635771',\n",
       "  '592425057279761147925116737871979863078696037190077435003232943214624548938',\n",
       "  '14099676131393303284942703490550866217556714618328391095276685312335041929832',\n",
       "  '14588359524946574554739773191281036571493956608434419907220394573887547359948',\n",
       "  '20785642866932806016285982668887898429952420686350829461302888974244918243721',\n",
       "  '9797395273936724840545722035256917984029012891693886374417107746960209053066',\n",
       "  '4260982254807358892295140774482644374077719977189807542578040628126831601434',\n",
       "  '12880104521965360909146243109399417530551522995703937508086210317168434950636'],\n",
       " ['453077510589187119',\n",
       "  '367820727835617810',\n",
       "  '916977953582031334',\n",
       "  '504128091219787531',\n",
       "  '739066893170160758',\n",
       "  '514650509222634778',\n",
       "  '432894158362207454',\n",
       "  '163417922212360877',\n",
       "  '472225254960507426',\n",
       "  '324463083042983954'])"
      ]
     },
     "execution_count": 102,
     "metadata": {},
     "output_type": "execute_result"
    }
   ],
   "source": [
    "_, weights, bias, out, remainder = DenseInt(56, 10, 10**18, dense_5_out, dense_6_weights, dense_6_bias, last_layer=True)\n",
    "out, remainder"
   ]
  },
  {
   "cell_type": "code",
   "execution_count": 64,
   "metadata": {},
   "outputs": [
    {
     "ename": "TypeError",
     "evalue": "You are passing KerasTensor(type_spec=TensorSpec(shape=(None, 10), dtype=tf.float32, name=None), name='softmax/Softmax:0', description=\"created by layer 'softmax'\"), an intermediate Keras symbolic input/output, to a TF API that does not allow registering custom dispatchers, such as `tf.cond`, `tf.function`, gradient tapes, or `tf.map_fn`. Keras Functional model construction only supports TF API calls that *do* support dispatching, such as `tf.math.add` or `tf.reshape`. Other APIs cannot be called directly on symbolic Kerasinputs/outputs. You can work around this limitation by putting the operation in a custom Keras layer `call` and calling that layer on this symbolic input/output.",
     "output_type": "error",
     "traceback": [
      "\u001b[0;31m---------------------------------------------------------------------------\u001b[0m",
      "\u001b[0;31mTypeError\u001b[0m                                 Traceback (most recent call last)",
      "Cell \u001b[0;32mIn[64], line 1\u001b[0m\n\u001b[0;32m----> 1\u001b[0m \u001b[43mnp\u001b[49m\u001b[38;5;241;43m.\u001b[39;49m\u001b[43margmax\u001b[49m\u001b[43m(\u001b[49m\u001b[43mout\u001b[49m\u001b[43m)\u001b[49m\n",
      "File \u001b[0;32m~/Desktop/ZKML-Benchmark/env/lib/python3.10/site-packages/numpy/core/fromnumeric.py:1229\u001b[0m, in \u001b[0;36margmax\u001b[0;34m(a, axis, out, keepdims)\u001b[0m\n\u001b[1;32m   1142\u001b[0m \u001b[38;5;250m\u001b[39m\u001b[38;5;124;03m\"\"\"\u001b[39;00m\n\u001b[1;32m   1143\u001b[0m \u001b[38;5;124;03mReturns the indices of the maximum values along an axis.\u001b[39;00m\n\u001b[1;32m   1144\u001b[0m \n\u001b[0;32m   (...)\u001b[0m\n\u001b[1;32m   1226\u001b[0m \u001b[38;5;124;03m(2, 1, 4)\u001b[39;00m\n\u001b[1;32m   1227\u001b[0m \u001b[38;5;124;03m\"\"\"\u001b[39;00m\n\u001b[1;32m   1228\u001b[0m kwds \u001b[38;5;241m=\u001b[39m {\u001b[38;5;124m'\u001b[39m\u001b[38;5;124mkeepdims\u001b[39m\u001b[38;5;124m'\u001b[39m: keepdims} \u001b[38;5;28;01mif\u001b[39;00m keepdims \u001b[38;5;129;01mis\u001b[39;00m \u001b[38;5;129;01mnot\u001b[39;00m np\u001b[38;5;241m.\u001b[39m_NoValue \u001b[38;5;28;01melse\u001b[39;00m {}\n\u001b[0;32m-> 1229\u001b[0m \u001b[38;5;28;01mreturn\u001b[39;00m \u001b[43m_wrapfunc\u001b[49m\u001b[43m(\u001b[49m\u001b[43ma\u001b[49m\u001b[43m,\u001b[49m\u001b[43m \u001b[49m\u001b[38;5;124;43m'\u001b[39;49m\u001b[38;5;124;43margmax\u001b[39;49m\u001b[38;5;124;43m'\u001b[39;49m\u001b[43m,\u001b[49m\u001b[43m \u001b[49m\u001b[43maxis\u001b[49m\u001b[38;5;241;43m=\u001b[39;49m\u001b[43maxis\u001b[49m\u001b[43m,\u001b[49m\u001b[43m \u001b[49m\u001b[43mout\u001b[49m\u001b[38;5;241;43m=\u001b[39;49m\u001b[43mout\u001b[49m\u001b[43m,\u001b[49m\u001b[43m \u001b[49m\u001b[38;5;241;43m*\u001b[39;49m\u001b[38;5;241;43m*\u001b[39;49m\u001b[43mkwds\u001b[49m\u001b[43m)\u001b[49m\n",
      "File \u001b[0;32m~/Desktop/ZKML-Benchmark/env/lib/python3.10/site-packages/numpy/core/fromnumeric.py:56\u001b[0m, in \u001b[0;36m_wrapfunc\u001b[0;34m(obj, method, *args, **kwds)\u001b[0m\n\u001b[1;32m     54\u001b[0m bound \u001b[38;5;241m=\u001b[39m \u001b[38;5;28mgetattr\u001b[39m(obj, method, \u001b[38;5;28;01mNone\u001b[39;00m)\n\u001b[1;32m     55\u001b[0m \u001b[38;5;28;01mif\u001b[39;00m bound \u001b[38;5;129;01mis\u001b[39;00m \u001b[38;5;28;01mNone\u001b[39;00m:\n\u001b[0;32m---> 56\u001b[0m     \u001b[38;5;28;01mreturn\u001b[39;00m \u001b[43m_wrapit\u001b[49m\u001b[43m(\u001b[49m\u001b[43mobj\u001b[49m\u001b[43m,\u001b[49m\u001b[43m \u001b[49m\u001b[43mmethod\u001b[49m\u001b[43m,\u001b[49m\u001b[43m \u001b[49m\u001b[38;5;241;43m*\u001b[39;49m\u001b[43margs\u001b[49m\u001b[43m,\u001b[49m\u001b[43m \u001b[49m\u001b[38;5;241;43m*\u001b[39;49m\u001b[38;5;241;43m*\u001b[39;49m\u001b[43mkwds\u001b[49m\u001b[43m)\u001b[49m\n\u001b[1;32m     58\u001b[0m \u001b[38;5;28;01mtry\u001b[39;00m:\n\u001b[1;32m     59\u001b[0m     \u001b[38;5;28;01mreturn\u001b[39;00m bound(\u001b[38;5;241m*\u001b[39margs, \u001b[38;5;241m*\u001b[39m\u001b[38;5;241m*\u001b[39mkwds)\n",
      "File \u001b[0;32m~/Desktop/ZKML-Benchmark/env/lib/python3.10/site-packages/numpy/core/fromnumeric.py:45\u001b[0m, in \u001b[0;36m_wrapit\u001b[0;34m(obj, method, *args, **kwds)\u001b[0m\n\u001b[1;32m     43\u001b[0m \u001b[38;5;28;01mexcept\u001b[39;00m \u001b[38;5;167;01mAttributeError\u001b[39;00m:\n\u001b[1;32m     44\u001b[0m     wrap \u001b[38;5;241m=\u001b[39m \u001b[38;5;28;01mNone\u001b[39;00m\n\u001b[0;32m---> 45\u001b[0m result \u001b[38;5;241m=\u001b[39m \u001b[38;5;28mgetattr\u001b[39m(\u001b[43masarray\u001b[49m\u001b[43m(\u001b[49m\u001b[43mobj\u001b[49m\u001b[43m)\u001b[49m, method)(\u001b[38;5;241m*\u001b[39margs, \u001b[38;5;241m*\u001b[39m\u001b[38;5;241m*\u001b[39mkwds)\n\u001b[1;32m     46\u001b[0m \u001b[38;5;28;01mif\u001b[39;00m wrap:\n\u001b[1;32m     47\u001b[0m     \u001b[38;5;28;01mif\u001b[39;00m \u001b[38;5;129;01mnot\u001b[39;00m \u001b[38;5;28misinstance\u001b[39m(result, mu\u001b[38;5;241m.\u001b[39mndarray):\n",
      "File \u001b[0;32m~/Desktop/ZKML-Benchmark/env/lib/python3.10/site-packages/keras/src/engine/keras_tensor.py:285\u001b[0m, in \u001b[0;36mKerasTensor.__array__\u001b[0;34m(self, dtype)\u001b[0m\n\u001b[1;32m    284\u001b[0m \u001b[38;5;28;01mdef\u001b[39;00m \u001b[38;5;21m__array__\u001b[39m(\u001b[38;5;28mself\u001b[39m, dtype\u001b[38;5;241m=\u001b[39m\u001b[38;5;28;01mNone\u001b[39;00m):\n\u001b[0;32m--> 285\u001b[0m     \u001b[38;5;28;01mraise\u001b[39;00m \u001b[38;5;167;01mTypeError\u001b[39;00m(\n\u001b[1;32m    286\u001b[0m         \u001b[38;5;124mf\u001b[39m\u001b[38;5;124m\"\u001b[39m\u001b[38;5;124mYou are passing \u001b[39m\u001b[38;5;132;01m{\u001b[39;00m\u001b[38;5;28mself\u001b[39m\u001b[38;5;132;01m}\u001b[39;00m\u001b[38;5;124m, an intermediate Keras symbolic \u001b[39m\u001b[38;5;124m\"\u001b[39m\n\u001b[1;32m    287\u001b[0m         \u001b[38;5;124m\"\u001b[39m\u001b[38;5;124minput/output, to a TF API that does not allow registering custom \u001b[39m\u001b[38;5;124m\"\u001b[39m\n\u001b[1;32m    288\u001b[0m         \u001b[38;5;124m\"\u001b[39m\u001b[38;5;124mdispatchers, such as `tf.cond`, `tf.function`, gradient tapes, \u001b[39m\u001b[38;5;124m\"\u001b[39m\n\u001b[1;32m    289\u001b[0m         \u001b[38;5;124m\"\u001b[39m\u001b[38;5;124mor `tf.map_fn`. Keras Functional model construction only supports \u001b[39m\u001b[38;5;124m\"\u001b[39m\n\u001b[1;32m    290\u001b[0m         \u001b[38;5;124m\"\u001b[39m\u001b[38;5;124mTF API calls that *do* support dispatching, such as `tf.math.add` \u001b[39m\u001b[38;5;124m\"\u001b[39m\n\u001b[1;32m    291\u001b[0m         \u001b[38;5;124m\"\u001b[39m\u001b[38;5;124mor `tf.reshape`. \u001b[39m\u001b[38;5;124m\"\u001b[39m\n\u001b[1;32m    292\u001b[0m         \u001b[38;5;124m\"\u001b[39m\u001b[38;5;124mOther APIs cannot be called directly on symbolic Keras\u001b[39m\u001b[38;5;124m\"\u001b[39m\n\u001b[1;32m    293\u001b[0m         \u001b[38;5;124m\"\u001b[39m\u001b[38;5;124minputs/outputs. You can work around \u001b[39m\u001b[38;5;124m\"\u001b[39m\n\u001b[1;32m    294\u001b[0m         \u001b[38;5;124m\"\u001b[39m\u001b[38;5;124mthis limitation by putting the operation in a custom Keras layer \u001b[39m\u001b[38;5;124m\"\u001b[39m\n\u001b[1;32m    295\u001b[0m         \u001b[38;5;124m\"\u001b[39m\u001b[38;5;124m`call` and calling that layer \u001b[39m\u001b[38;5;124m\"\u001b[39m\n\u001b[1;32m    296\u001b[0m         \u001b[38;5;124m\"\u001b[39m\u001b[38;5;124mon this symbolic input/output.\u001b[39m\u001b[38;5;124m\"\u001b[39m\n\u001b[1;32m    297\u001b[0m     )\n",
      "\u001b[0;31mTypeError\u001b[0m: You are passing KerasTensor(type_spec=TensorSpec(shape=(None, 10), dtype=tf.float32, name=None), name='softmax/Softmax:0', description=\"created by layer 'softmax'\"), an intermediate Keras symbolic input/output, to a TF API that does not allow registering custom dispatchers, such as `tf.cond`, `tf.function`, gradient tapes, or `tf.map_fn`. Keras Functional model construction only supports TF API calls that *do* support dispatching, such as `tf.math.add` or `tf.reshape`. Other APIs cannot be called directly on symbolic Kerasinputs/outputs. You can work around this limitation by putting the operation in a custom Keras layer `call` and calling that layer on this symbolic input/output."
     ]
    }
   ],
   "source": [
    "np.argmax(out)"
   ]
  },
  {
   "cell_type": "code",
   "execution_count": 104,
   "metadata": {},
   "outputs": [],
   "source": [
    "import json\n",
    "in_json = {\n",
    "    \"in\": X_in_,\n",
    "    \"dense_5_weights\": dense_5_weights,\n",
    "    \"dense_5_bias\": dense_5_bias,\n",
    "    \"dense_5_out\": dense_5_remainder,\n",
    "    \"dense_5_remainder\": dense_5_remainder,\n",
    "\n",
    "\n",
    "    \"dense_6_weights\": weights,\n",
    "    \"dense_6_bias\": bias,\n",
    "    \"dense_6_out\": out,\n",
    "    \"dense_6_remainder\": remainder\n",
    "\n",
    "    \"argmax_out\": \n",
    "}\n",
    "\n",
    "with open(\"./test_model/dense_input.json\", \"w\") as f:\n",
    "    json.dump(in_json, f)"
   ]
  },
  {
   "cell_type": "code",
   "execution_count": null,
   "metadata": {},
   "outputs": [],
   "source": []
  }
 ],
 "metadata": {
  "kernelspec": {
   "display_name": "env",
   "language": "python",
   "name": "python3"
  },
  "language_info": {
   "codemirror_mode": {
    "name": "ipython",
    "version": 3
   },
   "file_extension": ".py",
   "mimetype": "text/x-python",
   "name": "python",
   "nbconvert_exporter": "python",
   "pygments_lexer": "ipython3",
   "version": "3.10.12"
  }
 },
 "nbformat": 4,
 "nbformat_minor": 2
}
