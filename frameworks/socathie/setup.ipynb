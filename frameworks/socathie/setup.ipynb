{
 "cells": [
  {
   "cell_type": "code",
   "execution_count": 32,
   "metadata": {},
   "outputs": [],
   "source": [
    "from tensorflow.keras.layers import Input, Dense, Softmax, ReLU\n",
    "from tensorflow.keras import Model\n",
    "import numpy as np\n",
    "import tensorflow as tf"
   ]
  },
  {
   "cell_type": "code",
   "execution_count": 217,
   "metadata": {},
   "outputs": [],
   "source": [
    "inputs = Input(shape=(28*28,))\n",
    "out = Dense(56)(inputs)\n",
    "#out = ReLU()(out) # not support dor dense layer\n",
    "out = Dense(10)(out)\n",
    "#out = Softmax()(out)\n",
    "c_aware_model = Model(inputs, out)\n",
    "\n",
    "c_aware_model.compile(optimizer='adam', \n",
    "              loss='sparse_categorical_crossentropy', \n",
    "              metrics=['accuracy'])"
   ]
  },
  {
   "cell_type": "markdown",
   "metadata": {},
   "source": [
    "### Convert to Circom Circuit"
   ]
  },
  {
   "cell_type": "code",
   "execution_count": 218,
   "metadata": {},
   "outputs": [],
   "source": [
    "import os\n",
    "model_path = \"../../models/\"\n",
    "arch_folder = \"input-dense-dense/\"\n",
    "model_name = \"c_aware_784_56_10.h5\"\n",
    "model_in_path = model_path+arch_folder+model_name\n",
    "\n",
    "c_aware_model.load_weights(model_in_path)\n",
    "\n",
    "# model_in_path = model_path + arch_folder + model_name\n",
    "# model_tf = tf.keras.models.load_model(model_in_path)"
   ]
  },
  {
   "cell_type": "code",
   "execution_count": 219,
   "metadata": {},
   "outputs": [
    {
     "name": "stdout",
     "output_type": "stream",
     "text": [
      "Model: \"model_47\"\n",
      "_________________________________________________________________\n",
      " Layer (type)                Output Shape              Param #   \n",
      "=================================================================\n",
      " input_29 (InputLayer)       [(None, 784)]             0         \n",
      "                                                                 \n",
      " dense_54 (Dense)            (None, 56)                43960     \n",
      "                                                                 \n",
      " dense_55 (Dense)            (None, 10)                570       \n",
      "                                                                 \n",
      "=================================================================\n",
      "Total params: 44530 (173.95 KB)\n",
      "Trainable params: 44530 (173.95 KB)\n",
      "Non-trainable params: 0 (0.00 Byte)\n",
      "_________________________________________________________________\n"
     ]
    },
    {
     "name": "stderr",
     "output_type": "stream",
     "text": [
      "/home/guy1m0/Desktop/ZKML-Benchmark/env/lib/python3.10/site-packages/keras/src/engine/training.py:3103: UserWarning: You are saving your model as an HDF5 file via `model.save()`. This file format is considered legacy. We recommend using instead the native Keras format, e.g. `model.save('my_model.keras')`.\n",
      "  saving_api.save_model(\n"
     ]
    }
   ],
   "source": [
    "c_aware_model.summary()\n",
    "c_aware_model.save('c_aware.h5')"
   ]
  },
  {
   "cell_type": "code",
   "execution_count": 220,
   "metadata": {},
   "outputs": [
    {
     "name": "stdout",
     "output_type": "stream",
     "text": [
      "313/313 - 0s - loss: 2.4390 - accuracy: 0.1188 - 287ms/epoch - 917us/step\n",
      "\n",
      "Test accuracy: 0.11879999935626984\n"
     ]
    }
   ],
   "source": [
    "# Load TensorFlow MNIST data\n",
    "mnist = tf.keras.datasets.mnist\n",
    "(train_images, train_labels), (test_images, test_labels) = mnist.load_data()\n",
    "\n",
    "# Normalize and flatten the images\n",
    "train_images_tf = train_images.reshape((-1, 28*28)) / 255.0\n",
    "test_images_tf = test_images.reshape((-1, 28*28)) / 255.0\n",
    "\n",
    "# Evaluate the model\n",
    "test_loss, test_acc = c_aware_model.evaluate(test_images_tf, test_labels, verbose=2)\n",
    "print('\\nTest accuracy:', test_acc)"
   ]
  },
  {
   "cell_type": "code",
   "execution_count": 221,
   "metadata": {},
   "outputs": [],
   "source": [
    "circuit_folder = \"./circuits\"\n",
    "\n",
    "command = ['python','main.py', 'c_aware.h5', f\"-o{circuit_folder}/golden.circom\"]"
   ]
  },
  {
   "cell_type": "code",
   "execution_count": 222,
   "metadata": {},
   "outputs": [
    {
     "name": "stderr",
     "output_type": "stream",
     "text": [
      "2024-02-01 15:51:16.580278: I tensorflow/core/util/port.cc:113] oneDNN custom operations are on. You may see slightly different numerical results due to floating-point round-off errors from different computation orders. To turn them off, set the environment variable `TF_ENABLE_ONEDNN_OPTS=0`.\n",
      "2024-02-01 15:51:16.599602: E external/local_xla/xla/stream_executor/cuda/cuda_dnn.cc:9261] Unable to register cuDNN factory: Attempting to register factory for plugin cuDNN when one has already been registered\n",
      "2024-02-01 15:51:16.599623: E external/local_xla/xla/stream_executor/cuda/cuda_fft.cc:607] Unable to register cuFFT factory: Attempting to register factory for plugin cuFFT when one has already been registered\n",
      "2024-02-01 15:51:16.600112: E external/local_xla/xla/stream_executor/cuda/cuda_blas.cc:1515] Unable to register cuBLAS factory: Attempting to register factory for plugin cuBLAS when one has already been registered\n",
      "2024-02-01 15:51:16.603144: I tensorflow/core/platform/cpu_feature_guard.cc:182] This TensorFlow binary is optimized to use available CPU instructions in performance-critical operations.\n",
      "To enable the following instructions: AVX2 AVX_VNNI FMA, in other operations, rebuild TensorFlow with the appropriate compiler flags.\n",
      "2024-02-01 15:51:16.960074: W tensorflow/compiler/tf2tensorrt/utils/py_utils.cc:38] TF-TRT Warning: Could not find TensorRT\n",
      "2024-02-01 15:51:17.332077: I external/local_xla/xla/stream_executor/cuda/cuda_executor.cc:901] successful NUMA node read from SysFS had negative value (-1), but there must be at least one NUMA node, so returning NUMA node zero. See more at https://github.com/torvalds/linux/blob/v6.0/Documentation/ABI/testing/sysfs-bus-pci#L344-L355\n",
      "2024-02-01 15:51:17.350353: I external/local_xla/xla/stream_executor/cuda/cuda_executor.cc:901] successful NUMA node read from SysFS had negative value (-1), but there must be at least one NUMA node, so returning NUMA node zero. See more at https://github.com/torvalds/linux/blob/v6.0/Documentation/ABI/testing/sysfs-bus-pci#L344-L355\n",
      "2024-02-01 15:51:17.350453: I external/local_xla/xla/stream_executor/cuda/cuda_executor.cc:901] successful NUMA node read from SysFS had negative value (-1), but there must be at least one NUMA node, so returning NUMA node zero. See more at https://github.com/torvalds/linux/blob/v6.0/Documentation/ABI/testing/sysfs-bus-pci#L344-L355\n",
      "2024-02-01 15:51:17.351158: I external/local_xla/xla/stream_executor/cuda/cuda_executor.cc:901] successful NUMA node read from SysFS had negative value (-1), but there must be at least one NUMA node, so returning NUMA node zero. See more at https://github.com/torvalds/linux/blob/v6.0/Documentation/ABI/testing/sysfs-bus-pci#L344-L355\n",
      "2024-02-01 15:51:17.351221: I external/local_xla/xla/stream_executor/cuda/cuda_executor.cc:901] successful NUMA node read from SysFS had negative value (-1), but there must be at least one NUMA node, so returning NUMA node zero. See more at https://github.com/torvalds/linux/blob/v6.0/Documentation/ABI/testing/sysfs-bus-pci#L344-L355\n",
      "2024-02-01 15:51:17.351329: I external/local_xla/xla/stream_executor/cuda/cuda_executor.cc:901] successful NUMA node read from SysFS had negative value (-1), but there must be at least one NUMA node, so returning NUMA node zero. See more at https://github.com/torvalds/linux/blob/v6.0/Documentation/ABI/testing/sysfs-bus-pci#L344-L355\n",
      "2024-02-01 15:51:17.379398: I external/local_xla/xla/stream_executor/cuda/cuda_executor.cc:901] successful NUMA node read from SysFS had negative value (-1), but there must be at least one NUMA node, so returning NUMA node zero. See more at https://github.com/torvalds/linux/blob/v6.0/Documentation/ABI/testing/sysfs-bus-pci#L344-L355\n",
      "2024-02-01 15:51:17.379479: I external/local_xla/xla/stream_executor/cuda/cuda_executor.cc:901] successful NUMA node read from SysFS had negative value (-1), but there must be at least one NUMA node, so returning NUMA node zero. See more at https://github.com/torvalds/linux/blob/v6.0/Documentation/ABI/testing/sysfs-bus-pci#L344-L355\n",
      "2024-02-01 15:51:17.379532: I external/local_xla/xla/stream_executor/cuda/cuda_executor.cc:901] successful NUMA node read from SysFS had negative value (-1), but there must be at least one NUMA node, so returning NUMA node zero. See more at https://github.com/torvalds/linux/blob/v6.0/Documentation/ABI/testing/sysfs-bus-pci#L344-L355\n",
      "2024-02-01 15:51:17.379578: I tensorflow/core/common_runtime/gpu/gpu_device.cc:1929] Created device /job:localhost/replica:0/task:0/device:GPU:0 with 19778 MB memory:  -> device: 0, name: NVIDIA GeForce RTX 4090, pci bus id: 0000:01:00.0, compute capability: 8.9\n"
     ]
    },
    {
     "data": {
      "text/plain": [
       "CompletedProcess(args=['python', 'main.py', 'c_aware.h5', '-o./circuits/golden.circom'], returncode=0)"
      ]
     },
     "execution_count": 222,
     "metadata": {},
     "output_type": "execute_result"
    }
   ],
   "source": [
    "import subprocess\n",
    "subprocess.run(command)"
   ]
  },
  {
   "cell_type": "markdown",
   "metadata": {},
   "source": [
    "## 25_10_4"
   ]
  },
  {
   "cell_type": "code",
   "execution_count": 388,
   "metadata": {},
   "outputs": [],
   "source": [
    "p = 21888242871839275222246405745257275088548364400416034343698204186575808495617\n",
    "#X = test_images_tf[4]\n",
    "X = np.random.rand(1,25)\n",
    "\n",
    "X_in = [int(x*1e36) for x in X[0]]"
   ]
  },
  {
   "cell_type": "code",
   "execution_count": 383,
   "metadata": {},
   "outputs": [],
   "source": [
    "inputs = Input(shape=(25,))\n",
    "out = Dense(10)(inputs)\n",
    "out = ReLU()(out) # not support dor dense layer\n",
    "out = Dense(4)(out)\n",
    "#out = Softmax()(out)\n",
    "simple_model = Model(inputs, out)\n",
    "\n",
    "simple_model.compile(optimizer='adam', \n",
    "              loss='sparse_categorical_crossentropy', \n",
    "              metrics=['accuracy'])\n"
   ]
  },
  {
   "cell_type": "code",
   "execution_count": 311,
   "metadata": {},
   "outputs": [
    {
     "name": "stderr",
     "output_type": "stream",
     "text": [
      "/home/guy1m0/Desktop/ZKML-Benchmark/env/lib/python3.10/site-packages/keras/src/engine/training.py:3103: UserWarning: You are saving your model as an HDF5 file via `model.save()`. This file format is considered legacy. We recommend using instead the native Keras format, e.g. `model.save('my_model.keras')`.\n",
      "  saving_api.save_model(\n",
      "2024-02-01 16:46:16.174242: I tensorflow/core/util/port.cc:113] oneDNN custom operations are on. You may see slightly different numerical results due to floating-point round-off errors from different computation orders. To turn them off, set the environment variable `TF_ENABLE_ONEDNN_OPTS=0`.\n",
      "2024-02-01 16:46:16.194285: E external/local_xla/xla/stream_executor/cuda/cuda_dnn.cc:9261] Unable to register cuDNN factory: Attempting to register factory for plugin cuDNN when one has already been registered\n",
      "2024-02-01 16:46:16.194309: E external/local_xla/xla/stream_executor/cuda/cuda_fft.cc:607] Unable to register cuFFT factory: Attempting to register factory for plugin cuFFT when one has already been registered\n",
      "2024-02-01 16:46:16.194822: E external/local_xla/xla/stream_executor/cuda/cuda_blas.cc:1515] Unable to register cuBLAS factory: Attempting to register factory for plugin cuBLAS when one has already been registered\n",
      "2024-02-01 16:46:16.197883: I tensorflow/core/platform/cpu_feature_guard.cc:182] This TensorFlow binary is optimized to use available CPU instructions in performance-critical operations.\n",
      "To enable the following instructions: AVX2 AVX_VNNI FMA, in other operations, rebuild TensorFlow with the appropriate compiler flags.\n",
      "2024-02-01 16:46:16.559244: W tensorflow/compiler/tf2tensorrt/utils/py_utils.cc:38] TF-TRT Warning: Could not find TensorRT\n",
      "2024-02-01 16:46:16.931658: I external/local_xla/xla/stream_executor/cuda/cuda_executor.cc:901] successful NUMA node read from SysFS had negative value (-1), but there must be at least one NUMA node, so returning NUMA node zero. See more at https://github.com/torvalds/linux/blob/v6.0/Documentation/ABI/testing/sysfs-bus-pci#L344-L355\n",
      "2024-02-01 16:46:16.949961: I external/local_xla/xla/stream_executor/cuda/cuda_executor.cc:901] successful NUMA node read from SysFS had negative value (-1), but there must be at least one NUMA node, so returning NUMA node zero. See more at https://github.com/torvalds/linux/blob/v6.0/Documentation/ABI/testing/sysfs-bus-pci#L344-L355\n",
      "2024-02-01 16:46:16.950056: I external/local_xla/xla/stream_executor/cuda/cuda_executor.cc:901] successful NUMA node read from SysFS had negative value (-1), but there must be at least one NUMA node, so returning NUMA node zero. See more at https://github.com/torvalds/linux/blob/v6.0/Documentation/ABI/testing/sysfs-bus-pci#L344-L355\n",
      "2024-02-01 16:46:16.950711: I external/local_xla/xla/stream_executor/cuda/cuda_executor.cc:901] successful NUMA node read from SysFS had negative value (-1), but there must be at least one NUMA node, so returning NUMA node zero. See more at https://github.com/torvalds/linux/blob/v6.0/Documentation/ABI/testing/sysfs-bus-pci#L344-L355\n",
      "2024-02-01 16:46:16.950769: I external/local_xla/xla/stream_executor/cuda/cuda_executor.cc:901] successful NUMA node read from SysFS had negative value (-1), but there must be at least one NUMA node, so returning NUMA node zero. See more at https://github.com/torvalds/linux/blob/v6.0/Documentation/ABI/testing/sysfs-bus-pci#L344-L355\n",
      "2024-02-01 16:46:16.950810: I external/local_xla/xla/stream_executor/cuda/cuda_executor.cc:901] successful NUMA node read from SysFS had negative value (-1), but there must be at least one NUMA node, so returning NUMA node zero. See more at https://github.com/torvalds/linux/blob/v6.0/Documentation/ABI/testing/sysfs-bus-pci#L344-L355\n",
      "2024-02-01 16:46:16.980862: I external/local_xla/xla/stream_executor/cuda/cuda_executor.cc:901] successful NUMA node read from SysFS had negative value (-1), but there must be at least one NUMA node, so returning NUMA node zero. See more at https://github.com/torvalds/linux/blob/v6.0/Documentation/ABI/testing/sysfs-bus-pci#L344-L355\n",
      "2024-02-01 16:46:16.980947: I external/local_xla/xla/stream_executor/cuda/cuda_executor.cc:901] successful NUMA node read from SysFS had negative value (-1), but there must be at least one NUMA node, so returning NUMA node zero. See more at https://github.com/torvalds/linux/blob/v6.0/Documentation/ABI/testing/sysfs-bus-pci#L344-L355\n",
      "2024-02-01 16:46:16.981012: I external/local_xla/xla/stream_executor/cuda/cuda_executor.cc:901] successful NUMA node read from SysFS had negative value (-1), but there must be at least one NUMA node, so returning NUMA node zero. See more at https://github.com/torvalds/linux/blob/v6.0/Documentation/ABI/testing/sysfs-bus-pci#L344-L355\n",
      "2024-02-01 16:46:16.981062: I tensorflow/core/common_runtime/gpu/gpu_device.cc:1929] Created device /job:localhost/replica:0/task:0/device:GPU:0 with 19861 MB memory:  -> device: 0, name: NVIDIA GeForce RTX 4090, pci bus id: 0000:01:00.0, compute capability: 8.9\n"
     ]
    },
    {
     "data": {
      "text/plain": [
       "CompletedProcess(args=['python', 'main.py', 'simple.h5', '-o./circuits/simple.circom'], returncode=0)"
      ]
     },
     "execution_count": 311,
     "metadata": {},
     "output_type": "execute_result"
    }
   ],
   "source": [
    "simple_model.save('simple.h5')\n",
    "\n",
    "circuit_folder = \"./circuits\"\n",
    "\n",
    "command = ['python','main.py', 'simple.h5', f\"-o{circuit_folder}/simple.circom\"]\n",
    "subprocess.run(command)"
   ]
  },
  {
   "cell_type": "code",
   "execution_count": 389,
   "metadata": {},
   "outputs": [],
   "source": [
    "Dense32weights = [[int(simple_model.weights[0].numpy()[i][j]*1e36) for j in range(10)] for i in range(25)]\n",
    "Dense32bias = [int(simple_model.weights[1].numpy()[i]*1e72) for i in range(10)]\n",
    "\n",
    "Dense21weights = [[int(simple_model.weights[2].numpy()[i][j]*1e36) for j in range(4)] for i in range(10)]\n",
    "Dense21bias = [int(simple_model.weights[3].numpy()[i]*1e72) for i in range(4)]"
   ]
  },
  {
   "cell_type": "code",
   "execution_count": 390,
   "metadata": {},
   "outputs": [],
   "source": [
    "def DenseInt(nInputs, nOutputs, n, input, weights, bias):\n",
    "    Input = [str(input[i] % p) for i in range(nInputs)]\n",
    "    Weights = [[str(weights[i][j] % p) for j in range(nOutputs)] for i in range(nInputs)]\n",
    "    Bias = [str(bias[i] % p) for i in range(nOutputs)]\n",
    "    out = [0 for _ in range(nOutputs)]\n",
    "    remainder = [None for _ in range(nOutputs)]\n",
    "    for j in range(nOutputs):\n",
    "        for i in range(nInputs):\n",
    "            out[j] += input[i] * weights[i][j]\n",
    "        out[j] += bias[j]\n",
    "        remainder[j] = str(out[j] % n)\n",
    "        out[j] = str(out[j] // n % p)\n",
    "    return Input, Weights, Bias, out, remainder"
   ]
  },
  {
   "cell_type": "code",
   "execution_count": 391,
   "metadata": {},
   "outputs": [
    {
     "data": {
      "text/plain": [
       "['21888242871839275222246405745257275088547889099137421933185887936077399578990',\n",
       " '21888242871839275222246405745257275088547891392005500877761426869380115728365',\n",
       " '21888242871839275222246405745257275088547461870640440768395816271950941849225',\n",
       " '760882669958289614497683152132671299',\n",
       " '375355821196145534246890766214109674',\n",
       " '21888242871839275222246405745257275088547755232809817291404017824716958324549',\n",
       " '367232317750539579745806675835950719',\n",
       " '21888242871839275222246405745257275088547536954470377675163383772209904425022',\n",
       " '41789005957338798850275320509232227',\n",
       " '21888242871839275222246405745257275088547993031167967781180782225408529842975']"
      ]
     },
     "execution_count": 391,
     "metadata": {},
     "output_type": "execute_result"
    }
   ],
   "source": [
    "X_in, Dense32weights, Dense32bias, Dense32out, Dense32remainder = DenseInt(25,10, 10**36, X_in, Dense32weights, Dense32bias)\n",
    "Dense32out"
   ]
  },
  {
   "cell_type": "code",
   "execution_count": 392,
   "metadata": {},
   "outputs": [
    {
     "name": "stdout",
     "output_type": "stream",
     "text": [
      "1/1 [==============================] - 0s 27ms/step\n"
     ]
    },
    {
     "data": {
      "text/plain": [
       "array([[-0.4753013 , -0.47300842, -0.9025297 ,  0.7608827 ,  0.37535578,\n",
       "        -0.6091676 ,  0.36723226, -0.827446  ,  0.041789  , -0.3713692 ]],\n",
       "      dtype=float32)"
      ]
     },
     "execution_count": 392,
     "metadata": {},
     "output_type": "execute_result"
    }
   ],
   "source": [
    "layer_output = simple_model.layers[1].output\n",
    "\n",
    "# Create a new model that gives the output of the last dense layer\n",
    "intermediate_model = tf.keras.Model(inputs=simple_model.input, outputs=layer_output)\n",
    "\n",
    "intermediate_model.predict(X)"
   ]
  },
  {
   "cell_type": "code",
   "execution_count": 393,
   "metadata": {},
   "outputs": [],
   "source": [
    "ReLUout = [Dense32out[i] if int(Dense32out[i]) < p//2 else 0 for i in range(10)]\n",
    "Dense21in = [int(ReLUout[i]) for i in range(10)]"
   ]
  },
  {
   "cell_type": "code",
   "execution_count": null,
   "metadata": {},
   "outputs": [],
   "source": []
  },
  {
   "cell_type": "code",
   "execution_count": 394,
   "metadata": {},
   "outputs": [
    {
     "data": {
      "text/plain": [
       "(['21888242871839275222246405745257275088548226105548729866612023329782859643251',\n",
       "  '45774850344441100328034339654364161',\n",
       "  '21888242871839275222246405745257275088547866230673650181312964938000640985424',\n",
       "  '21888242871839275222246405745257275088548136813565464080727960045542101572962'],\n",
       " ['478871644325988034016738740847771648',\n",
       "  '982215161144976163118173428595556352',\n",
       "  '656651603526482482717129219032219648',\n",
       "  '938080816682802168463026458208501760'])"
      ]
     },
     "execution_count": 394,
     "metadata": {},
     "output_type": "execute_result"
    }
   ],
   "source": [
    "_, Dense21weights, Dense21bias, Dense21out, Dense21remainder = DenseInt(10, 4, 10**36, Dense21in, Dense21weights, Dense21bias)\n",
    "Dense21out, Dense21remainder"
   ]
  },
  {
   "cell_type": "code",
   "execution_count": 395,
   "metadata": {},
   "outputs": [
    {
     "name": "stdout",
     "output_type": "stream",
     "text": [
      "1/1 [==============================] - 0s 21ms/step\n"
     ]
    },
    {
     "data": {
      "text/plain": [
       "array([[-0.13829488,  0.04577482, -0.49816972, -0.2275868 ]],\n",
       "      dtype=float32)"
      ]
     },
     "execution_count": 395,
     "metadata": {},
     "output_type": "execute_result"
    }
   ],
   "source": [
    "layer_output = simple_model.layers[3].output\n",
    "\n",
    "# Create a new model that gives the output of the last dense layer\n",
    "intermediate_model = tf.keras.Model(inputs=simple_model.input, outputs=layer_output)\n",
    "\n",
    "intermediate_model.predict(X) "
   ]
  },
  {
   "cell_type": "code",
   "execution_count": 396,
   "metadata": {},
   "outputs": [
    {
     "data": {
      "text/plain": [
       "[0, 45774850344441100328034339654364161, 0, 0]"
      ]
     },
     "execution_count": 396,
     "metadata": {},
     "output_type": "execute_result"
    }
   ],
   "source": [
    "a = [int(Dense21out[i]) if int(Dense21out[i]) < p//2 else 0 for i in range(4)]\n",
    "a"
   ]
  },
  {
   "cell_type": "code",
   "execution_count": 397,
   "metadata": {},
   "outputs": [
    {
     "data": {
      "text/plain": [
       "1"
      ]
     },
     "execution_count": 397,
     "metadata": {},
     "output_type": "execute_result"
    }
   ],
   "source": [
    "np.argmax(a)"
   ]
  },
  {
   "cell_type": "code",
   "execution_count": 398,
   "metadata": {},
   "outputs": [
    {
     "name": "stdout",
     "output_type": "stream",
     "text": [
      "1/1 [==============================] - 0s 32ms/step\n"
     ]
    },
    {
     "data": {
      "text/plain": [
       "1"
      ]
     },
     "execution_count": 398,
     "metadata": {},
     "output_type": "execute_result"
    }
   ],
   "source": [
    "np.argmax(simple_model.predict(X))"
   ]
  },
  {
   "cell_type": "code",
   "execution_count": 399,
   "metadata": {},
   "outputs": [],
   "source": [
    "import json\n",
    "\n",
    "in_json = {\n",
    "    \"in\": X_in,\n",
    "    \"Dense32weights\": Dense32weights,\n",
    "    \"Dense32bias\": Dense32bias,\n",
    "    \"Dense32out\": Dense32out,\n",
    "    \"Dense32remainder\": Dense32remainder,\n",
    "    \"ReLUout\": ReLUout,\n",
    "    \"Dense21weights\": Dense21weights,\n",
    "    \"Dense21bias\": Dense21bias,\n",
    "    \"Dense21out\": Dense21out,\n",
    "    \"Dense21remainder\": Dense21remainder\n",
    "}\n",
    "\n",
    "\n",
    "with open(\"./test_input.json\", \"w\") as f:\n",
    "    json.dump(in_json, f)"
   ]
  },
  {
   "cell_type": "markdown",
   "metadata": {},
   "source": [
    "## Proof Generation and Verification"
   ]
  },
  {
   "cell_type": "code",
   "execution_count": 334,
   "metadata": {},
   "outputs": [],
   "source": [
    "import psutil, time, threading\n",
    "def monitor_memory(pid, freq = 0.01):\n",
    "    p = psutil.Process(pid)\n",
    "    max_memory = 0\n",
    "    while True:\n",
    "        try:\n",
    "            mem = p.memory_info().rss / (1024 * 1024)\n",
    "            max_memory = max(max_memory, mem)\n",
    "        except psutil.NoSuchProcess:\n",
    "            break  # Process has finished\n",
    "        time.sleep(freq)  # Poll every second\n",
    "        \n",
    "    #print(f\"Maximum memory used: {max_memory} MB\")\n",
    "    return max_memory\n",
    "\n",
    "def run_bash(command):\n",
    "    process = subprocess.Popen(command, stdout=subprocess.PIPE, stderr=subprocess.PIPE, text=True)\n",
    "\n",
    "    # Get the process ID\n",
    "    pid = process.pid\n",
    "    print(f\"Process ID: {pid}\")\n",
    "\n",
    "    # Start memory monitoring in a separate thread\n",
    "    monitor_thread = threading.Thread(target=monitor_memory, args=(pid,))\n",
    "    monitor_thread.start()\n",
    "\n",
    "    # Wait for the process to complete and capture output\n",
    "    stdout, stderr = process.communicate()\n",
    "\n",
    "    # Wait for the monitoring thread to finish\n",
    "    monitor_thread.join()\n",
    "    return stderr"
   ]
  },
  {
   "cell_type": "code",
   "execution_count": 402,
   "metadata": {},
   "outputs": [
    {
     "name": "stdout",
     "output_type": "stream",
     "text": [
      "\u001b[32mtemplate instances\u001b[0m: 15\n",
      "non-linear constraints: 5460\n",
      "linear constraints: 0\n",
      "public inputs: 0\n",
      "private inputs: 367 (353 belong to witness)\n",
      "public outputs: 4\n",
      "wires: 5774\n",
      "labels: 13127\n",
      "\u001b[32mWritten successfully:\u001b[0m ./test.r1cs\n",
      "\u001b[32mWritten successfully:\u001b[0m ./test.sym\n",
      "\u001b[32mWritten successfully:\u001b[0m ./test_cpp/test.cpp and ./test_cpp/test.dat\n",
      "\u001b[32mWritten successfully:\u001b[0m ./test_cpp/main.cpp, circom.hpp, calcwit.hpp, calcwit.cpp, fr.hpp, fr.cpp, fr.asm and Makefile\n",
      "\u001b[32mWritten successfully:\u001b[0m ./test_js/test.wasm\n",
      "\u001b[32mEverything went okay\u001b[0m\n"
     ]
    },
    {
     "data": {
      "text/plain": [
       "CompletedProcess(args=['circom', './circuits/test.circom', '--r1cs', '--wasm', '--sym', '--c'], returncode=0)"
      ]
     },
     "execution_count": 402,
     "metadata": {},
     "output_type": "execute_result"
    }
   ],
   "source": [
    "# Compile\n",
    "target_circom = \"./circuits/test.circom\"\n",
    "command = ['circom', target_circom, \"--r1cs\", \"--wasm\", \"--sym\", \"--c\"]\n",
    "subprocess.run(command)"
   ]
  },
  {
   "cell_type": "code",
   "execution_count": 403,
   "metadata": {},
   "outputs": [
    {
     "data": {
      "text/plain": [
       "CompletedProcess(args=['node', './test_js/generate_witness.js', './test_js/test.wasm', 'test_input.json', 'witness.wtns'], returncode=0)"
      ]
     },
     "execution_count": 403,
     "metadata": {},
     "output_type": "execute_result"
    }
   ],
   "source": [
    "# Witness\n",
    "gen_wit_path = \"./test_js/generate_witness.js\"\n",
    "wasm_path = \"./test_js/test.wasm\"\n",
    "input_path = \"test_input.json\"\n",
    "\n",
    "command = ['node', gen_wit_path, wasm_path, input_path, \"witness.wtns\" ]\n",
    "subprocess.run(command)\n"
   ]
  },
  {
   "cell_type": "code",
   "execution_count": null,
   "metadata": {},
   "outputs": [],
   "source": []
  },
  {
   "cell_type": "markdown",
   "metadata": {},
   "source": [
    "## 784_56_10"
   ]
  },
  {
   "cell_type": "code",
   "execution_count": 381,
   "metadata": {},
   "outputs": [],
   "source": [
    "p = 21888242871839275222246405745257275088548364400416034343698204186575808495617\n",
    "#X = test_images_tf[4]\n",
    "X = np.random.rand(1,784)[0]\n",
    "\n",
    "X_in = [int(x*1e36) for x in X]"
   ]
  },
  {
   "cell_type": "code",
   "execution_count": 363,
   "metadata": {},
   "outputs": [],
   "source": [
    "inputs = Input(shape=(28*28,))\n",
    "out = Dense(56)(inputs)\n",
    "out = ReLU()(out) # not support dor dense layer\n",
    "out = Dense(10)(out)\n",
    "#out = Softmax()(out)\n",
    "model_tf = Model(inputs, out)\n",
    "\n",
    "model_tf.compile(optimizer='adam', \n",
    "              loss='sparse_categorical_crossentropy', \n",
    "              metrics=['accuracy'])"
   ]
  },
  {
   "cell_type": "code",
   "execution_count": 373,
   "metadata": {},
   "outputs": [],
   "source": [
    "\n",
    "Dense32weights = [[int(model_tf.weights[0].numpy()[i][j]*1e36) for j in range(56)] for i in range(784)]\n",
    "Dense32bias = [int(model_tf.weights[1].numpy()[i]*1e72) for i in range(56)]\n",
    "\n",
    "Dense21weights = [[int(model_tf.weights[2].numpy()[i][j]*1e36) for j in range(10)] for i in range(56)]\n",
    "Dense21bias = [int(model_tf.weights[3].numpy()[i]*1e72) for i in range(10)]"
   ]
  },
  {
   "cell_type": "code",
   "execution_count": 374,
   "metadata": {},
   "outputs": [],
   "source": [
    "def DenseInt(nInputs, nOutputs, n, input, weights, bias):\n",
    "    Input = [str(input[i] % p) for i in range(nInputs)]\n",
    "    Weights = [[str(weights[i][j] % p) for j in range(nOutputs)] for i in range(nInputs)]\n",
    "    Bias = [str(bias[i] % p) for i in range(nOutputs)]\n",
    "    out = [0 for _ in range(nOutputs)]\n",
    "    remainder = [None for _ in range(nOutputs)]\n",
    "    for j in range(nOutputs):\n",
    "        for i in range(nInputs):\n",
    "            out[j] += input[i] * weights[i][j]\n",
    "        out[j] += bias[j]\n",
    "        remainder[j] = str(out[j] % n)\n",
    "        out[j] = str(out[j] // n % p)\n",
    "    return Input, Weights, Bias, out, remainder"
   ]
  },
  {
   "cell_type": "code",
   "execution_count": 375,
   "metadata": {},
   "outputs": [
    {
     "data": {
      "text/plain": [
       "(['599844176058507500715870227047794144',\n",
       "  '254085832562279814842563455586042834',\n",
       "  '21888242871839275222246405745257275088548098151932762640080048754692153991938',\n",
       "  '21888242871839275222246405745257275088548054101938761120920236178326078324920',\n",
       "  '21888242871839275222246405745257275088546991560831278405601752448020019551205',\n",
       "  '350965177824582374428618857588000159',\n",
       "  '21888242871839275222246405745257275088548247273076989580935732299107334852663',\n",
       "  '21888242871839275222246405745257275088547892075237087304948556684022153044542',\n",
       "  '1523689990253232348920477713363976126',\n",
       "  '64269576800380251297741112525401846',\n",
       "  '21888242871839275222246405745257275088547617302151967562938309904862738478447',\n",
       "  '21888242871839275222246405745257275088548080884821766432362687733706738825483',\n",
       "  '681990296234564654537531598091934491',\n",
       "  '308547500079025032049038299281146298',\n",
       "  '21888242871839275222246405745257275088547968620717650928324986289973294287951',\n",
       "  '21888242871839275222246405745257275088547494087635832684648428708275525206434',\n",
       "  '97812222484319991453264495442343386',\n",
       "  '807883868440357356072030673908964736',\n",
       "  '21888242871839275222246405745257275088547925241094538018703073606801786571411',\n",
       "  '56507794627875825459805851182084790',\n",
       "  '21888242871839275222246405745257275088546971905851524701459393028720895149408',\n",
       "  '1044889507928156365816888303599420150',\n",
       "  '21888242871839275222246405745257275088547252821170993157953933731828560612181',\n",
       "  '105883434468944621620262676045686644',\n",
       "  '21888242871839275222246405745257275088547929019254362695000114242776308730714',\n",
       "  '743652978285198203061766010714736955',\n",
       "  '21888242871839275222246405745257275088547710713032899383547127177374896420053',\n",
       "  '21888242871839275222246405745257275088547890162992950012601910885354295991707',\n",
       "  '21888242871839275222246405745257275088546883564725899013038642523823900553194',\n",
       "  '621218260680421651887634161544462885',\n",
       "  '21888242871839275222246405745257275088547767295839991470752040832916032444538',\n",
       "  '21888242871839275222246405745257275088547269059575164627719874755089210959042',\n",
       "  '21888242871839275222246405745257275088547395229848755052713542576716877484626',\n",
       "  '976807993996636282674541573642350502',\n",
       "  '21888242871839275222246405745257275088548159848051331943862047259196589316070',\n",
       "  '6824946539677036008198845335896766',\n",
       "  '571826775608249044344059983999571832',\n",
       "  '96140335135855527111400543030075575',\n",
       "  '364338224318029152110014296703427329',\n",
       "  '21888242871839275222246405745257275088547582596728559216582939276122177392819',\n",
       "  '21888242871839275222246405745257275088548003855641761101499556897185603597974',\n",
       "  '633940416451388789411102522905381180',\n",
       "  '21888242871839275222246405745257275088546223191600381644497722101212216141009',\n",
       "  '446101251530464792001891579994583672',\n",
       "  '21888242871839275222246405745257275088547877242150817585533168295007248186587',\n",
       "  '21888242871839275222246405745257275088548346119726343022637012313114980325207',\n",
       "  '21888242871839275222246405745257275088547632460772856591854540362449809747270',\n",
       "  '283444129201057555660803337652236757',\n",
       "  '21888242871839275222246405745257275088547112841811258863196932129713856560895',\n",
       "  '21888242871839275222246405745257275088548085151247097990660633735553216762455',\n",
       "  '21888242871839275222246405745257275088547836690521496978283405488985437421355',\n",
       "  '21888242871839275222246405745257275088547653782978144897286037966357911802066',\n",
       "  '21888242871839275222246405745257275088546645908694465115237199363204541528113',\n",
       "  '21888242871839275222246405745257275088547912182908678815316810682401430364658',\n",
       "  '21888242871839275222246405745257275088547095012227762646561590330438552330289',\n",
       "  '21888242871839275222246405745257275088548236386619925690432093262641781454886'],\n",
       " ['285658439003858330302699712309886976',\n",
       "  '955427603192217950705046168191107072',\n",
       "  '840041764475507454150942549203746816',\n",
       "  '516636110799282237163103009200144384',\n",
       "  '695357863120847449219258514357092352',\n",
       "  '394612300998787322220061366186672128',\n",
       "  '417452144499573428035210805560475648',\n",
       "  '422122041899009360926417967808249856',\n",
       "  '701443252104449828257498779629912064',\n",
       "  '419155964962761339915282970589528064',\n",
       "  '513641998428133737628360795993669632',\n",
       "  '810585987088483220261987469081182208',\n",
       "  '998310759533421458944633895313735680',\n",
       "  '634395187928502133004107696576659456',\n",
       "  '267544218318255748427723048103182336',\n",
       "  '129334344217008746884608010789847040',\n",
       "  '371769659257099475864574594056716288',\n",
       "  '965643752629003892848380819670040576',\n",
       "  '486091867121681257586991119497953280',\n",
       "  '574364760219627767853816016759947264',\n",
       "  '581241256009814288855555625201958912',\n",
       "  '900522062457882768472356988718678016',\n",
       "  '410704283434043771907597435381219328',\n",
       "  '646504479845110351952180004461215744',\n",
       "  '910709887306810739862149469252354048',\n",
       "  '735157217005722305851185361758191616',\n",
       "  '763758499826948920202372299869913088',\n",
       "  '642109174900668663928775234331607040',\n",
       "  '122100195087075910205276000499007488',\n",
       "  '16952350661447477614781882827800576',\n",
       "  '804260572766107712795245575804026880',\n",
       "  '639663756210053143278825366121086976',\n",
       "  '945834617258742517491218114488041472',\n",
       "  '394471540439630640453951188656717824',\n",
       "  '96500595484329228363924378126123008',\n",
       "  '904269542432928658314546828818776064',\n",
       "  '464374607262096767506672634577289216',\n",
       "  '627320772772434183857941350191202304',\n",
       "  '748943091368330934955341544228388864',\n",
       "  '918929048552736484153018597616123904',\n",
       "  '352540608861026241242229808901914624',\n",
       "  '807550424611002872206276005258592256',\n",
       "  '997436506298022656498388533107490816',\n",
       "  '537441850289483324255937504032587776',\n",
       "  '137528804552138331950780976700850176',\n",
       "  '983714069964971329223724507877867520',\n",
       "  '566796985663735454237899936518635520',\n",
       "  '247596452108745967344567639502487552',\n",
       "  '873616371693391760863837095611858944',\n",
       "  '924338840161190660204086869610201088',\n",
       "  '586761663864714690044608627469189120',\n",
       "  '274725357125121937699231978873683968',\n",
       "  '268821655162640242700150941973217280',\n",
       "  '63535806856334096007142505879437312',\n",
       "  '64434921772933988857737992762032128',\n",
       "  '246017047338258442684135922624102400'])"
      ]
     },
     "execution_count": 375,
     "metadata": {},
     "output_type": "execute_result"
    }
   ],
   "source": [
    "X_in, Dense32weights, Dense32bias, Dense32out, Dense32remainder = DenseInt(784, 56, 10**36, X_in, Dense32weights, Dense32bias)\n",
    "Dense32out, Dense32remainder"
   ]
  },
  {
   "cell_type": "code",
   "execution_count": 376,
   "metadata": {},
   "outputs": [],
   "source": [
    "ReLUout = [Dense32out[i] if int(Dense32out[i]) < p//2 else 0 for i in range(56)]\n",
    "Dense21in = [int(ReLUout[i]) for i in range(56)]"
   ]
  },
  {
   "cell_type": "code",
   "execution_count": 377,
   "metadata": {},
   "outputs": [
    {
     "data": {
      "text/plain": [
       "(['21888242871839275222246405745257275088548255588336183010354998461476555955752',\n",
       "  '122371314147728789627360970109761745',\n",
       "  '469902678785596500354676862598940319',\n",
       "  '173337373777368768382616647181246730',\n",
       "  '21888242871839275222246405745257275088548322624754541161612379539651634713582',\n",
       "  '106313702541773808720209063629280936',\n",
       "  '438786513675779915297221109273639753',\n",
       "  '21888242871839275222246405745257275088547511607844254465561510259833697385740',\n",
       "  '21888242871839275222246405745257275088546857539239101898142972822308825717676',\n",
       "  '156261022323811374000412351885344068'],\n",
       " ['44848485296297564982385474097119232',\n",
       "  '161069084926350677236207370966663168',\n",
       "  '895648943938878146220929297302945792',\n",
       "  '506232756495429178206315085303906304',\n",
       "  '3234056260405296681922087220150272',\n",
       "  '518816313488281093224651873314668544',\n",
       "  '281569286973552914018596598354804736',\n",
       "  '520372580488832076198868913974411264',\n",
       "  '662657668639482397598247625701720064',\n",
       "  '370344562959898518919074102862938112'])"
      ]
     },
     "execution_count": 377,
     "metadata": {},
     "output_type": "execute_result"
    }
   ],
   "source": [
    "_, Dense21weights, Dense21bias, Dense21out, Dense21remainder = DenseInt(56, 10, 10**36, Dense21in, Dense21weights, Dense21bias)\n",
    "Dense21out, Dense21remainder"
   ]
  },
  {
   "cell_type": "code",
   "execution_count": 378,
   "metadata": {},
   "outputs": [],
   "source": [
    "import json\n",
    "in_json = {\n",
    "    \"in\": X_in,\n",
    "    \"Dense32weights\": Dense32weights,\n",
    "    \"Dense32bias\": Dense32bias,\n",
    "    \"Dense32out\": Dense32out,\n",
    "    \"Dense32remainder\": Dense32remainder,\n",
    "    \"ReLUout\": ReLUout,\n",
    "    \"Dense21weights\": Dense21weights,\n",
    "    \"Dense21bias\": Dense21bias,\n",
    "    \"Dense21out\": Dense21out,\n",
    "    \"Dense21remainder\": Dense21remainder\n",
    "}\n",
    "\n",
    "with open(\"dnn_input.json\", \"w\") as f:\n",
    "    json.dump(in_json, f)"
   ]
  },
  {
   "cell_type": "code",
   "execution_count": null,
   "metadata": {},
   "outputs": [],
   "source": []
  },
  {
   "cell_type": "code",
   "execution_count": null,
   "metadata": {},
   "outputs": [],
   "source": []
  }
 ],
 "metadata": {
  "kernelspec": {
   "display_name": "env",
   "language": "python",
   "name": "python3"
  },
  "language_info": {
   "codemirror_mode": {
    "name": "ipython",
    "version": 3
   },
   "file_extension": ".py",
   "mimetype": "text/x-python",
   "name": "python",
   "nbconvert_exporter": "python",
   "pygments_lexer": "ipython3",
   "version": "3.10.12"
  }
 },
 "nbformat": 4,
 "nbformat_minor": 2
}
