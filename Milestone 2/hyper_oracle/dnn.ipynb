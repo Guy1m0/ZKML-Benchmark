{
 "cells": [
  {
   "cell_type": "code",
   "execution_count": 6,
   "metadata": {},
   "outputs": [
    {
     "name": "stderr",
     "output_type": "stream",
     "text": [
      "2024-01-30 00:59:31.242512: I tensorflow/core/util/port.cc:113] oneDNN custom operations are on. You may see slightly different numerical results due to floating-point round-off errors from different computation orders. To turn them off, set the environment variable `TF_ENABLE_ONEDNN_OPTS=0`.\n",
      "2024-01-30 00:59:31.262410: E external/local_xla/xla/stream_executor/cuda/cuda_dnn.cc:9261] Unable to register cuDNN factory: Attempting to register factory for plugin cuDNN when one has already been registered\n",
      "2024-01-30 00:59:31.262433: E external/local_xla/xla/stream_executor/cuda/cuda_fft.cc:607] Unable to register cuFFT factory: Attempting to register factory for plugin cuFFT when one has already been registered\n",
      "2024-01-30 00:59:31.262946: E external/local_xla/xla/stream_executor/cuda/cuda_blas.cc:1515] Unable to register cuBLAS factory: Attempting to register factory for plugin cuBLAS when one has already been registered\n",
      "2024-01-30 00:59:31.266139: I tensorflow/core/platform/cpu_feature_guard.cc:182] This TensorFlow binary is optimized to use available CPU instructions in performance-critical operations.\n",
      "To enable the following instructions: AVX2 AVX_VNNI FMA, in other operations, rebuild TensorFlow with the appropriate compiler flags.\n",
      "2024-01-30 00:59:31.657179: W tensorflow/compiler/tf2tensorrt/utils/py_utils.cc:38] TF-TRT Warning: Could not find TensorRT\n"
     ]
    }
   ],
   "source": [
    "import torch, struct, os\n",
    "import numpy as np\n",
    "import tensorflow as tf"
   ]
  },
  {
   "cell_type": "code",
   "execution_count": 2,
   "metadata": {},
   "outputs": [],
   "source": [
    "state_dict = torch.load(\"../models/dnn_mnist_pt.pth\", map_location=torch.device(\"cpu\"))\n",
    "list_vars = state_dict"
   ]
  },
  {
   "cell_type": "code",
   "execution_count": 5,
   "metadata": {},
   "outputs": [
    {
     "name": "stdout",
     "output_type": "stream",
     "text": [
      "Processing variable: fc1.weight with shape:  (56, 784)\n",
      "Processing variable: fc1.bias with shape:  (56,)\n",
      "Processing variable: fc2.weight with shape:  (10, 56)\n",
      "Processing variable: fc2.bias with shape:  (10,)\n"
     ]
    }
   ],
   "source": [
    "fname_out = \"../models/ggml-model-f32-big-endian.bin\"\n",
    "pack_fmt = \"!i\"\n",
    "\n",
    "\n",
    "fout = open(fname_out, \"wb\")\n",
    "fout.write(struct.pack(pack_fmt, 0x67676d6c)) # magic: ggml in hex\n",
    "\n",
    "for name in list_vars.keys():\n",
    "    data = list_vars[name].squeeze().numpy()\n",
    "    print(\"Processing variable: \" + name + \" with shape: \", data.shape) \n",
    "    n_dims = len(data.shape)\n",
    "   \n",
    "    fout.write(struct.pack(pack_fmt, n_dims))\n",
    "    \n",
    "    data = data.astype(np.float32)\n",
    "    for i in range(n_dims):\n",
    "        fout.write(struct.pack(pack_fmt, data.shape[n_dims - 1 - i]))\n",
    "\n",
    "    # data\n",
    "    data = data.astype(\">f4\")\n",
    "    data.tofile(fout)\n",
    "\n",
    "fout.close()"
   ]
  },
  {
   "cell_type": "code",
   "execution_count": 7,
   "metadata": {},
   "outputs": [],
   "source": [
    "# Load TensorFlow MNIST data\n",
    "mnist = tf.keras.datasets.mnist\n",
    "(train_images, train_labels), (test_images, test_labels) = mnist.load_data()"
   ]
  },
  {
   "cell_type": "code",
   "execution_count": 25,
   "metadata": {},
   "outputs": [],
   "source": [
    "data_file = \"input\"\n",
    "def load_img_from_file(data_file=\"input\", show=False):\n",
    "    try:\n",
    "        with open(data_file, 'rb') as file:\n",
    "            buf = file.read()\n",
    "    except Exception as e:\n",
    "        print(e)\n",
    "        return None, e\n",
    "\n",
    "    digits = np.frombuffer(buf, dtype=np.uint8).astype(np.float32)\n",
    "    \n",
    "    if show:\n",
    "        c = \"\"\n",
    "        for row in range(28):\n",
    "            for col in range(28):\n",
    "                if buf[row * 28 + col] > 230:\n",
    "                    c += \"&\"\n",
    "                else:\n",
    "                    c += \"-\"\n",
    "            c += \"\\n\"\n",
    "        print(c)\n",
    "\n",
    "    return digits, None\n",
    "\n",
    "def save_img_to_file(image, data_file = \"input\"):\n",
    "    try:\n",
    "        # Convert to bytes\n",
    "        image_bytes = image.astype('uint8').tobytes()\n",
    "        \n",
    "        # Write to file\n",
    "        with open(data_file, 'wb') as file:\n",
    "            file.write(image_bytes)\n",
    "        \n",
    "        print(f\"Image saved to {data_file}\")\n",
    "    except Exception as e:\n",
    "        print(f\"Error saving image: {e}\")\n"
   ]
  },
  {
   "cell_type": "code",
   "execution_count": 26,
   "metadata": {},
   "outputs": [
    {
     "name": "stdout",
     "output_type": "stream",
     "text": [
      "Image saved to input\n"
     ]
    }
   ],
   "source": [
    "save_img_to_file(test_images[12])"
   ]
  },
  {
   "cell_type": "code",
   "execution_count": 27,
   "metadata": {},
   "outputs": [
    {
     "name": "stdout",
     "output_type": "stream",
     "text": [
      "----------------------------\n",
      "----------------------------\n",
      "----------------------------\n",
      "----------------------------\n",
      "----------------------------\n",
      "----------------------------\n",
      "----------------------------\n",
      "--------------&&&-----------\n",
      "-------------&&&&&--&-------\n",
      "-----------&&------&&-------\n",
      "----------&&-------&--------\n",
      "----------&-------&&--------\n",
      "---------&&-------&---------\n",
      "---------&-------&&---------\n",
      "---------&------&&----------\n",
      "---------&&----&&&----------\n",
      "----------&&&&&--&----------\n",
      "----------------&-----------\n",
      "---------------&&-----------\n",
      "---------------&&-----------\n",
      "---------------&------------\n",
      "--------------&&------------\n",
      "--------------&&------------\n",
      "--------------&-------------\n",
      "--------------&-------------\n",
      "--------------&-------------\n",
      "----------------------------\n",
      "----------------------------\n",
      "\n"
     ]
    }
   ],
   "source": [
    "# Example usage\n",
    "digits, error = load_img_from_file(show=True)"
   ]
  },
  {
   "cell_type": "markdown",
   "metadata": {},
   "source": [
    "## Test"
   ]
  },
  {
   "cell_type": "code",
   "execution_count": 48,
   "metadata": {},
   "outputs": [],
   "source": [
    "import psutil\n",
    "import time\n",
    "import os\n",
    "import subprocess, re\n",
    "\n",
    "# Function to get current memory usage\n",
    "def get_memory_usage():\n",
    "    return psutil.Process(os.getpid()).memory_info().rss / (1024 * 1024)  # Memory in MB"
   ]
  },
  {
   "cell_type": "code",
   "execution_count": 30,
   "metadata": {},
   "outputs": [
    {
     "name": "stdout",
     "output_type": "stream",
     "text": [
      "Directory './tmp/' created successfully\n"
     ]
    }
   ],
   "source": [
    "vm_file = \"../bin/vm\"\n",
    "program = \"../bin/gglm.bin\"\n",
    "model = \"../models/ggml-model-f32-big-endian.bin\"\n",
    "#input_img = data_file\n",
    "folder = \"./tmp/\"\n",
    "\n",
    "# Create the directory 'tmp' in the current working directory\n",
    "try:\n",
    "    os.makedirs(folder, exist_ok=True)\n",
    "    print(f\"Directory '{folder}' created successfully\")\n",
    "except OSError as error:\n",
    "    print(f\"Directory '{folder}' cannot be created. Error: {error}\")"
   ]
  },
  {
   "cell_type": "code",
   "execution_count": 55,
   "metadata": {},
   "outputs": [
    {
     "name": "stdout",
     "output_type": "stream",
     "text": [
      "modelSize:  178164\n",
      "rawSize:  [0 2 183 244]\n"
     ]
    },
    {
     "name": "stderr",
     "output_type": "stream",
     "text": [
      "Start MIPS MNIST\n",
      "start MIPS_InputProcess\n",
      "buf len:  784\n",
      "____________________________\n",
      "____________________________\n",
      "____________________________\n",
      "____________________________\n",
      "_______________***__________\n",
      "____________****____________\n",
      "________***_________________\n",
      "_________*__________________\n",
      "__________*_________________\n",
      "__________*_________________\n",
      "__________*_________________\n",
      "__________*****_____________\n",
      "_________*______**__________\n",
      "________*_________*_________\n",
      "____________________*_______\n",
      "_____________________*______\n",
      "______________________*_____\n",
      "_______________________*____\n",
      "_______________________*____\n",
      "______________________*_____\n",
      "______________________*_____\n",
      "________*___________*_______\n",
      "________***____****_________\n",
      "___________**_______________\n",
      "____________________________\n",
      "____________________________\n",
      "____________________________\n",
      "____________________________\n",
      "\n",
      "start MIPS_mnist_model_load\n",
      "model_bytes len:  178164\n",
      "magic: 67676d6c\n",
      "reading fc1\n",
      "n_dims:  2\n",
      "ne_weight:  [784 56]\n",
      "index:  175632\n",
      "reading fc2\n",
      "\n",
      "\n",
      "=== [ model.fc2_bias | FP32 | 10:1:1 ] ===\n",
      "\n",
      " 0 x 10 ...\t-0.235\t0.051\t0.027\t-0.050\t0.077\t0.164\t-0.047\t0.100\t-0.040\t-0.097\t\n",
      "current index:  178164\n",
      "start MIPS_mnist_eval\n",
      "\n",
      "\n",
      "=== [ final tensor | FP32 | 10:1:1 ] ===\n",
      "\n",
      " 0 x 10 ...\t0.000\t0.000\t0.000\t0.000\t0.000\t1.000\t0.000\t0.000\t0.000\t0.000\t\n",
      "Predicted digit is  5\n"
     ]
    },
    {
     "name": "stdout",
     "output_type": "stream",
     "text": [
      "reach the final state, total step: 32835652, target: -1\n",
      "writing ./tmp//checkpoint_32835652.json len 7583300 with root 0x4bd7ade2636d4db80eea591c1afe437f290b38a952a7a159c8bb2a3ec808146f\n",
      "lastStep:  32835652\n",
      "writing ./tmp//checkpoint_final.json len 7583300 with root 0x4bd7ade2636d4db80eea591c1afe437f290b38a952a7a159c8bb2a3ec808146f\n",
      "PC: 5ead0000\n",
      "Memory used: 0.0 MB\n",
      "Execution time: 31.350303411483765 seconds\n"
     ]
    }
   ],
   "source": [
    "subprocess.run([f\"{vm_file}\", f\"--basedir={folder}\",\n",
    "                f\"--program={program}\", f\"--model={model}\", f\"--data={data_file}\", \"--mipsVMCompatible\"])\n",
    "\n",
    "# Calculate the end memory and time\n",
    "end_memory = get_memory_usage()\n",
    "end_time = time.time()\n",
    "\n",
    "# Calculate and print the usage\n",
    "print(f\"Memory used: {end_memory - start_memory} MB\")\n",
    "print(f\"Execution time: {end_time - start_time} seconds\")"
   ]
  },
  {
   "cell_type": "code",
   "execution_count": 35,
   "metadata": {},
   "outputs": [
    {
     "name": "stdout",
     "output_type": "stream",
     "text": [
      "Image saved to input\n",
      "----------------------------\n",
      "----------------------------\n",
      "----------------------------\n",
      "----------------------------\n",
      "---------------&&&----------\n",
      "------------&&&&------------\n",
      "--------&&&-----------------\n",
      "---------&------------------\n",
      "----------&-----------------\n",
      "----------&-----------------\n",
      "----------&-----------------\n",
      "----------&&&&&-------------\n",
      "---------&------&&----------\n",
      "--------&---------&---------\n",
      "--------------------&-------\n",
      "---------------------&------\n",
      "----------------------&-----\n",
      "-----------------------&----\n",
      "-----------------------&----\n",
      "----------------------&-----\n",
      "----------------------&-----\n",
      "--------&-----------&-------\n",
      "--------&&&----&&&&---------\n",
      "-----------&&---------------\n",
      "----------------------------\n",
      "----------------------------\n",
      "----------------------------\n",
      "----------------------------\n",
      "\n"
     ]
    }
   ],
   "source": [
    "save_img_to_file(test_images[15])\n",
    "_ = load_img_from_file(show=True)"
   ]
  },
  {
   "cell_type": "code",
   "execution_count": 54,
   "metadata": {},
   "outputs": [
    {
     "name": "stdout",
     "output_type": "stream",
     "text": [
      "b'modelSize:  178164\\nrawSize:  [0 2 183 244]\\nreach the final state, total step: 32835652, target: -1\\nwriting ./tmp//checkpoint_32835652.json len 7583300 with root 0x4bd7ade2636d4db80eea591c1afe437f290b38a952a7a159c8bb2a3ec808146f\\nlastStep:  32835652\\nwriting ./tmp//checkpoint_final.json len 7583300 with root 0x4bd7ade2636d4db80eea591c1afe437f290b38a952a7a159c8bb2a3ec808146f\\nPC: 5ead0000\\n'\n",
      "Memory used: 0.0 MB\n",
      "Execution time: 3.4775969982147217 seconds\n",
      "modelSize:  178164\n",
      "rawSize:  [0 2 183 244]\n",
      "reach the final state, total step: 32835652, target: -1\n",
      "writing ./tmp//checkpoint_32835652.json len 7583300 with root 0x4bd7ade2636d4db80eea591c1afe437f290b38a952a7a159c8bb2a3ec808146f\n",
      "lastStep:  32835652\n",
      "writing ./tmp//checkpoint_final.json len 7583300 with root 0x4bd7ade2636d4db80eea591c1afe437f290b38a952a7a159c8bb2a3ec808146f\n",
      "PC: 5ead0000\n",
      "\n",
      "Predicted digit not found in the output\n"
     ]
    }
   ],
   "source": [
    "# Start memory and time monitoring\n",
    "start_memory = get_memory_usage()\n",
    "start_time = time.time()\n",
    "\n",
    "command = [f\"{vm_file}\", \"--lastLayer\", f\"--basedir={folder}\",\n",
    "                f\"--program={program}\", f\"--model={model}\", f\"--data={data_file}\", \"--mipsVMCompatible\"]\n",
    "\n",
    "\n",
    "# Start the subprocess\n",
    "process = subprocess.Popen(command, stdout=subprocess.PIPE, stderr=subprocess.PIPE)\n",
    "\n",
    "# Wait for the subprocess to finish and capture the output\n",
    "stdout, stderr = process.communicate()\n",
    "\n",
    "print (stdout)\n",
    "\n",
    "# Decode the output to a string\n",
    "output = stdout.decode()\n",
    "\n",
    "# Calculate the end memory and time\n",
    "end_memory = get_memory_usage()\n",
    "end_time = time.time()\n",
    "\n",
    "\n",
    "# Calculate and print the usage\n",
    "print(f\"Memory used: {end_memory - start_memory} MB\")\n",
    "print(f\"Execution time: {end_time - start_time} seconds\")\n",
    "\n",
    "print (output)\n",
    "\n",
    "# Find the line with the predicted digit using a regular expression\n",
    "match = re.search(r\"Predicted digit is\", output)\n",
    "if match:\n",
    "    predicted_digit = int(match.group(1))\n",
    "    print(f\"Predicted digit is {predicted_digit}\")\n",
    "else:\n",
    "    print(\"Predicted digit not found in the output\")"
   ]
  },
  {
   "cell_type": "code",
   "execution_count": null,
   "metadata": {},
   "outputs": [],
   "source": []
  }
 ],
 "metadata": {
  "kernelspec": {
   "display_name": "base",
   "language": "python",
   "name": "python3"
  },
  "language_info": {
   "codemirror_mode": {
    "name": "ipython",
    "version": 3
   },
   "file_extension": ".py",
   "mimetype": "text/x-python",
   "name": "python",
   "nbconvert_exporter": "python",
   "pygments_lexer": "ipython3",
   "version": "3.10.12"
  },
  "orig_nbformat": 4
 },
 "nbformat": 4,
 "nbformat_minor": 2
}
