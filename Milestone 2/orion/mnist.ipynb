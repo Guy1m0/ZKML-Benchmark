{
 "cells": [
  {
   "cell_type": "code",
   "execution_count": 18,
   "metadata": {},
   "outputs": [],
   "source": [
    "import tensorflow as tf\n",
    "import numpy as np\n",
    "from scipy.ndimage import zoom\n",
    "import torch\n",
    "\n",
    "# Load TensorFlow MNIST data\n",
    "mnist = tf.keras.datasets.mnist\n",
    "(train_images, train_labels), (test_images, test_labels) = mnist.load_data()\n",
    "\n",
    "# Normalize and reshape\n",
    "train_images = train_images / 255.0\n",
    "test_images = test_images / 255.0\n",
    "train_images = train_images.reshape(train_images.shape[0], 28, 28, 1)\n",
    "test_images = test_images.reshape(test_images.shape[0], 28, 28, 1)"
   ]
  },
  {
   "cell_type": "markdown",
   "metadata": {},
   "source": [
    "### Load Model"
   ]
  },
  {
   "cell_type": "code",
   "execution_count": 17,
   "metadata": {},
   "outputs": [],
   "source": [
    "folder = \"../model/\"\n",
    "model_tf = tf.keras.models.load_model(folder + 'model_tf')\n",
    "#model_tf = tf.keras.models.load_model(folder + 'model_tf.h5')"
   ]
  },
  {
   "cell_type": "code",
   "execution_count": 21,
   "metadata": {},
   "outputs": [
    {
     "name": "stdout",
     "output_type": "stream",
     "text": [
      "313/313 - 0s - loss: 0.0444 - accuracy: 0.9863 - 232ms/epoch - 743us/step\n",
      "\n",
      "Test accuracy: 0.986299991607666\n"
     ]
    }
   ],
   "source": [
    "# Evaluate the model\n",
    "test_loss, test_acc = model_tf.evaluate(test_images, test_labels, verbose=2)\n",
    "print('\\nTest accuracy:', test_acc)"
   ]
  },
  {
   "cell_type": "code",
   "execution_count": 26,
   "metadata": {},
   "outputs": [
    {
     "name": "stdout",
     "output_type": "stream",
     "text": [
      "Model: \"sequential_1\"\n",
      "_________________________________________________________________\n",
      " Layer (type)                Output Shape              Param #   \n",
      "=================================================================\n",
      " quantize_layer_1 (Quantize  (None, 28, 28, 1)         3         \n",
      " Layer)                                                          \n",
      "                                                                 \n",
      " quant_conv2d_4 (QuantizeWr  (None, 24, 24, 6)         171       \n",
      " apperV2)                                                        \n",
      "                                                                 \n",
      " quant_average_pooling2d_4   (None, 12, 12, 6)         3         \n",
      " (QuantizeWrapperV2)                                             \n",
      "                                                                 \n",
      " quant_conv2d_5 (QuantizeWr  (None, 8, 8, 16)          2451      \n",
      " apperV2)                                                        \n",
      "                                                                 \n",
      " quant_average_pooling2d_5   (None, 4, 4, 16)          3         \n",
      " (QuantizeWrapperV2)                                             \n",
      "                                                                 \n",
      " quant_flatten_2 (QuantizeW  (None, 256)               1         \n",
      " rapperV2)                                                       \n",
      "                                                                 \n",
      " quant_dense_6 (QuantizeWra  (None, 120)               30845     \n",
      " pperV2)                                                         \n",
      "                                                                 \n",
      " quant_dense_7 (QuantizeWra  (None, 84)                10169     \n",
      " pperV2)                                                         \n",
      "                                                                 \n",
      " quant_dense_8 (QuantizeWra  (None, 10)                855       \n",
      " pperV2)                                                         \n",
      "                                                                 \n",
      "=================================================================\n",
      "Total params: 44501 (173.83 KB)\n",
      "Trainable params: 44426 (173.54 KB)\n",
      "Non-trainable params: 75 (300.00 Byte)\n",
      "_________________________________________________________________\n"
     ]
    }
   ],
   "source": [
    "import tensorflow_model_optimization as tfmot\n",
    "\n",
    "# Apply quantization to the layers\n",
    "quantize_model = tfmot.quantization.keras.quantize_model\n",
    "\n",
    "q_aware_model = quantize_model(model_tf)\n",
    "\n",
    "# 'quantize_model' requires a recompile\n",
    "q_aware_model.compile(optimizer='adam',\n",
    "                      loss='sparse_categorical_crossentropy',\n",
    "                      metrics=['accuracy'])\n",
    "\n",
    "q_aware_model.summary()\n"
   ]
  },
  {
   "cell_type": "code",
   "execution_count": 32,
   "metadata": {},
   "outputs": [
    {
     "name": "stdout",
     "output_type": "stream",
     "text": [
      "Epoch 1/3\n"
     ]
    },
    {
     "name": "stderr",
     "output_type": "stream",
     "text": [
      "2024-01-25 22:48:27.088905: W tensorflow/compiler/mlir/tools/kernel_gen/transforms/gpu_kernel_to_blob_pass.cc:191] Failed to compile generated PTX with ptxas. Falling back to compilation by driver.\n",
      "2024-01-25 22:48:27.089190: W tensorflow/compiler/mlir/tools/kernel_gen/transforms/gpu_kernel_to_blob_pass.cc:191] Failed to compile generated PTX with ptxas. Falling back to compilation by driver.\n",
      "2024-01-25 22:48:27.089731: W tensorflow/compiler/mlir/tools/kernel_gen/transforms/gpu_kernel_to_blob_pass.cc:191] Failed to compile generated PTX with ptxas. Falling back to compilation by driver.\n",
      "2024-01-25 22:48:27.089801: W tensorflow/compiler/mlir/tools/kernel_gen/transforms/gpu_kernel_to_blob_pass.cc:191] Failed to compile generated PTX with ptxas. Falling back to compilation by driver.\n",
      "2024-01-25 22:48:27.089822: W tensorflow/compiler/mlir/tools/kernel_gen/transforms/gpu_kernel_to_blob_pass.cc:191] Failed to compile generated PTX with ptxas. Falling back to compilation by driver.\n",
      "2024-01-25 22:48:27.089832: W tensorflow/compiler/mlir/tools/kernel_gen/transforms/gpu_kernel_to_blob_pass.cc:191] Failed to compile generated PTX with ptxas. Falling back to compilation by driver.\n",
      "2024-01-25 22:48:27.090128: W tensorflow/compiler/mlir/tools/kernel_gen/transforms/gpu_kernel_to_blob_pass.cc:191] Failed to compile generated PTX with ptxas. Falling back to compilation by driver.\n",
      "2024-01-25 22:48:27.090169: W tensorflow/compiler/mlir/tools/kernel_gen/transforms/gpu_kernel_to_blob_pass.cc:191] Failed to compile generated PTX with ptxas. Falling back to compilation by driver.\n",
      "2024-01-25 22:48:27.090203: W tensorflow/compiler/mlir/tools/kernel_gen/transforms/gpu_kernel_to_blob_pass.cc:191] Failed to compile generated PTX with ptxas. Falling back to compilation by driver.\n",
      "2024-01-25 22:48:27.090738: W tensorflow/compiler/mlir/tools/kernel_gen/transforms/gpu_kernel_to_blob_pass.cc:191] Failed to compile generated PTX with ptxas. Falling back to compilation by driver.\n",
      "2024-01-25 22:48:27.091250: W tensorflow/compiler/mlir/tools/kernel_gen/transforms/gpu_kernel_to_blob_pass.cc:191] Failed to compile generated PTX with ptxas. Falling back to compilation by driver.\n",
      "2024-01-25 22:48:27.091264: W tensorflow/compiler/mlir/tools/kernel_gen/transforms/gpu_kernel_to_blob_pass.cc:191] Failed to compile generated PTX with ptxas. Falling back to compilation by driver.\n",
      "2024-01-25 22:48:27.091894: W tensorflow/compiler/mlir/tools/kernel_gen/transforms/gpu_kernel_to_blob_pass.cc:191] Failed to compile generated PTX with ptxas. Falling back to compilation by driver.\n",
      "2024-01-25 22:48:27.091904: W tensorflow/compiler/mlir/tools/kernel_gen/transforms/gpu_kernel_to_blob_pass.cc:191] Failed to compile generated PTX with ptxas. Falling back to compilation by driver.\n",
      "2024-01-25 22:48:27.091908: W tensorflow/compiler/mlir/tools/kernel_gen/transforms/gpu_kernel_to_blob_pass.cc:191] Failed to compile generated PTX with ptxas. Falling back to compilation by driver.\n",
      "2024-01-25 22:48:27.092228: W tensorflow/compiler/mlir/tools/kernel_gen/transforms/gpu_kernel_to_blob_pass.cc:191] Failed to compile generated PTX with ptxas. Falling back to compilation by driver.\n",
      "2024-01-25 22:48:27.111481: W tensorflow/compiler/mlir/tools/kernel_gen/transforms/gpu_kernel_to_blob_pass.cc:191] Failed to compile generated PTX with ptxas. Falling back to compilation by driver.\n",
      "2024-01-25 22:48:27.111668: W tensorflow/compiler/mlir/tools/kernel_gen/transforms/gpu_kernel_to_blob_pass.cc:191] Failed to compile generated PTX with ptxas. Falling back to compilation by driver.\n",
      "2024-01-25 22:48:27.112599: W tensorflow/compiler/mlir/tools/kernel_gen/transforms/gpu_kernel_to_blob_pass.cc:191] Failed to compile generated PTX with ptxas. Falling back to compilation by driver.\n",
      "2024-01-25 22:48:27.113027: W tensorflow/compiler/mlir/tools/kernel_gen/transforms/gpu_kernel_to_blob_pass.cc:191] Failed to compile generated PTX with ptxas. Falling back to compilation by driver.\n",
      "2024-01-25 22:48:27.113037: W tensorflow/compiler/mlir/tools/kernel_gen/transforms/gpu_kernel_to_blob_pass.cc:191] Failed to compile generated PTX with ptxas. Falling back to compilation by driver.\n",
      "2024-01-25 22:48:27.113349: W tensorflow/compiler/mlir/tools/kernel_gen/transforms/gpu_kernel_to_blob_pass.cc:191] Failed to compile generated PTX with ptxas. Falling back to compilation by driver.\n",
      "2024-01-25 22:48:27.113690: W tensorflow/compiler/mlir/tools/kernel_gen/transforms/gpu_kernel_to_blob_pass.cc:191] Failed to compile generated PTX with ptxas. Falling back to compilation by driver.\n",
      "2024-01-25 22:48:27.115520: W tensorflow/compiler/mlir/tools/kernel_gen/transforms/gpu_kernel_to_blob_pass.cc:191] Failed to compile generated PTX with ptxas. Falling back to compilation by driver.\n",
      "2024-01-25 22:48:27.479602: W tensorflow/compiler/mlir/tools/kernel_gen/transforms/gpu_kernel_to_blob_pass.cc:191] Failed to compile generated PTX with ptxas. Falling back to compilation by driver.\n",
      "2024-01-25 22:48:27.519093: W tensorflow/compiler/mlir/tools/kernel_gen/transforms/gpu_kernel_to_blob_pass.cc:191] Failed to compile generated PTX with ptxas. Falling back to compilation by driver.\n",
      "2024-01-25 22:48:27.634791: W tensorflow/compiler/mlir/tools/kernel_gen/transforms/gpu_kernel_to_blob_pass.cc:191] Failed to compile generated PTX with ptxas. Falling back to compilation by driver.\n",
      "2024-01-25 22:48:27.634804: W tensorflow/compiler/mlir/tools/kernel_gen/transforms/gpu_kernel_to_blob_pass.cc:191] Failed to compile generated PTX with ptxas. Falling back to compilation by driver.\n",
      "2024-01-25 22:48:27.635401: W tensorflow/compiler/mlir/tools/kernel_gen/transforms/gpu_kernel_to_blob_pass.cc:191] Failed to compile generated PTX with ptxas. Falling back to compilation by driver.\n",
      "2024-01-25 22:48:27.635786: W tensorflow/compiler/mlir/tools/kernel_gen/transforms/gpu_kernel_to_blob_pass.cc:191] Failed to compile generated PTX with ptxas. Falling back to compilation by driver.\n",
      "2024-01-25 22:48:27.635797: W tensorflow/compiler/mlir/tools/kernel_gen/transforms/gpu_kernel_to_blob_pass.cc:191] Failed to compile generated PTX with ptxas. Falling back to compilation by driver.\n",
      "2024-01-25 22:48:27.637168: W tensorflow/compiler/mlir/tools/kernel_gen/transforms/gpu_kernel_to_blob_pass.cc:191] Failed to compile generated PTX with ptxas. Falling back to compilation by driver.\n",
      "2024-01-25 22:48:27.637691: W tensorflow/compiler/mlir/tools/kernel_gen/transforms/gpu_kernel_to_blob_pass.cc:191] Failed to compile generated PTX with ptxas. Falling back to compilation by driver.\n",
      "2024-01-25 22:48:27.638322: W tensorflow/compiler/mlir/tools/kernel_gen/transforms/gpu_kernel_to_blob_pass.cc:191] Failed to compile generated PTX with ptxas. Falling back to compilation by driver.\n",
      "2024-01-25 22:48:27.639229: W tensorflow/compiler/mlir/tools/kernel_gen/transforms/gpu_kernel_to_blob_pass.cc:191] Failed to compile generated PTX with ptxas. Falling back to compilation by driver.\n",
      "2024-01-25 22:48:27.833388: I external/local_xla/xla/service/service.cc:168] XLA service 0x7f60fc0dcd70 initialized for platform CUDA (this does not guarantee that XLA will be used). Devices:\n",
      "2024-01-25 22:48:27.833401: I external/local_xla/xla/service/service.cc:176]   StreamExecutor device (0): NVIDIA GeForce RTX 4090, Compute Capability 8.9\n",
      "WARNING: All log messages before absl::InitializeLog() is called are written to STDERR\n",
      "I0000 00:00:1706194107.862178  297772 device_compiler.h:186] Compiled cluster using XLA!  This line is logged at most once for the lifetime of the process.\n"
     ]
    },
    {
     "name": "stdout",
     "output_type": "stream",
     "text": [
      "1500/1500 [==============================] - 7s 3ms/step - loss: 1.5193 - accuracy: 0.8356 - val_loss: 2.1938 - val_accuracy: 0.8253\n",
      "Epoch 2/3\n",
      "1500/1500 [==============================] - 5s 4ms/step - loss: 2.2012 - accuracy: 0.8122 - val_loss: 2.1861 - val_accuracy: 0.8166\n",
      "Epoch 3/3\n",
      "1500/1500 [==============================] - 5s 4ms/step - loss: 2.1860 - accuracy: 0.8096 - val_loss: 2.1573 - val_accuracy: 0.8157\n",
      "Test loss: 2.1814723014831543\n",
      "Test accuracy: 0.8223000168800354\n"
     ]
    }
   ],
   "source": [
    "batch_size = 256\n",
    "epochs = 3\n",
    "history = q_aware_model.fit(train_images, train_labels,\n",
    "                            epochs=epochs,\n",
    "                            validation_split=0.2)\n",
    "\n",
    "scores, acc = q_aware_model.evaluate(test_images, test_labels, verbose=0)\n",
    "print('Test loss:', scores)\n",
    "print('Test accuracy:', acc)"
   ]
  },
  {
   "cell_type": "markdown",
   "metadata": {},
   "source": [
    "## Converting to TFLite Format\n"
   ]
  },
  {
   "cell_type": "code",
   "execution_count": 27,
   "metadata": {},
   "outputs": [
    {
     "name": "stdout",
     "output_type": "stream",
     "text": [
      "INFO:tensorflow:Assets written to: /tmp/tmphh81q1jm/assets\n"
     ]
    },
    {
     "name": "stderr",
     "output_type": "stream",
     "text": [
      "INFO:tensorflow:Assets written to: /tmp/tmphh81q1jm/assets\n",
      "/home/guy1m0/Desktop/ZKML-Benchmark/env/lib/python3.10/site-packages/tensorflow/lite/python/convert.py:953: UserWarning: Statistics for quantized inputs were expected, but not specified; continuing anyway.\n",
      "  warnings.warn(\n",
      "2024-01-25 22:46:04.139226: W tensorflow/compiler/mlir/lite/python/tf_tfl_flatbuffer_helpers.cc:378] Ignored output_format.\n",
      "2024-01-25 22:46:04.139251: W tensorflow/compiler/mlir/lite/python/tf_tfl_flatbuffer_helpers.cc:381] Ignored drop_control_dependency.\n",
      "2024-01-25 22:46:04.139402: I tensorflow/cc/saved_model/reader.cc:83] Reading SavedModel from: /tmp/tmphh81q1jm\n",
      "2024-01-25 22:46:04.141397: I tensorflow/cc/saved_model/reader.cc:51] Reading meta graph with tags { serve }\n",
      "2024-01-25 22:46:04.141411: I tensorflow/cc/saved_model/reader.cc:146] Reading SavedModel debug info (if present) from: /tmp/tmphh81q1jm\n",
      "2024-01-25 22:46:04.146886: I tensorflow/cc/saved_model/loader.cc:233] Restoring SavedModel bundle.\n",
      "2024-01-25 22:46:04.205343: I tensorflow/cc/saved_model/loader.cc:217] Running initialization op on SavedModel bundle at path: /tmp/tmphh81q1jm\n",
      "2024-01-25 22:46:04.223211: I tensorflow/cc/saved_model/loader.cc:316] SavedModel load for tags { serve }; Status: success: OK. Took 83808 microseconds.\n",
      "Summary on the non-converted ops:\n",
      "---------------------------------\n",
      " * Accepted dialects: tfl, builtin, func\n",
      " * Non-Converted Ops: 1, Total Ops 30, % non-converted = 3.33 %\n",
      " * 1 ARITH ops\n",
      "\n",
      "- arith.constant:    1 occurrences  (i32: 1)\n",
      "\n",
      "\n",
      "\n",
      "  (uq_8: 2)\n",
      "  (uq_8: 2)\n",
      "  (f32: 1)\n",
      "  (uq_8: 3)\n",
      "  (uq_8: 4)\n",
      "  (uq_8: 5, uq_32: 5)\n",
      "  (uq_8: 3)\n",
      "  (uq_8: 1)\n",
      "fully_quantize: 0, inference_type: 6, input_inference_type: INT8, output_inference_type: INT8\n"
     ]
    },
    {
     "data": {
      "text/plain": [
       "51600"
      ]
     },
     "execution_count": 27,
     "metadata": {},
     "output_type": "execute_result"
    }
   ],
   "source": [
    "import tensorflow as tf\n",
    "\n",
    "# Create a converter\n",
    "converter = tf.lite.TFLiteConverter.from_keras_model(q_aware_model)\n",
    "\n",
    "# Indicate that you want to perform default optimizations,\n",
    "# which include quantization\n",
    "converter.optimizations = [tf.lite.Optimize.DEFAULT]\n",
    "\n",
    "# Define a generator function that provides your test data's numpy arrays\n",
    "def representative_data_gen():\n",
    "  for i in range(500):\n",
    "    yield [np.array(train_images[i:i+1], dtype=np.float32)]\n",
    "\n",
    "# Use the generator function to guide the quantization process\n",
    "converter.representative_dataset = representative_data_gen\n",
    "\n",
    "# Ensure that if any ops can't be quantized, the converter throws an error\n",
    "converter.target_spec.supported_ops = [tf.lite.OpsSet.TFLITE_BUILTINS_INT8]\n",
    "\n",
    "# Set the input and output tensors to int8\n",
    "converter.inference_input_type = tf.int8\n",
    "converter.inference_output_type = tf.int8\n",
    "\n",
    "# Convert the model\n",
    "tflite_model = converter.convert()\n",
    "\n",
    "# Save the model to disk\n",
    "open(\"../model/q_aware_model.tflite\", \"wb\").write(tflite_model)"
   ]
  },
  {
   "cell_type": "markdown",
   "metadata": {},
   "source": [
    "### Testing the Quantized Model"
   ]
  },
  {
   "cell_type": "code",
   "execution_count": 28,
   "metadata": {},
   "outputs": [],
   "source": [
    "# Load the TFLite model and allocate tensors.\n",
    "interpreter = tf.lite.Interpreter(model_path=\"../model/q_aware_model.tflite\")\n",
    "interpreter.allocate_tensors()"
   ]
  },
  {
   "cell_type": "code",
   "execution_count": 29,
   "metadata": {},
   "outputs": [],
   "source": [
    "# Get input and output tensors.\n",
    "input_details = interpreter.get_input_details()\n",
    "output_details = interpreter.get_output_details()\n"
   ]
  },
  {
   "cell_type": "code",
   "execution_count": 30,
   "metadata": {},
   "outputs": [
    {
     "name": "stdout",
     "output_type": "stream",
     "text": [
      "[[ -73   52  -12  -74 -108   15 -125   45  -90 -117]]\n"
     ]
    }
   ],
   "source": [
    "# Normalize the input value to int8\n",
    "input_shape = input_details[0]['shape']\n",
    "input_data = np.array(test_images[0:1], dtype=np.int8)\n",
    "interpreter.set_tensor(input_details[0]['index'], input_data)\n",
    "\n",
    "# Perform the inference\n",
    "interpreter.invoke()\n",
    "\n",
    "# Get the result\n",
    "output_data = interpreter.get_tensor(output_details[0]['index'])\n",
    "print(output_data)\n"
   ]
  },
  {
   "cell_type": "code",
   "execution_count": 23,
   "metadata": {},
   "outputs": [],
   "source": [
    "(_, _), (x_test_image, y_test_label) = mnist.load_data()\n",
    "\n",
    "# Resize and Normalize x_test_image to int8\n",
    "x_test_image_norm = (x_test_image / 255.0 * 255 - 128).astype(np.int8)\n",
    "\n",
    "# Initialize an array to store the predictions\n",
    "predictions = []"
   ]
  },
  {
   "cell_type": "code",
   "execution_count": 14,
   "metadata": {},
   "outputs": [],
   "source": [
    "# Assuming x_test_image_norm is normalized to the range [-128, 127]\n",
    "for i in range(len(x_test_image_norm)):\n",
    "    # Reshape the image to [height, width, 1] - Add a channel dimension\n",
    "    test_image = x_test_image_norm[i].reshape(28, 28, 1)\n",
    "\n",
    "    # Expand dims to add a batch dimension: [1, height, width, 1]\n",
    "    test_image = np.expand_dims(test_image, axis=0)\n",
    "\n",
    "    # Set the value for the input tensor\n",
    "    interpreter.set_tensor(input_details[0]['index'], test_image)\n",
    "\n",
    "    # Run the inference\n",
    "    interpreter.invoke()\n",
    "\n",
    "    # Get the output and add to predictions\n",
    "    output = interpreter.get_tensor(output_details[0]['index'])\n",
    "    predictions.append(output)\n"
   ]
  },
  {
   "cell_type": "code",
   "execution_count": 25,
   "metadata": {},
   "outputs": [
    {
     "name": "stdout",
     "output_type": "stream",
     "text": [
      "Accuracy of the quantized model: 0.074400\n",
      "Accuracy of the original TensorFlow model: 0.986300\n"
     ]
    }
   ],
   "source": [
    "# Evaluate the quantized TFLite model\n",
    "correct_predictions = 0\n",
    "for i in range(len(x_test_image_norm)):\n",
    "    test_image = x_test_image_norm[i].reshape(28, 28, 1)\n",
    "    test_image = np.expand_dims(test_image, axis=0)\n",
    "\n",
    "    interpreter.set_tensor(input_details[0]['index'], test_image)\n",
    "    interpreter.invoke()\n",
    "    output = interpreter.get_tensor(output_details[0]['index'])\n",
    "\n",
    "    # Assuming output is a softmax output, take argmax to get predicted class\n",
    "    predicted_class = np.argmax(output)\n",
    "    if predicted_class == y_test_label[i]:\n",
    "        correct_predictions += 1\n",
    "\n",
    "accuracy_quantized_model = correct_predictions / len(x_test_image_norm)\n",
    "print(f'Accuracy of the quantized model: {accuracy_quantized_model:.6f}')\n",
    "\n",
    "# Evaluate the original TensorFlow model\n",
    "_, accuracy_tf_model = model_tf.evaluate(test_images, y_test_label, verbose=0)\n",
    "print(f'Accuracy of the original TensorFlow model: {accuracy_tf_model:.6f}')\n"
   ]
  },
  {
   "cell_type": "code",
   "execution_count": 31,
   "metadata": {},
   "outputs": [
    {
     "data": {
      "image/png": "[encoded data removed]",
      "text/plain": [
       "<Figure size 1200x1400 with 25 Axes>"
      ]
     },
     "metadata": {},
     "output_type": "display_data"
    }
   ],
   "source": [
    "import matplotlib.pyplot as plt\n",
    "\n",
    "def plot_images_labels_prediction(images,labels,idx,num=10):\n",
    "    fig=plt.gcf()\n",
    "    fig.set_size_inches(12, 14)\n",
    "    if num > 25: num=25\n",
    "    for i in range(0, num):\n",
    "        ax=plt.subplot(5, 5, i+1)\n",
    "        ax.imshow(images[idx], cmap='binary')\n",
    "        title=\"label=\" + str(labels[idx])\n",
    "        ax.set_title(title, fontsize=10)\n",
    "        ax.set_xticks([]);\n",
    "        ax.set_yticks([]);\n",
    "        idx += 1\n",
    "    plt.show()\n",
    "\n",
    "plot_images_labels_prediction(x_test_image, y_test_label, 0, 25)\n",
    "\n"
   ]
  },
  {
   "cell_type": "code",
   "execution_count": null,
   "metadata": {},
   "outputs": [],
   "source": []
  },
  {
   "cell_type": "code",
   "execution_count": null,
   "metadata": {},
   "outputs": [],
   "source": []
  },
  {
   "cell_type": "code",
   "execution_count": null,
   "metadata": {},
   "outputs": [],
   "source": []
  },
  {
   "cell_type": "code",
   "execution_count": null,
   "metadata": {},
   "outputs": [],
   "source": []
  },
  {
   "cell_type": "code",
   "execution_count": null,
   "metadata": {},
   "outputs": [],
   "source": []
  },
  {
   "cell_type": "code",
   "execution_count": null,
   "metadata": {},
   "outputs": [],
   "source": []
  }
 ],
 "metadata": {
  "kernelspec": {
   "display_name": "Python 3",
   "language": "python",
   "name": "python3"
  },
  "language_info": {
   "codemirror_mode": {
    "name": "ipython",
    "version": 3
   },
   "file_extension": ".py",
   "mimetype": "text/x-python",
   "name": "python",
   "nbconvert_exporter": "python",
   "pygments_lexer": "ipython3",
   "version": "3.10.12"
  }
 },
 "nbformat": 4,
 "nbformat_minor": 2
}
