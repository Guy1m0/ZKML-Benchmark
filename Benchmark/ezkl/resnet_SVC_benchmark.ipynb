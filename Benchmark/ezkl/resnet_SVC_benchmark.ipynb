{
 "cells": [
  {
   "cell_type": "code",
   "execution_count": 1,
   "metadata": {},
   "outputs": [],
   "source": [
    "#from dataset import Dataset\n",
    "import time\n",
    "from keras.datasets import cifar10\n",
    "import numpy as np\n",
    "from sklearn.datasets import make_classification\n",
    "import matplotlib.pyplot as plt\n",
    "import seaborn as sns\n",
    "import random\n",
    "import sys\n",
    "\n",
    "import torch\n",
    "import torchvision\n",
    "import torchvision.transforms as transforms\n",
    "\n",
    "import torch.nn as nn\n",
    "import torch.nn.functional as F\n",
    "import torch.optim as optim\n",
    "from torch.optim.lr_scheduler import _LRScheduler\n",
    "import torch.utils.data as data\n",
    "from torch.nn.modules.loss import CrossEntropyLoss\n",
    "\n",
    "import torchvision.datasets as datasets\n",
    "\n",
    "import sklearn\n",
    "from sklearn.svm import LinearSVC\n",
    "from sklearn.svm import SVC\n",
    "from sklearn.datasets import make_classification\n",
    "from sklearn.metrics import hinge_loss\n",
    "\n",
    "import copy\n",
    "from copy import deepcopy\n",
    "import random\n",
    "import time\n",
    "\n",
    "import json\n",
    "import os\n",
    "from PIL import Image\n",
    "\n",
    "import tqdm\n",
    "\n",
    "# EZKL use 3.9.3 ?\n",
    "import ezkl, onnx"
   ]
  },
  {
   "cell_type": "code",
   "execution_count": 2,
   "metadata": {},
   "outputs": [],
   "source": [
    "# Class Dictionary for CIFAR10\n",
    "classDict = {'plane': 0, 'car': 1, 'bird': 2, 'cat': 3, 'deer': 4,\n",
    "             'dog': 5, 'frog': 6, 'horse': 7, 'ship': 8, 'truck': 9}\n",
    "\n",
    "binaryClasses = {0:'Machine', 1:'Animal'} # Machine , Animal\n",
    "\n",
    "data_mean = (0.4914, 0.4822, 0.4465)\n",
    "data_std = (0.2470, 0.2435, 0.2616)"
   ]
  },
  {
   "cell_type": "markdown",
   "metadata": {},
   "source": [
    "## Data Prepartion"
   ]
  },
  {
   "cell_type": "code",
   "execution_count": 3,
   "metadata": {},
   "outputs": [],
   "source": [
    "from torch.nn.modules.transformer import TransformerDecoderLayer\n",
    "# Overwrite getitem method to obtain the index of the images when iterating through the images\n",
    "\n",
    "from torchvision import datasets, transforms\n",
    "from torch.utils.data import Dataset, DataLoader\n",
    "\n",
    "\n",
    "class CIFAR10(Dataset):\n",
    "    def __init__(self, train, transform):\n",
    "        self.cifar10 = torchvision.datasets.CIFAR10(\n",
    "                        root='./data', train=train, download=True, transform=transform)\n",
    "        self.targets = self.cifar10.targets\n",
    "        self.classes = self.cifar10.classes\n",
    "        self.data = self.cifar10.data\n",
    "\n",
    "\n",
    "    # Overloaded the getitem method to return index as well\n",
    "    def __getitem__(self, index):\n",
    "        data, target = self.cifar10[index]\n",
    "        return data, target, index\n",
    "\n",
    "    # Method to get all images' indices from a certain class without iterating through the loader\n",
    "    def get_index(self, target_label):\n",
    "      index_list = []\n",
    "      for index, label in enumerate(self.targets):\n",
    "        if label == target_label:\n",
    "          index_list.append(index)\n",
    "      return index_list\n",
    "\n",
    "    def __len__(self):\n",
    "        return len(self.cifar10)\n",
    "\n",
    "    def remove(self, remove_list):\n",
    "      mask = np.ones(len(self.cifar10), dtype=bool)\n",
    "      mask[remove_list] = False\n",
    "      data = self.data[mask]\n",
    "\n",
    "# Data Prep.\n",
    "inv_normalize = transforms.Normalize(\n",
    "   mean= [-m/s for m, s in zip(data_mean, data_std)],\n",
    "   std= [1/s for s in data_std]\n",
    ")\n",
    "\n",
    "transform_train = transforms.Compose([\n",
    "    transforms.ToTensor(),\n",
    "    transforms.Normalize(data_mean, data_std),\n",
    "])\n",
    "\n",
    "transform_test = transforms.Compose([\n",
    "    transforms.ToTensor(),\n",
    "    transforms.Normalize(data_mean, data_std),\n",
    "])\n"
   ]
  },
  {
   "cell_type": "code",
   "execution_count": 4,
   "metadata": {},
   "outputs": [
    {
     "name": "stdout",
     "output_type": "stream",
     "text": [
      "Files already downloaded and verified\n",
      "Files already downloaded and verified\n"
     ]
    }
   ],
   "source": [
    "trainset = CIFAR10(train=True, transform=transform_train)\n",
    "testset = CIFAR10(train=False, transform=transform_test)\n",
    "\n",
    "trainloader = torch.utils.data.DataLoader(trainset, batch_size=100, shuffle=True)\n",
    "testloader = torch.utils.data.DataLoader(testset, batch_size=100, shuffle=False)"
   ]
  },
  {
   "cell_type": "markdown",
   "metadata": {},
   "source": [
    "## Resnet Model"
   ]
  },
  {
   "cell_type": "code",
   "execution_count": 5,
   "metadata": {},
   "outputs": [],
   "source": [
    "class ResNet(torchvision.models.ResNet):\n",
    "    \"\"\"ResNet generalization for CIFAR-like thingies.\n",
    "\n",
    "    This is a minor modification of\n",
    "    https://github.com/pytorch/vision/blob/master/torchvision/models/resnet.py,\n",
    "    adding additional options.\n",
    "    \"\"\"\n",
    "\n",
    "    def __init__(self, block, layers, num_classes=2, zero_init_residual=False,\n",
    "                 groups=1, base_width=64, replace_stride_with_dilation=[False, False, False, False],\n",
    "                 norm_layer=torch.nn.BatchNorm2d, strides=[1, 2, 2, 2], initial_conv=[3, 1, 1]):\n",
    "        \"\"\"Initialize as usual. Layers and strides are scriptable.\"\"\"\n",
    "        super(torchvision.models.ResNet, self).__init__()  # torch.nn.Module\n",
    "        self._norm_layer = norm_layer\n",
    "\n",
    "        self.dilation = 1\n",
    "        if len(replace_stride_with_dilation) != 4:\n",
    "            raise ValueError(\"replace_stride_with_dilation should be None \"\n",
    "                             \"or a 4-element tuple, got {}\".format(replace_stride_with_dilation))\n",
    "        self.groups = groups\n",
    "\n",
    "        self.inplanes = base_width\n",
    "        self.base_width = 64  # Do this to circumvent BasicBlock errors. The value is not actually used.\n",
    "        self.conv1 = torch.nn.Conv2d(3, self.inplanes, kernel_size=initial_conv[0],\n",
    "                                     stride=initial_conv[1], padding=initial_conv[2], bias=False)\n",
    "        self.bn1 = norm_layer(self.inplanes)\n",
    "        self.relu = torch.nn.ReLU(inplace=True)\n",
    "\n",
    "        layer_list = []\n",
    "        width = self.inplanes\n",
    "        for idx, layer in enumerate(layers):\n",
    "            layer_list.append(self._make_layer(block, width, layer, stride=strides[idx], dilate=replace_stride_with_dilation[idx]))\n",
    "            width *= 2\n",
    "        self.layers = torch.nn.Sequential(*layer_list)\n",
    "\n",
    "        self.avgpool = torch.nn.AdaptiveAvgPool2d((1, 1))\n",
    "        self.fc = torch.nn.Linear(width // 2 * block.expansion, num_classes)\n",
    "        #self.predict = nn.Sigmoid()\n",
    "\n",
    "        for m in self.modules():\n",
    "            if isinstance(m, torch.nn.Conv2d):\n",
    "                torch.nn.init.kaiming_normal_(m.weight, mode='fan_out', nonlinearity='relu')\n",
    "            elif isinstance(m, (torch.nn.BatchNorm2d, torch.nn.GroupNorm)):\n",
    "                torch.nn.init.constant_(m.weight, 1)\n",
    "                torch.nn.init.constant_(m.bias, 0)\n",
    "\n",
    "        # Zero-initialize the last BN in each residual branch,\n",
    "        # so that the residual branch starts with zeros, and each residual block behaves like an identity.\n",
    "        # This improves the arch by 0.2~0.3% according to https://arxiv.org/abs/1706.02677\n",
    "\n",
    "\n",
    "\n",
    "    def _forward_impl(self, x):\n",
    "        # See note [TorchScript super()]\n",
    "        x = self.conv1(x)\n",
    "        x = self.bn1(x)\n",
    "        x = self.relu(x)\n",
    "\n",
    "        x = self.layers(x)\n",
    "\n",
    "        x = self.avgpool(x)\n",
    "        x = torch.flatten(x, 1)\n",
    "        x = self.fc(x) # Sigmoid\n",
    "        #x = self.predict(x)\n",
    "        return x\n",
    "\n",
    "initial_conv = [3, 1, 1]\n",
    "NN_model = ResNet(torchvision.models.resnet.BasicBlock, [2, 2, 2, 2], num_classes=10, base_width=64, initial_conv=initial_conv)"
   ]
  },
  {
   "cell_type": "code",
   "execution_count": 6,
   "metadata": {},
   "outputs": [
    {
     "name": "stdout",
     "output_type": "stream",
     "text": [
      "tensor([1.], device='mps:0')\n"
     ]
    }
   ],
   "source": [
    "if torch.backends.mps.is_available():\n",
    "    device = torch.device('mps')\n",
    "    x = torch.ones(1, device=device)\n",
    "    print(x)\n",
    "else:\n",
    "    print(\"Running on a CPU...Uhh, are you sure you want to do this?\")"
   ]
  },
  {
   "cell_type": "code",
   "execution_count": 7,
   "metadata": {},
   "outputs": [
    {
     "data": {
      "text/plain": [
       "ResNet(\n",
       "  (conv1): Conv2d(3, 64, kernel_size=(3, 3), stride=(1, 1), padding=(1, 1), bias=False)\n",
       "  (bn1): BatchNorm2d(64, eps=1e-05, momentum=0.1, affine=True, track_running_stats=True)\n",
       "  (relu): ReLU(inplace=True)\n",
       "  (layers): Sequential(\n",
       "    (0): Sequential(\n",
       "      (0): BasicBlock(\n",
       "        (conv1): Conv2d(64, 64, kernel_size=(3, 3), stride=(1, 1), padding=(1, 1), bias=False)\n",
       "        (bn1): BatchNorm2d(64, eps=1e-05, momentum=0.1, affine=True, track_running_stats=True)\n",
       "        (relu): ReLU(inplace=True)\n",
       "        (conv2): Conv2d(64, 64, kernel_size=(3, 3), stride=(1, 1), padding=(1, 1), bias=False)\n",
       "        (bn2): BatchNorm2d(64, eps=1e-05, momentum=0.1, affine=True, track_running_stats=True)\n",
       "      )\n",
       "      (1): BasicBlock(\n",
       "        (conv1): Conv2d(64, 64, kernel_size=(3, 3), stride=(1, 1), padding=(1, 1), bias=False)\n",
       "        (bn1): BatchNorm2d(64, eps=1e-05, momentum=0.1, affine=True, track_running_stats=True)\n",
       "        (relu): ReLU(inplace=True)\n",
       "        (conv2): Conv2d(64, 64, kernel_size=(3, 3), stride=(1, 1), padding=(1, 1), bias=False)\n",
       "        (bn2): BatchNorm2d(64, eps=1e-05, momentum=0.1, affine=True, track_running_stats=True)\n",
       "      )\n",
       "    )\n",
       "    (1): Sequential(\n",
       "      (0): BasicBlock(\n",
       "        (conv1): Conv2d(64, 128, kernel_size=(3, 3), stride=(2, 2), padding=(1, 1), bias=False)\n",
       "        (bn1): BatchNorm2d(128, eps=1e-05, momentum=0.1, affine=True, track_running_stats=True)\n",
       "        (relu): ReLU(inplace=True)\n",
       "        (conv2): Conv2d(128, 128, kernel_size=(3, 3), stride=(1, 1), padding=(1, 1), bias=False)\n",
       "        (bn2): BatchNorm2d(128, eps=1e-05, momentum=0.1, affine=True, track_running_stats=True)\n",
       "        (downsample): Sequential(\n",
       "          (0): Conv2d(64, 128, kernel_size=(1, 1), stride=(2, 2), bias=False)\n",
       "          (1): BatchNorm2d(128, eps=1e-05, momentum=0.1, affine=True, track_running_stats=True)\n",
       "        )\n",
       "      )\n",
       "      (1): BasicBlock(\n",
       "        (conv1): Conv2d(128, 128, kernel_size=(3, 3), stride=(1, 1), padding=(1, 1), bias=False)\n",
       "        (bn1): BatchNorm2d(128, eps=1e-05, momentum=0.1, affine=True, track_running_stats=True)\n",
       "        (relu): ReLU(inplace=True)\n",
       "        (conv2): Conv2d(128, 128, kernel_size=(3, 3), stride=(1, 1), padding=(1, 1), bias=False)\n",
       "        (bn2): BatchNorm2d(128, eps=1e-05, momentum=0.1, affine=True, track_running_stats=True)\n",
       "      )\n",
       "    )\n",
       "    (2): Sequential(\n",
       "      (0): BasicBlock(\n",
       "        (conv1): Conv2d(128, 256, kernel_size=(3, 3), stride=(2, 2), padding=(1, 1), bias=False)\n",
       "        (bn1): BatchNorm2d(256, eps=1e-05, momentum=0.1, affine=True, track_running_stats=True)\n",
       "        (relu): ReLU(inplace=True)\n",
       "        (conv2): Conv2d(256, 256, kernel_size=(3, 3), stride=(1, 1), padding=(1, 1), bias=False)\n",
       "        (bn2): BatchNorm2d(256, eps=1e-05, momentum=0.1, affine=True, track_running_stats=True)\n",
       "        (downsample): Sequential(\n",
       "          (0): Conv2d(128, 256, kernel_size=(1, 1), stride=(2, 2), bias=False)\n",
       "          (1): BatchNorm2d(256, eps=1e-05, momentum=0.1, affine=True, track_running_stats=True)\n",
       "        )\n",
       "      )\n",
       "      (1): BasicBlock(\n",
       "        (conv1): Conv2d(256, 256, kernel_size=(3, 3), stride=(1, 1), padding=(1, 1), bias=False)\n",
       "        (bn1): BatchNorm2d(256, eps=1e-05, momentum=0.1, affine=True, track_running_stats=True)\n",
       "        (relu): ReLU(inplace=True)\n",
       "        (conv2): Conv2d(256, 256, kernel_size=(3, 3), stride=(1, 1), padding=(1, 1), bias=False)\n",
       "        (bn2): BatchNorm2d(256, eps=1e-05, momentum=0.1, affine=True, track_running_stats=True)\n",
       "      )\n",
       "    )\n",
       "    (3): Sequential(\n",
       "      (0): BasicBlock(\n",
       "        (conv1): Conv2d(256, 512, kernel_size=(3, 3), stride=(2, 2), padding=(1, 1), bias=False)\n",
       "        (bn1): BatchNorm2d(512, eps=1e-05, momentum=0.1, affine=True, track_running_stats=True)\n",
       "        (relu): ReLU(inplace=True)\n",
       "        (conv2): Conv2d(512, 512, kernel_size=(3, 3), stride=(1, 1), padding=(1, 1), bias=False)\n",
       "        (bn2): BatchNorm2d(512, eps=1e-05, momentum=0.1, affine=True, track_running_stats=True)\n",
       "        (downsample): Sequential(\n",
       "          (0): Conv2d(256, 512, kernel_size=(1, 1), stride=(2, 2), bias=False)\n",
       "          (1): BatchNorm2d(512, eps=1e-05, momentum=0.1, affine=True, track_running_stats=True)\n",
       "        )\n",
       "      )\n",
       "      (1): BasicBlock(\n",
       "        (conv1): Conv2d(512, 512, kernel_size=(3, 3), stride=(1, 1), padding=(1, 1), bias=False)\n",
       "        (bn1): BatchNorm2d(512, eps=1e-05, momentum=0.1, affine=True, track_running_stats=True)\n",
       "        (relu): ReLU(inplace=True)\n",
       "        (conv2): Conv2d(512, 512, kernel_size=(3, 3), stride=(1, 1), padding=(1, 1), bias=False)\n",
       "        (bn2): BatchNorm2d(512, eps=1e-05, momentum=0.1, affine=True, track_running_stats=True)\n",
       "      )\n",
       "    )\n",
       "  )\n",
       "  (avgpool): AdaptiveAvgPool2d(output_size=(1, 1))\n",
       "  (fc): Linear(in_features=512, out_features=10, bias=True)\n",
       ")"
      ]
     },
     "execution_count": 7,
     "metadata": {},
     "output_type": "execute_result"
    }
   ],
   "source": [
    "# Setting up training params\n",
    "epochs = 21\n",
    "eta = 0.01\n",
    "optimizer = torch.optim.SGD(params = NN_model.parameters(), lr = eta, weight_decay = 5e-4, momentum=0.9)\n",
    "scheduler = torch.optim.lr_scheduler.ExponentialLR(optimizer, gamma=0.8)\n",
    "\n",
    "loss_fun = nn.CrossEntropyLoss()\n",
    "\n",
    "NN_model.to(device)\n",
    "NN_model.train()"
   ]
  },
  {
   "cell_type": "code",
   "execution_count": 8,
   "metadata": {},
   "outputs": [],
   "source": [
    "# Used for NN\n",
    "DATASET = 'CIFAR10'      # Choose between 'CIFAR2', 'CIFAR10'\n",
    "MODEL = 'RESNET18'       # Choose between 'RESNET18', 'VGG11'\n",
    "AUGMENTS = True          # Use Data Augmentation\n",
    "SAVEMODEL = False         # Save Clean Model\n",
    "# LOADMODEL = False        # Load Clean Model\n",
    "\n",
    "# Save or Load Clean Model\n",
    "\n",
    "import os\n",
    "PATH = \"./pre_trained\"\n",
    "os.makedirs(PATH, exist_ok = True)\n",
    "PATH += \"/resnet_cifar.ptr\""
   ]
  },
  {
   "cell_type": "code",
   "execution_count": 9,
   "metadata": {},
   "outputs": [],
   "source": [
    "def evaluate_model(loader, model, valid_losses = [], correct = 0, total = 0):\n",
    "    model.eval()\n",
    "\n",
    "    # Evaluate Model\n",
    "    for inputs, labels, index in loader:\n",
    "        inputs, labels = inputs.to(device), labels.to(device)\n",
    "\n",
    "\n",
    "        with torch.no_grad():\n",
    "            output = model(inputs)\n",
    "            if DATASET == 'CIFAR2':\n",
    "                labels = labels.to(torch.float32)\n",
    "                output = output.flatten()\n",
    "\n",
    "        # negative labels: when using hinge embedding loss only\n",
    "        flipped_labels = labels # * -1\n",
    "        loss = loss_fun(output, flipped_labels)   # Calculate loss\n",
    "\n",
    "        valid_loss = loss_fun(output, labels)\n",
    "        valid_losses.append(valid_loss.item())\n",
    "\n",
    "        #predictions = torch.argmax(output, dim=1)\n",
    "        if DATASET == 'CIFAR2':\n",
    "            predictions = torch.where(output < 0, 0, 1)\n",
    "        else:\n",
    "            predictions = torch.argmax(output.data, dim=1)\n",
    "        total += labels.size(0)\n",
    "        correct += (predictions == labels).sum().item()\n",
    "\n",
    "    return valid_losses, correct, total\n"
   ]
  },
  {
   "cell_type": "code",
   "execution_count": 10,
   "metadata": {},
   "outputs": [
    {
     "name": "stdout",
     "output_type": "stream",
     "text": [
      "Valid loss: 0.6206142967939376, Accuracy: 0.8369\n"
     ]
    }
   ],
   "source": [
    "# if local model is not supported\n",
    "NN_model.load_state_dict(torch.load(\"./pre_trained/cuda_resnet_cifar.ptr\", map_location='cpu'))\n",
    "NN_model.to('mps')\n",
    "#torch.save(NN_model.state_dict, PATH)\n",
    "\n",
    "valid_losses, correct, total = evaluate_model(testloader, NN_model)\n",
    "print(\"Valid loss: {}, Accuracy: {}\".format(np.mean(valid_losses), correct / total))"
   ]
  },
  {
   "cell_type": "markdown",
   "metadata": {},
   "source": [
    "## SVM Model"
   ]
  },
  {
   "cell_type": "code",
   "execution_count": 11,
   "metadata": {},
   "outputs": [],
   "source": [
    "import numpy as np\n",
    "import torch\n",
    "\n",
    "def rgb_to_gray(images):\n",
    "    # Assuming images are (C, H, W) and C=3 for RGB\n",
    "    return np.dot(images.numpy().transpose((1, 2, 0)), [0.2989, 0.5870, 0.1140])\n",
    "\n",
    "def process_dataset(dataset, label_map=[2, 3, 4, 5, 6, 7]):\n",
    "    x_processed = []\n",
    "    y_processed = []\n",
    "    img_norms = []\n",
    "    for index in range(len(dataset)):\n",
    "        # Retrieve data and target from dataset\n",
    "        data, target, _ = dataset[index]\n",
    "\n",
    "        # Convert image to grayscale\n",
    "        img_grayscale = rgb_to_gray(data)\n",
    "\n",
    "        # Normalize grayscale image\n",
    "        norm = np.linalg.norm(img_grayscale, ord=2)\n",
    "        img_normalized = img_grayscale / norm\n",
    "\n",
    "        # Store the processed image and label\n",
    "        x_processed.append(img_normalized.flatten())\n",
    "        img_norms.append(norm)\n",
    "        y_processed.append(target in label_map)\n",
    "\n",
    "    # Convert lists to numpy arrays\n",
    "    x_processed = np.array(x_processed)\n",
    "    y_processed = np.array(y_processed, dtype=np.float32)\n",
    "    img_norms = np.array(img_norms)\n",
    "\n",
    "    return x_processed, y_processed, img_norms\n",
    "\n",
    "# Process trainset and testset\n",
    "x_train, y_train, norms_train = process_dataset(trainset)\n",
    "x_test, y_test, norms_test = process_dataset(testset)\n"
   ]
  },
  {
   "cell_type": "code",
   "execution_count": 12,
   "metadata": {},
   "outputs": [
    {
     "name": "stdout",
     "output_type": "stream",
     "text": [
      "Elapsed[s] :  7.093708038330078\n",
      "Train : 0.72116\n",
      "Test : 0.7106\n"
     ]
    }
   ],
   "source": [
    "start_time = time.time()\n",
    "\n",
    "#model_SVC = SVC(kernel = 'linear', max_iter=100, probability=True)\n",
    "SVC_model = LinearSVC(loss='hinge', max_iter=30000, dual=True)\n",
    "#fit\n",
    "SVC_model.fit(x_train, y_train)\n",
    "\n",
    "print(\"Elapsed[s] : \", time.time() - start_time)\n",
    "print(\"Train :\", SVC_model.score(x_train, y_train))\n",
    "print(\"Test :\", SVC_model.score(x_test, y_test))"
   ]
  },
  {
   "cell_type": "markdown",
   "metadata": {},
   "source": [
    "## Prepare Target Class/Loader"
   ]
  },
  {
   "cell_type": "code",
   "execution_count": 13,
   "metadata": {},
   "outputs": [],
   "source": [
    "import matplotlib.pyplot as plt\n",
    "\n",
    "def compare_imgages(img1, img2, size, inv_normalize=None):\n",
    "    fig, axs = plt.subplots(1, 2, figsize=(10, 5))\n",
    "\n",
    "    # If an inverse normalization function is provided, apply it\n",
    "    if inv_normalize:\n",
    "        img_to_show = inv_normalize(img1.cpu()).permute(1, 2, 0)\n",
    "    else:\n",
    "        img_to_show = img1.numpy()\n",
    "\n",
    "    # Show original image\n",
    "    axs[0].imshow(img_to_show)  # Transpose back to HxWxC format\n",
    "    axs[0].set_title('Original Image')\n",
    "    axs[0].axis('off')\n",
    "\n",
    "    # Show normalized grayscale image\n",
    "    axs[1].imshow(img2.reshape(size,size,1), cmap='gray')\n",
    "    axs[1].set_title('Grayscale Normalized Image')\n",
    "    axs[1].axis('off')\n",
    "\n",
    "    plt.show()\n",
    "\n",
    "def show_image(dataset, norms, ind=0, inv_normalize=None):\n",
    "    # Assuming 'ind' is a valid index for the dataset\n",
    "    # Retrieve data, target, and the index from the dataset\n",
    "    img, target, _ = dataset[ind]\n",
    "\n",
    "    # Convert PyTorch tensor to numpy array if necessary\n",
    "    img_np = img.numpy()\n",
    "\n",
    "    # Convert RGB to grayscale\n",
    "    img_grayscale = np.dot(img_np.transpose((1, 2, 0)), [0.2989, 0.5870, 0.1140])\n",
    "\n",
    "    # Normalize grayscale image using the norm provided\n",
    "    img_normalized = img_grayscale / norms[ind]\n",
    "\n",
    "    # Create subplots\n",
    "    fig, axs = plt.subplots(1, 2, figsize=(10, 5))\n",
    "\n",
    "    # If an inverse normalization function is provided, apply it\n",
    "    if inv_normalize:\n",
    "        img_to_show = inv_normalize(img).permute(1, 2, 0)\n",
    "    else:\n",
    "        img_to_show = img_np\n",
    "\n",
    "    # Show original image\n",
    "    axs[0].imshow(img_to_show)  # Transpose back to HxWxC format\n",
    "    axs[0].set_title('Original Image')\n",
    "    axs[0].axis('off')\n",
    "\n",
    "    # Show normalized grayscale image\n",
    "    axs[1].imshow(img_normalized, cmap='gray')\n",
    "    axs[1].set_title('Grayscale Normalized Image')\n",
    "    axs[1].axis('off')\n",
    "\n",
    "    plt.show()"
   ]
  },
  {
   "cell_type": "code",
   "execution_count": 14,
   "metadata": {},
   "outputs": [],
   "source": [
    "# classes = [2,3,5] # bird, cat, dog\n",
    "from torch.utils.data import DataLoader, Subset\n",
    "def gen_targetloader(dataset, target_class, num_samples = 100):\n",
    "    target_index = dataset.get_index(target_class)\n",
    "\n",
    "    if len(target_index) > num_samples:\n",
    "        target_index = random.sample(target_index, num_samples)\n",
    "\n",
    "    targetset = data.Subset(dataset, target_index)\n",
    "    targetloader = torch.utils.data.DataLoader(targetset)\n",
    "\n",
    "    return targetloader, target_index\n",
    "\n",
    "def gen_random_subset_dataloader(dataset, num_samples = 100):\n",
    "    indices = random.sample(range(len(dataset)), num_samples)\n",
    "    random_subset = Subset(dataset, indices)\n",
    "\n",
    "    return DataLoader(random_subset), indices"
   ]
  },
  {
   "cell_type": "markdown",
   "metadata": {},
   "source": [
    "### Examples"
   ]
  },
  {
   "cell_type": "code",
   "execution_count": 15,
   "metadata": {},
   "outputs": [],
   "source": [
    "bird_targetloader, bird_indices = gen_targetloader(testset, target_class = 2)"
   ]
  },
  {
   "cell_type": "code",
   "execution_count": 16,
   "metadata": {},
   "outputs": [
    {
     "data": {
      "image/png": "[encoded data removed]",
      "text/plain": [
       "<Figure size 1000x500 with 2 Axes>"
      ]
     },
     "metadata": {},
     "output_type": "display_data"
    }
   ],
   "source": [
    "show_image(testset, norms_test, bird_indices[3], inv_normalize)"
   ]
  },
  {
   "cell_type": "markdown",
   "metadata": {},
   "source": [
    "## Generate ZKML for Resnet and SVC models"
   ]
  },
  {
   "cell_type": "code",
   "execution_count": 17,
   "metadata": {},
   "outputs": [],
   "source": [
    "# here we create and (potentially train a model)\n",
    "\n",
    "# make sure you have the dependencies required here already installed\n",
    "import json\n",
    "#import numpy as np\n",
    "from sklearn.svm import SVC\n",
    "import sk2torch\n",
    "#import torch\n",
    "import ezkl\n",
    "import os\n",
    "\n",
    "import warnings\n",
    "warnings.filterwarnings('ignore')"
   ]
  },
  {
   "cell_type": "code",
   "execution_count": 18,
   "metadata": {},
   "outputs": [
    {
     "name": "stdout",
     "output_type": "stream",
     "text": [
      "Directory './tmp/' created successfully\n"
     ]
    }
   ],
   "source": [
    "async def async_function(data_path, model_path, settings_path, resource_string):\n",
    "    res = await ezkl.calibrate_settings(data_path, model_path, settings_path, resource_string)\n",
    "    assert res == True\n",
    "\n",
    "folder = \"./tmp/\"\n",
    "\n",
    "# Create the directory 'tmp' in the current working directory\n",
    "try:\n",
    "    os.makedirs(folder, exist_ok=True)\n",
    "    print(f\"Directory '{folder}' created successfully\")\n",
    "except OSError as error:\n",
    "    print(f\"Directory '{folder}' cannot be created. Error: {error}\")"
   ]
  },
  {
   "cell_type": "code",
   "execution_count": 19,
   "metadata": {},
   "outputs": [],
   "source": [
    "def gen_SVC_verifier(model, grayscale_img, agg = False):\n",
    "    model_path = os.path.join(folder, 'network.onnx')\n",
    "    compiled_model_path = os.path.join(folder, 'network.compiled')\n",
    "    settings_path = os.path.join(folder, 'settings.json') \n",
    "    witness_path = os.path.join(folder, 'witness.json')\n",
    "    data_path = os.path.join(folder, 'input.json')\n",
    "    cal_data_path = os.path.join(folder, 'cal_data.json')\n",
    "\n",
    "    #srs_path = os.path.join(folder, 'kzg.srs')\n",
    "\n",
    "    pk_path = os.path.join(folder, 'test.pk')\n",
    "    vk_path = os.path.join(folder, 'test.vk')\n",
    "    proof_path = os.path.join(folder, 'proof.json')\n",
    "\n",
    "    grayscale_img = grayscale_img.reshape(1,-1)\n",
    "    model = sk2torch.wrap(model)\n",
    "    x = torch.from_numpy(grayscale_img)\n",
    "    torch_out = model.predict(x)\n",
    "\n",
    "    torch.onnx.export(model,               # model being run\n",
    "                    # model input (or a tuple for multiple inputs)\n",
    "                    x,\n",
    "                    # where to save the model (can be a file or file-like object)\n",
    "                    model_path,\n",
    "                    export_params=True,        # store the trained parameter weights inside the model file\n",
    "                    opset_version=10,          # the ONNX version to export the model to\n",
    "                    do_constant_folding=True,  # whether to execute constant folding for optimization\n",
    "                    input_names=['input'],   # the model's input names\n",
    "                    output_names=['output'],  # the model's output names\n",
    "                    dynamic_axes={'input': {0: 'batch_size'},    # variable length axes\n",
    "                                    'output': {0: 'batch_size'}})\n",
    "\n",
    "    d = ((x).detach().numpy()).reshape([-1]).tolist()\n",
    "\n",
    "    data = dict(input_shapes=[grayscale_img.shape[1:]],\n",
    "                input_data=[d],\n",
    "                output_data=[o.reshape([-1]).tolist() for o in torch_out])\n",
    "\n",
    "    # Serialize data into file:\n",
    "    json.dump(data, open(data_path, 'w'))\n",
    "\n",
    "    #cal_data = dict(input_data = )\n",
    "\n",
    "    !RUST_LOG=trace\n",
    "    # TODO: Dictionary outputs\n",
    "    res = ezkl.gen_settings(model_path, settings_path)\n",
    "    assert res == True\n",
    "\n",
    "    res = ezkl.calibrate_settings(data_path, model_path, settings_path, \"resources\")  # Optimize for resources\n",
    "    #res = async_function(data_path, model_path, settings_path, \"resource\")\n",
    "\n",
    "    res = ezkl.compile_circuit(model_path, compiled_model_path, settings_path)\n",
    "    assert res == True\n",
    "\n",
    "    # srs path\n",
    "    res = ezkl.get_srs(settings_path)\n",
    "\n",
    "    res = ezkl.setup(\n",
    "        compiled_model_path,\n",
    "        vk_path,\n",
    "        pk_path,\n",
    "    )\n",
    "\n",
    "    assert res == True\n",
    "    assert os.path.isfile(vk_path)\n",
    "    assert os.path.isfile(pk_path)\n",
    "    assert os.path.isfile(settings_path)\n",
    "    \n",
    "    # now generate the witness file\n",
    "    res = ezkl.gen_witness(data_path, compiled_model_path, witness_path)\n",
    "    assert os.path.isfile(witness_path)\n",
    "\n",
    "    # GENERATE A PROOF\n",
    "    res = ezkl.prove(\n",
    "            witness_path,\n",
    "            compiled_model_path,\n",
    "            pk_path,\n",
    "            proof_path,\n",
    "\n",
    "            \"single\", # for aggregated EVM proof only ELSE 'evm'\n",
    "        )\n",
    "    print ('Successfully generate ZK Proof!')\n",
    "    #print(res)\n",
    "    assert os.path.isfile(proof_path)\n",
    "\n",
    "    # verify our proof\n",
    "    res = ezkl.verify(\n",
    "            proof_path,\n",
    "            settings_path,\n",
    "            vk_path,\n",
    "        )\n",
    "\n",
    "    assert res == True\n",
    "    print(\"verified\")"
   ]
  },
  {
   "cell_type": "code",
   "execution_count": null,
   "metadata": {},
   "outputs": [],
   "source": [
    "gen_SVC_verifier(SVC_model, x_test[0])"
   ]
  },
  {
   "cell_type": "code",
   "execution_count": 31,
   "metadata": {},
   "outputs": [],
   "source": [
    "model = SVC_model\n",
    "grayscale_img = x_test[0]"
   ]
  },
  {
   "cell_type": "code",
   "execution_count": 32,
   "metadata": {},
   "outputs": [],
   "source": [
    "model_path = os.path.join(folder, 'network.onnx')\n",
    "compiled_model_path = os.path.join(folder, 'network.compiled')\n",
    "settings_path = os.path.join(folder, 'settings.json') \n",
    "witness_path = os.path.join(folder, 'witness.json')\n",
    "data_path = os.path.join(folder, 'input.json')\n",
    "cal_data_path = os.path.join(folder, 'cal_data.json')\n",
    "\n",
    "srs_path = os.path.join(folder, 'kzg.srs')\n",
    "\n",
    "pk_path = os.path.join(folder, 'test.pk')\n",
    "vk_path = os.path.join(folder, 'test.vk')\n",
    "proof_path = os.path.join(folder, 'proof.json')\n",
    "\n",
    "grayscale_img = grayscale_img.reshape(1,-1)\n",
    "model = sk2torch.wrap(model)\n",
    "x = torch.from_numpy(grayscale_img)\n",
    "torch_out = model.predict(x)\n",
    "\n",
    "torch.onnx.export(model,               # model being run\n",
    "                # model input (or a tuple for multiple inputs)\n",
    "                x,\n",
    "                # where to save the model (can be a file or file-like object)\n",
    "                model_path,\n",
    "                export_params=True,        # store the trained parameter weights inside the model file\n",
    "                opset_version=10,          # the ONNX version to export the model to\n",
    "                do_constant_folding=True,  # whether to execute constant folding for optimization\n",
    "                input_names=['input'],   # the model's input names\n",
    "                output_names=['output'],  # the model's output names\n",
    "                dynamic_axes={'input': {0: 'batch_size'},    # variable length axes\n",
    "                                'output': {0: 'batch_size'}})\n",
    "\n",
    "d = ((x).detach().numpy()).reshape([-1]).tolist()\n",
    "\n",
    "data = dict(input_shapes=[grayscale_img.shape[1:]],\n",
    "            input_data=[d],\n",
    "            output_data=[o.reshape([-1]).tolist() for o in torch_out])\n",
    "\n",
    "# Serialize data into file:\n",
    "json.dump(data, open(data_path, 'w'))"
   ]
  },
  {
   "cell_type": "code",
   "execution_count": 33,
   "metadata": {},
   "outputs": [],
   "source": [
    "!RUST_LOG=trace\n",
    "# TODO: Dictionary outputs\n",
    "res = ezkl.gen_settings(model_path, settings_path)\n",
    "assert res == True\n",
    "\n",
    "res = async_function(data_path, model_path, settings_path, \"resource\")\n",
    "#assert res == True"
   ]
  },
  {
   "cell_type": "code",
   "execution_count": null,
   "metadata": {},
   "outputs": [],
   "source": [
    "#await res = ezkl.calibrate_settings(data_path, model_path, settings_path, \"resources\")"
   ]
  },
  {
   "cell_type": "code",
   "execution_count": 34,
   "metadata": {},
   "outputs": [],
   "source": [
    "res = ezkl.compile_circuit(model_path, compiled_model_path, settings_path)\n",
    "assert res == True"
   ]
  },
  {
   "cell_type": "code",
   "execution_count": 27,
   "metadata": {},
   "outputs": [],
   "source": [
    "res = ezkl.get_srs(srs_path, settings_path)"
   ]
  },
  {
   "cell_type": "code",
   "execution_count": null,
   "metadata": {},
   "outputs": [],
   "source": []
  },
  {
   "cell_type": "code",
   "execution_count": 28,
   "metadata": {},
   "outputs": [
    {
     "name": "stderr",
     "output_type": "stream",
     "text": [
      "spawning module 2\n",
      "spawning module 2\n"
     ]
    }
   ],
   "source": [
    "res = ezkl.setup(\n",
    "        compiled_model_path,\n",
    "        vk_path,\n",
    "        pk_path,\n",
    "        srs_path,\n",
    "    )\n",
    " \n",
    "\n",
    "assert res == True\n",
    "assert os.path.isfile(vk_path)\n",
    "assert os.path.isfile(pk_path)\n",
    "assert os.path.isfile(settings_path)"
   ]
  },
  {
   "cell_type": "code",
   "execution_count": 29,
   "metadata": {},
   "outputs": [],
   "source": [
    "res = ezkl.gen_witness(data_path, compiled_model_path, witness_path)\n",
    "assert os.path.isfile(witness_path)"
   ]
  },
  {
   "cell_type": "code",
   "execution_count": 35,
   "metadata": {},
   "outputs": [
    {
     "name": "stderr",
     "output_type": "stream",
     "text": [
      "spawning module 2\n"
     ]
    },
    {
     "name": "stdout",
     "output_type": "stream",
     "text": [
      "{'instances': [[[8895048820941913435, 12590578388187041751, 10644156957292843428, 485414809211466155]]], 'proof': '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', 'transcript_type': 'EVM'}\n"
     ]
    }
   ],
   "source": [
    "proof = ezkl.prove(\n",
    "        witness_path,\n",
    "        compiled_model_path,\n",
    "        pk_path,\n",
    "        proof_path,\n",
    "        srs_path,\n",
    "        \"single\",\n",
    "    )\n",
    "\n",
    "print(proof)\n",
    "assert os.path.isfile(proof_path)"
   ]
  },
  {
   "cell_type": "code",
   "execution_count": 36,
   "metadata": {},
   "outputs": [
    {
     "name": "stdout",
     "output_type": "stream",
     "text": [
      "verified\n"
     ]
    }
   ],
   "source": [
    "# verify our proof\n",
    "res = ezkl.verify(\n",
    "        proof_path,\n",
    "        settings_path,\n",
    "        vk_path,\n",
    "        srs_path,\n",
    "    )\n",
    "\n",
    "assert res == True\n",
    "print(\"verified\")"
   ]
  },
  {
   "cell_type": "code",
   "execution_count": null,
   "metadata": {},
   "outputs": [],
   "source": []
  }
 ],
 "metadata": {
  "kernelspec": {
   "display_name": "Python 3",
   "language": "python",
   "name": "python3"
  },
  "language_info": {
   "codemirror_mode": {
    "name": "ipython",
    "version": 3
   },
   "file_extension": ".py",
   "mimetype": "text/x-python",
   "name": "python",
   "nbconvert_exporter": "python",
   "pygments_lexer": "ipython3",
   "version": "3.11.3"
  }
 },
 "nbformat": 4,
 "nbformat_minor": 2
}
