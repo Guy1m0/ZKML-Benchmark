{
 "cells": [
  {
   "cell_type": "code",
   "execution_count": 2,
   "metadata": {},
   "outputs": [
    {
     "name": "stderr",
     "output_type": "stream",
     "text": [
      "2024-02-19 20:40:31.178717: I tensorflow/core/util/port.cc:113] oneDNN custom operations are on. You may see slightly different numerical results due to floating-point round-off errors from different computation orders. To turn them off, set the environment variable `TF_ENABLE_ONEDNN_OPTS=0`.\n",
      "2024-02-19 20:40:31.201048: E external/local_xla/xla/stream_executor/cuda/cuda_dnn.cc:9261] Unable to register cuDNN factory: Attempting to register factory for plugin cuDNN when one has already been registered\n",
      "2024-02-19 20:40:31.201073: E external/local_xla/xla/stream_executor/cuda/cuda_fft.cc:607] Unable to register cuFFT factory: Attempting to register factory for plugin cuFFT when one has already been registered\n",
      "2024-02-19 20:40:31.201811: E external/local_xla/xla/stream_executor/cuda/cuda_blas.cc:1515] Unable to register cuBLAS factory: Attempting to register factory for plugin cuBLAS when one has already been registered\n",
      "2024-02-19 20:40:31.205666: I tensorflow/core/platform/cpu_feature_guard.cc:182] This TensorFlow binary is optimized to use available CPU instructions in performance-critical operations.\n",
      "To enable the following instructions: AVX2 AVX_VNNI FMA, in other operations, rebuild TensorFlow with the appropriate compiler flags.\n",
      "2024-02-19 20:40:31.689222: W tensorflow/compiler/tf2tensorrt/utils/py_utils.cc:38] TF-TRT Warning: Could not find TensorRT\n"
     ]
    }
   ],
   "source": [
    "import tensorflow as tf"
   ]
  },
  {
   "cell_type": "code",
   "execution_count": 1,
   "metadata": {},
   "outputs": [],
   "source": [
    "def gen_model_dnn(layers, model_in_path):\n",
    "    if len(layers) == 3:\n",
    "        inputs = tf.keras.layers.Input(shape=(layers[0],))\n",
    "        out = tf.keras.layers.Dense(layers[1], activation = 'relu')(inputs)\n",
    "        out = tf.keras.layers.Dense(layers[2])(out)\n",
    "\n",
    "        model = tf.keras.Model(inputs, out)\n",
    "\n",
    "    elif len(layers) == 4:\n",
    "        inputs = tf.keras.layers.Input(shape=(layers[0],))\n",
    "        out = tf.keras.layers.Dense(layers[1], activation = 'relu')(inputs)\n",
    "        out = tf.keras.layers.Dense(layers[2], activation = 'relu')(out)\n",
    "        out = tf.keras.layers.Dense(layers[3])(out)\n",
    "\n",
    "        model = tf.keras.Model(inputs, out)\n",
    "    else:\n",
    "        print (\"Layers not Support\")\n",
    "        return None\n",
    "    \n",
    "    model.load_weights(model_in_path)\n",
    "    model.compile(optimizer='adam', \n",
    "              loss='sparse_categorical_crossentropy', \n",
    "              metrics=['accuracy'])\n",
    "    return model\n",
    "\n",
    "# @ TODO: Hardcoded\n",
    "def gen_model_cnn(layers, model_in_path):\n",
    "    kernal_size = layers[-1]\n",
    "\n",
    "    # Define the LeNet model in TensorFlow\n",
    "    inputs = tf.keras.layers.Input(shape=(layers[0],layers[0],1))\n",
    "    out = tf.keras.layers.Conv2D(layers[1],kernal_size, use_bias = True)(inputs)\n",
    "    out = tf.keras.layers.ReLU()(out)\n",
    "    out = tf.keras.layers.AveragePooling2D()(out)\n",
    "    out = tf.keras.layers.Conv2D(layers[2],kernal_size, use_bias = True)(out)\n",
    "    out = tf.keras.layers.ReLU()(out)\n",
    "    out = tf.keras.layers.AveragePooling2D()(out)\n",
    "    out = tf.keras.layers.Flatten()(out)\n",
    "    out = tf.keras.layers.Dense(layers[3])(out)\n",
    "\n",
    "    if len(layers) >= 6:\n",
    "        out = tf.keras.layers.ReLU()(out)\n",
    "        out = tf.keras.layers.Dense(layers[4])(out)\n",
    "\n",
    "    if len(layers) >= 7:\n",
    "        out = tf.keras.layers.ReLU()(out)\n",
    "        out = tf.keras.layers.Dense(layers[5])(out)\n",
    "\n",
    "    model = tf.keras.Model(inputs, out)\n",
    "\n",
    "    model.load_weights(model_in_path)\n",
    "\n",
    "    # Compile the model\n",
    "    model.compile(optimizer='adam',\n",
    "                 loss=tf.keras.losses.SparseCategoricalCrossentropy(from_logits=True),\n",
    "                 metrics=['accuracy'])\n",
    "    return model"
   ]
  },
  {
   "cell_type": "code",
   "execution_count": 3,
   "metadata": {},
   "outputs": [],
   "source": [
    "def get_model_path(layers):\n",
    "    if layers[0] > 30:\n",
    "        arch_folder = \"./input\" + (len(layers)-1) * \"-dense\" + \"/\"\n",
    "    else:\n",
    "        arch_folder = \"./input-conv2d-conv2d\" + (len(layers) - 4) * \"-dense\" + \"/\"\n",
    "\n",
    "    return arch_folder + '_'.join([str(x) for x in layers]) + '.h5'\n"
   ]
  },
  {
   "cell_type": "code",
   "execution_count": 4,
   "metadata": {},
   "outputs": [],
   "source": [
    "def get_model_info(layers):\n",
    "    if layers[0] == 784 or layers[0] == 28:\n",
    "        tests = test_images_tf\n",
    "    else:\n",
    "        tests = test_images_tf_downsampled\n",
    "\n",
    "    if layers[0] > 30:\n",
    "        model_in_path = get_model_path(layers)\n",
    "        model = gen_model_dnn(layers, model_in_path)\n",
    "        model.summary()\n",
    "    else:\n",
    "        model_in_path = get_model_path(layers)\n",
    "        model = gen_model_cnn(layers, model_in_path)\n",
    "        model.summary()      \n",
    "\n",
    "    # Evaluate the model\n",
    "    test_loss, test_acc = model.evaluate(tests, test_labels, verbose=2)\n",
    "    print('\\nTest accuracy:', test_acc)\n"
   ]
  },
  {
   "cell_type": "markdown",
   "metadata": {},
   "source": [
    "## DNN"
   ]
  },
  {
   "cell_type": "code",
   "execution_count": 23,
   "metadata": {},
   "outputs": [],
   "source": [
    "# Load TensorFlow MNIST data\n",
    "mnist = tf.keras.datasets.mnist\n",
    "(train_images, train_labels), (test_images, test_labels) = mnist.load_data()\n",
    "\n",
    "# Normalize and flatten the images\n",
    "train_images_tf = train_images.reshape((-1, 28*28)) / 255.0\n",
    "test_images_tf = test_images.reshape((-1, 28*28)) / 255.0\n",
    "\n",
    "# Resize for 14 * 14 images\n",
    "train_images_tf_reshaped = tf.reshape(train_images_tf, [-1, 28, 28, 1])  # Reshape to [num_samples, height, width, channels]\n",
    "test_images_tf_reshaped = tf.reshape(test_images_tf, [-1, 28, 28, 1])\n",
    "\n",
    "# Downsample images\n",
    "train_images_tf_downsampled = tf.image.resize(train_images_tf_reshaped, [14, 14], method='bilinear')\n",
    "test_images_tf_downsampled = tf.image.resize(test_images_tf_reshaped, [14, 14], method='bilinear')\n",
    "\n",
    "# Flatten the images back to [num_samples, 14*14]\n",
    "train_images_tf_downsampled = tf.reshape(train_images_tf_downsampled, [-1, 14*14])\n",
    "test_images_tf_downsampled = tf.reshape(test_images_tf_downsampled, [-1, 14*14])"
   ]
  },
  {
   "cell_type": "code",
   "execution_count": 20,
   "metadata": {},
   "outputs": [
    {
     "name": "stdout",
     "output_type": "stream",
     "text": [
      "Model: \"model_6\"\n",
      "_________________________________________________________________\n",
      " Layer (type)                Output Shape              Param #   \n",
      "=================================================================\n",
      " input_7 (InputLayer)        [(None, 196)]             0         \n",
      "                                                                 \n",
      " dense_13 (Dense)            (None, 25)                4925      \n",
      "                                                                 \n",
      " dense_14 (Dense)            (None, 10)                260       \n",
      "                                                                 \n",
      "=================================================================\n",
      "Total params: 5185 (20.25 KB)\n",
      "Trainable params: 5185 (20.25 KB)\n",
      "Non-trainable params: 0 (0.00 Byte)\n",
      "_________________________________________________________________\n",
      "313/313 - 0s - loss: 0.8117 - accuracy: 0.9541 - 324ms/epoch - 1ms/step\n",
      "\n",
      "Test accuracy: 0.9541000127792358\n"
     ]
    }
   ],
   "source": [
    "layers = [196,25,10]\n",
    "get_model_info(layers)"
   ]
  },
  {
   "cell_type": "code",
   "execution_count": 19,
   "metadata": {},
   "outputs": [
    {
     "name": "stdout",
     "output_type": "stream",
     "text": [
      "Model: \"model_5\"\n",
      "_________________________________________________________________\n",
      " Layer (type)                Output Shape              Param #   \n",
      "=================================================================\n",
      " input_6 (InputLayer)        [(None, 196)]             0         \n",
      "                                                                 \n",
      " dense_10 (Dense)            (None, 24)                4728      \n",
      "                                                                 \n",
      " dense_11 (Dense)            (None, 14)                350       \n",
      "                                                                 \n",
      " dense_12 (Dense)            (None, 10)                150       \n",
      "                                                                 \n",
      "=================================================================\n",
      "Total params: 5228 (20.42 KB)\n",
      "Trainable params: 5228 (20.42 KB)\n",
      "Non-trainable params: 0 (0.00 Byte)\n",
      "_________________________________________________________________\n",
      "313/313 - 0s - loss: 0.5499 - accuracy: 0.9556 - 416ms/epoch - 1ms/step\n",
      "\n",
      "Test accuracy: 0.9556000232696533\n"
     ]
    }
   ],
   "source": [
    "layers = [196,24,14,10]\n",
    "get_model_info(layers)"
   ]
  },
  {
   "cell_type": "code",
   "execution_count": 21,
   "metadata": {},
   "outputs": [
    {
     "name": "stdout",
     "output_type": "stream",
     "text": [
      "Model: \"model_7\"\n",
      "_________________________________________________________________\n",
      " Layer (type)                Output Shape              Param #   \n",
      "=================================================================\n",
      " input_8 (InputLayer)        [(None, 784)]             0         \n",
      "                                                                 \n",
      " dense_15 (Dense)            (None, 56)                43960     \n",
      "                                                                 \n",
      " dense_16 (Dense)            (None, 10)                570       \n",
      "                                                                 \n",
      "=================================================================\n",
      "Total params: 44530 (173.95 KB)\n",
      "Trainable params: 44530 (173.95 KB)\n",
      "Non-trainable params: 0 (0.00 Byte)\n",
      "_________________________________________________________________\n",
      "313/313 - 0s - loss: 0.5807 - accuracy: 0.9740 - 258ms/epoch - 823us/step\n",
      "\n",
      "Test accuracy: 0.9739999771118164\n"
     ]
    }
   ],
   "source": [
    "layers = [784,56,10]\n",
    "get_model_info(layers)"
   ]
  },
  {
   "cell_type": "markdown",
   "metadata": {},
   "source": [
    "## CNN"
   ]
  },
  {
   "cell_type": "code",
   "execution_count": 8,
   "metadata": {},
   "outputs": [],
   "source": [
    "# Load TensorFlow MNIST data\n",
    "mnist = tf.keras.datasets.mnist\n",
    "(train_images, train_labels), (test_images, test_labels) = mnist.load_data()\n",
    "\n",
    "train_images_tf = train_images / 255.0\n",
    "test_images_tf = test_images / 255.0\n",
    "train_images_tf = train_images_tf.reshape(train_images.shape[0], 28, 28, 1)\n",
    "test_images_tf = test_images_tf.reshape(test_images.shape[0], 28, 28, 1)\n",
    "\n",
    "train_images_tf_downsampled = tf.image.resize(train_images_tf, [14, 14]).numpy()\n",
    "test_images_tf_downsampled = tf.image.resize(test_images_tf, [14, 14]).numpy()"
   ]
  },
  {
   "cell_type": "code",
   "execution_count": 6,
   "metadata": {},
   "outputs": [
    {
     "name": "stdout",
     "output_type": "stream",
     "text": [
      "Model: \"model\"\n",
      "_________________________________________________________________\n",
      " Layer (type)                Output Shape              Param #   \n",
      "=================================================================\n",
      " input_1 (InputLayer)        [(None, 28, 28, 1)]       0         \n",
      "                                                                 \n",
      " conv2d (Conv2D)             (None, 24, 24, 6)         156       \n",
      "                                                                 \n",
      " re_lu (ReLU)                (None, 24, 24, 6)         0         \n",
      "                                                                 \n",
      " average_pooling2d (Average  (None, 12, 12, 6)         0         \n",
      " Pooling2D)                                                      \n",
      "                                                                 \n",
      " conv2d_1 (Conv2D)           (None, 8, 8, 16)          2416      \n",
      "                                                                 \n",
      " re_lu_1 (ReLU)              (None, 8, 8, 16)          0         \n",
      "                                                                 \n",
      " average_pooling2d_1 (Avera  (None, 4, 4, 16)          0         \n",
      " gePooling2D)                                                    \n",
      "                                                                 \n",
      " flatten (Flatten)           (None, 256)               0         \n",
      "                                                                 \n",
      " dense (Dense)               (None, 10)                2570      \n",
      "                                                                 \n",
      "=================================================================\n",
      "Total params: 5142 (20.09 KB)\n",
      "Trainable params: 5142 (20.09 KB)\n",
      "Non-trainable params: 0 (0.00 Byte)\n",
      "_________________________________________________________________\n"
     ]
    },
    {
     "name": "stderr",
     "output_type": "stream",
     "text": [
      "2024-02-19 20:40:52.872979: I external/local_xla/xla/stream_executor/cuda/cuda_dnn.cc:454] Loaded cuDNN version 8902\n",
      "2024-02-19 20:40:52.912375: I external/local_tsl/tsl/platform/default/subprocess.cc:304] Start cannot spawn child process: No such file or directory\n"
     ]
    },
    {
     "name": "stdout",
     "output_type": "stream",
     "text": [
      "313/313 - 1s - loss: 0.0417 - accuracy: 0.9866 - 666ms/epoch - 2ms/step\n",
      "\n",
      "Test accuracy: 0.9865999817848206\n"
     ]
    }
   ],
   "source": [
    "layers = [28,6,16,10,5]\n",
    "get_model_info(layers)"
   ]
  },
  {
   "cell_type": "code",
   "execution_count": 9,
   "metadata": {},
   "outputs": [
    {
     "name": "stdout",
     "output_type": "stream",
     "text": [
      "Model: \"model_1\"\n",
      "_________________________________________________________________\n",
      " Layer (type)                Output Shape              Param #   \n",
      "=================================================================\n",
      " input_2 (InputLayer)        [(None, 14, 14, 1)]       0         \n",
      "                                                                 \n",
      " conv2d_2 (Conv2D)           (None, 12, 12, 5)         50        \n",
      "                                                                 \n",
      " re_lu_2 (ReLU)              (None, 12, 12, 5)         0         \n",
      "                                                                 \n",
      " average_pooling2d_2 (Avera  (None, 6, 6, 5)           0         \n",
      " gePooling2D)                                                    \n",
      "                                                                 \n",
      " conv2d_3 (Conv2D)           (None, 4, 4, 11)          506       \n",
      "                                                                 \n",
      " re_lu_3 (ReLU)              (None, 4, 4, 11)          0         \n",
      "                                                                 \n",
      " average_pooling2d_3 (Avera  (None, 2, 2, 11)          0         \n",
      " gePooling2D)                                                    \n",
      "                                                                 \n",
      " flatten_1 (Flatten)         (None, 44)                0         \n",
      "                                                                 \n",
      " dense_1 (Dense)             (None, 80)                3600      \n",
      "                                                                 \n",
      " re_lu_4 (ReLU)              (None, 80)                0         \n",
      "                                                                 \n",
      " dense_2 (Dense)             (None, 10)                810       \n",
      "                                                                 \n",
      "=================================================================\n",
      "Total params: 4966 (19.40 KB)\n",
      "Trainable params: 4966 (19.40 KB)\n",
      "Non-trainable params: 0 (0.00 Byte)\n",
      "_________________________________________________________________\n"
     ]
    },
    {
     "name": "stderr",
     "output_type": "stream",
     "text": [
      "2024-02-19 20:41:44.150879: I external/local_tsl/tsl/platform/default/subprocess.cc:304] Start cannot spawn child process: No such file or directory\n"
     ]
    },
    {
     "name": "stdout",
     "output_type": "stream",
     "text": [
      "313/313 - 0s - loss: 0.0971 - accuracy: 0.9707 - 403ms/epoch - 1ms/step\n",
      "\n",
      "Test accuracy: 0.9707000255584717\n"
     ]
    }
   ],
   "source": [
    "layers = [14,5,11,80,10,3]\n",
    "get_model_info(layers)"
   ]
  },
  {
   "cell_type": "code",
   "execution_count": 10,
   "metadata": {},
   "outputs": [
    {
     "name": "stdout",
     "output_type": "stream",
     "text": [
      "Model: \"model_2\"\n",
      "_________________________________________________________________\n",
      " Layer (type)                Output Shape              Param #   \n",
      "=================================================================\n",
      " input_3 (InputLayer)        [(None, 28, 28, 1)]       0         \n",
      "                                                                 \n",
      " conv2d_4 (Conv2D)           (None, 24, 24, 6)         156       \n",
      "                                                                 \n",
      " re_lu_5 (ReLU)              (None, 24, 24, 6)         0         \n",
      "                                                                 \n",
      " average_pooling2d_4 (Avera  (None, 12, 12, 6)         0         \n",
      " gePooling2D)                                                    \n",
      "                                                                 \n",
      " conv2d_5 (Conv2D)           (None, 8, 8, 16)          2416      \n",
      "                                                                 \n",
      " re_lu_6 (ReLU)              (None, 8, 8, 16)          0         \n",
      "                                                                 \n",
      " average_pooling2d_5 (Avera  (None, 4, 4, 16)          0         \n",
      " gePooling2D)                                                    \n",
      "                                                                 \n",
      " flatten_2 (Flatten)         (None, 256)               0         \n",
      "                                                                 \n",
      " dense_3 (Dense)             (None, 120)               30840     \n",
      "                                                                 \n",
      " re_lu_7 (ReLU)              (None, 120)               0         \n",
      "                                                                 \n",
      " dense_4 (Dense)             (None, 84)                10164     \n",
      "                                                                 \n",
      " re_lu_8 (ReLU)              (None, 84)                0         \n",
      "                                                                 \n",
      " dense_5 (Dense)             (None, 10)                850       \n",
      "                                                                 \n",
      "=================================================================\n",
      "Total params: 44426 (173.54 KB)\n",
      "Trainable params: 44426 (173.54 KB)\n",
      "Non-trainable params: 0 (0.00 Byte)\n",
      "_________________________________________________________________\n",
      "313/313 - 0s - loss: 0.0377 - accuracy: 0.9872 - 411ms/epoch - 1ms/step\n",
      "\n",
      "Test accuracy: 0.9872000217437744\n"
     ]
    }
   ],
   "source": [
    "layers = [28,6,16,120,84,10,5]\n",
    "get_model_info(layers)"
   ]
  },
  {
   "cell_type": "code",
   "execution_count": null,
   "metadata": {},
   "outputs": [],
   "source": []
  }
 ],
 "metadata": {
  "kernelspec": {
   "display_name": "env",
   "language": "python",
   "name": "python3"
  },
  "language_info": {
   "codemirror_mode": {
    "name": "ipython",
    "version": 3
   },
   "file_extension": ".py",
   "mimetype": "text/x-python",
   "name": "python",
   "nbconvert_exporter": "python",
   "pygments_lexer": "ipython3",
   "version": "3.10.12"
  }
 },
 "nbformat": 4,
 "nbformat_minor": 2
}
